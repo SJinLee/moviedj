{
 "cells": [
  {
   "cell_type": "markdown",
   "metadata": {},
   "source": [
    "### 0. 참고논문\n",
    "1. 머신러닝 기반 음식점 추천시스템 설계 및 구현 - 최환석, 팽전, 이우섭 2020\n",
    "2. 영화리뷰 감성분석 데이터: https://raw.githubusercontent.com/e9t/nsmc/master/ratings_train.txt , <br>https://raw.githubusercontent.com/e9t/nsmc/master/ratings_test.txt"
   ]
  },
  {
   "cell_type": "markdown",
   "metadata": {},
   "source": [
    "### 1. 서론\n",
    "\n",
    "* 클러스터링은 비슷한 데이터를 하나의 그룹으로 만들어 주는 머신러닝 알고리즘 중 하나이다. 어떤 사람에게 음식점을 추천한다고 가정할 때,\n",
    "비슷한 음식점을 추천하면 실패할 가능성이 적을 것이다([1]). 이런 관점에서 클러스터링은 좋은 추천 알고리즘이라고 볼 수 있다. 비슷한 음식점이라는 것을 여러 가지 방법으로 생각할 수 있는 데, 여러 종류의 평점도 비슷한 음식점을 찾아내는 데 좋은 데이터라고 할 수 있고, 리뷰에서 비슷한 음식점을 찾는 것도 좋은 방법이다. 우리는 영화를 추천하는 것을 해보기로 하였다. 영화도 다양한 평가 점수가 있고, 리뷰도 많아서 추천시스템을 만들기 좋다고 생각하였다. \n",
    "\n",
    "### 2. 연구방법\n",
    "\n",
    "#### 2.1 데이터\n",
    "\n",
    "* 머신러닝을 위해서는 많은 데이터가 필요한데, 이 데이터를 얻기가 쉽지는 않았다. 영화리뷰 감성분석에 관한 데이터([2])가 있는 데, 여기는 영화리뷰와 긍정,부정 평가 결과로 구성되어 있어서, 영화 추천에 필요한 정보가 많지는 않았다. 영화 데이터를 얻을 수 있는 사이트는 네이버, 등이 있었다. 이 사이트에는 평점, 리뷰가 있어서 추천 시스템을 만들기 적합하다고 생각되었고, 우선 작은 데이터를 만들어 시험해보기로 하였다. 영화 100개를 선정하고 이들 영화에 대한 평점과 리뷰를 수집하였다. 시간이 많지 않았으므로 일부 데이터는 크롤링 프로그램을 이용하여 수집하였다. 데이터의 속성은 다음 표와 같다.\n",
    "\n",
    "속성명 | 설명\n",
    "---|---\n",
    "관람객| 관람객 평점(1~5)\n",
    "평론가| 평론가 평점(1~5)\n",
    "...|\n",
    "리뷰1| 첫번째 리뷰\n",
    "...|\n",
    "리뷰30| 30번째 리뷰\n",
    "\n",
    "#### 2.2 추천방법\n",
    "\n",
    "* 어떤 사람에게 영화를 추천하려면 그 사람이 어떤 영화를 좋아했는 지를 조사하는 것이 필요하다. 클러스터링을 통하여 비슷한 영화들을 모아 여러 그룹을 만들었고, 한 사람이 좋아하는 영화가 특정 그룹에 많이 포함되어 있으면 그 그룹의 영화를 추천하는 방법을 만들어 보고 검증해 보기로 하였다.\n",
    "\n",
    "* 클러스터링을 할 때 평점만 사용할 수도 있고, 리뷰만 사용할 수도 있다. 또 평점과 리뷰를 모두 사용할 수도 있다. 각각의 경우에 추천방법을 적용해보고 어떤 경우가 좋은지 살펴보기로 하였다.\n",
    "\n",
    "* 추천 정확도를 속이는 방법도 가능한 데, 어떤 사람이 모든 영화에 대하여 좋아한다고 표시하면, 어떤 영화를 추천해도 결과는 좋을 것이다. 100개 영화의 선호도 ranking을 표시하도록 하고, 이 경우에 추천시스템의 성능을 계산하는 지표를 만드는 방법도 연구해보기로 하였다.\n",
    "\n",
    "* 리뷰로 추천하기 위해서 tfidf를 사용하여 각 영화마다 특성 벡터를 만들어 클러스터링하기로 하였다.\n",
    "\n",
    "* 리뷰의 특성벡터가 매우 크므로 각 영화에서 단어가 사용된 양(비율)들의 벡터를 이용하여 클러스터링 하여 유사 단어를 만들고, 유사단어들을 하나의 특성으로 만드는 방법을 사용할 경우 영화 클러스터링은 어떻게 달라지는 지 실험하고, 추천시스템의 성능도 비교해보기로 하였다.\n",
    "\n",
    "#### 2.3 평가방법\n",
    "\n",
    "* 데이터를 학습시키는 데 70%를 무작위로 골라 사용하였고, 30%는 검증에 사용하였다.\n",
    "\n",
    "* 30개 중에서 추천영화를 몇개 추천하고 이중 좋아하는 영화의 비율을 추천시스템의 성능지표로 사용하였다.\n",
    "\n",
    "### 3. 연구 결과\n",
    "\n",
    "* 평점만으로 클러스터링 할 때\n",
    "\n",
    "* 리뷰만으로 클러스터링 할 때\n",
    "\n",
    "* 평점과 리뷰를 결합할 때 (결합방법)\n",
    "\n",
    "* 추천시스템 성능을 높이기위해 선호도를 어떻게 표시해야하는가? 추천시스템의 동작원리를 추측해 보았다.\n",
    "\n",
    "### 4. 결론\n",
    "\n",
    "* 데이터를 만드는 것이 어렵고 시간이 많이 걸렸다.\n",
    "\n",
    "* 추천방법은 효과가 있었지만 사람에 따라 정확도가 달라졌다.\n",
    "\n",
    "* 정확도를 높이도록 선호도 평가를 할 수도 있었다.\n",
    "\n",
    "* 평가방법을 공정하게 하기위해 몇 가지 방법을 시도해 보았다.\n",
    "\n",
    "* 영화 개수가 늘면 다른 문제가 생길 수 있다."
   ]
  },
  {
   "cell_type": "markdown",
   "metadata": {},
   "source": [
    "## [프로그램]"
   ]
  },
  {
   "cell_type": "markdown",
   "metadata": {},
   "source": [
    "### 1. Khaiii 와 나눔폰트 설치\n",
    "* !git clone https://github.com/kakao/khaiii.git\n",
    "* !mkdir khaiii/build\n",
    "* !cd khaiii/build; cmake ..\n",
    "* !cd khaiii/build; make all\n",
    "* !cd khaiii/build; make resource\n",
    "* !cd khaiii/build; make package_python\n",
    "* !cd khaiii/build/package_python; pip install .\n",
    "* !apt install fonts-nanum"
   ]
  },
  {
   "cell_type": "code",
   "execution_count": null,
   "metadata": {},
   "outputs": [],
   "source": []
  },
  {
   "cell_type": "markdown",
   "metadata": {},
   "source": [
    "### 2. matplotlib 시작"
   ]
  },
  {
   "cell_type": "code",
   "execution_count": null,
   "metadata": {},
   "outputs": [],
   "source": [
    "import matplotlib\n",
    "import matplotlib.pyplot as plt\n",
    "import matplotlib.font_manager as fm\n",
    "fm._rebuild()\n",
    "# colab에서는 런타임 다시시작 필요\n",
    "# ubuntu에서는 reboot"
   ]
  },
  {
   "cell_type": "code",
   "execution_count": null,
   "metadata": {},
   "outputs": [],
   "source": [
    "plt.rcParams['font.size']=10\n",
    "plt.rcParams['xtick.labelsize'] = 'larger' #medium, large"
   ]
  },
  {
   "cell_type": "markdown",
   "metadata": {},
   "source": [
    "### 3. data 불러오기"
   ]
  },
  {
   "cell_type": "code",
   "execution_count": 3,
   "metadata": {},
   "outputs": [],
   "source": [
    "import numpy as np\n",
    "import pandas as pd"
   ]
  },
  {
   "cell_type": "code",
   "execution_count": 20,
   "metadata": {},
   "outputs": [],
   "source": [
    "df = pd.read_csv('데이터매쓰 영화 데이터 완성2.csv')\n",
    "df = df.rename(columns={'남자 ': '남자.2'})\n",
    "df = df[df.columns[:-20]]\n",
    "df['네티즌'] = df['네티즌'].str.replace(r'(,)','.').astype(float)\n",
    "df['관람객'] = df['관람객'].str.replace(r'(등록 전)','NaN').astype(float)\n",
    "df['남자'] = df['남자'].str.replace(r'(등록 전)','NaN').astype(float)\n",
    "df['여자'] = df['여자'].str.replace(r'(등록 전)','NaN').astype(float)\n",
    "df['10대'] = df['10대'].str.replace(r'(등록 전)','NaN').astype(float)\n",
    "df['20대'] = df['20대'].str.replace(r'(등록 전)','NaN').astype(float)\n",
    "df['30대'] = df['30대'].str.replace(r'(등록 전)','NaN').astype(float)\n",
    "df['40대'] = df['40대'].str.replace(r'(등록 전)','NaN').astype(float)\n",
    "df['50대 이상'] = df['50대 이상'].str.replace(r'(등록 전)','NaN').astype(float)\n",
    "df['영상미'] = df['영상미'].str.replace(r'(등록 전)','NaN').astype(float)\n",
    "df['스토리'] = df['스토리'].str.replace(r'(등록 전)','NaN').astype(float)\n",
    "df['연기'] = df['연기'].str.replace(r'(등록 전)','NaN').astype(float)\n",
    "df['연출'] = df['연출'].str.replace(r'(등록 전)','NaN').astype(float)\n",
    "df['남자.2'] = df['남자.2'].str.replace(r'(등록 전)','NaN').astype(float)\n",
    "df['여자.2'] = df['여자.2'].str.replace(r'(등록 전)','NaN').astype(float)\n",
    "df['10대.2'] = df['10대.2'].str.replace(r'(등록 전)','NaN').astype(float)\n",
    "df['20대.2'] = df['20대.2'].str.replace(r'(등록 전)','NaN').astype(float)\n",
    "df['30대.2'] = df['30대.2'].str.replace(r'(등록 전)','NaN').astype(float)\n",
    "df['40대.2'] = df['40대.2'].str.replace(r'(등록 전)','NaN').astype(float)\n",
    "df['50대 이상.2'] = df['50대 이상.2'].str.replace(r'(등록 전)','NaN').astype(float)\n",
    "df['대표국적_한국'] = (df['대표국적'] == '한국') * 1\n",
    "df2 = pd.read_excel('데이터매쓰 영화 데이터 + 선호도.xlsx',skiprows=4)\n",
    "df = pd.concat([df,df2[['수빈','승준','선주','지후']]],axis=1)"
   ]
  },
  {
   "cell_type": "code",
   "execution_count": 21,
   "metadata": {},
   "outputs": [
    {
     "data": {
      "text/plain": [
       "Index(['순위', '영화명', '개봉일', '매출액', '관객수', '스크린수', '상영횟수', '대표국적', '국적', '배급사',\n",
       "       '장르', '관람객', '평론가', '네티즌', '남자', '여자', '10대', '20대', '30대', '40대',\n",
       "       '50대 이상', 'OST', '영상미', '스토리', '연기', '연출', '남자.1', '여자.1', '10대.1',\n",
       "       '20대.1', '30대.1', '40대.1', '50대 이상.1', 'OST.1', '영상미.1', '스토리.1',\n",
       "       '연기.1', '연출.1', '남자.2', '여자.2', '10대.2', '20대.2', '30대.2', '40대.2',\n",
       "       '50대 이상.2', '1', '2', '3', '4', '5', '6', '7', '8', '9', '10', '11',\n",
       "       '12', '13', '14', '15', '16', '17', '18', '19', '20', '21', '22', '23',\n",
       "       '24', '25', '26', '27', '28', '29', '30', '대표국적_한국', '수빈', '승준', '선주',\n",
       "       '지후'],\n",
       "      dtype='object')"
      ]
     },
     "execution_count": 21,
     "metadata": {},
     "output_type": "execute_result"
    }
   ],
   "source": [
    "df.columns"
   ]
  },
  {
   "cell_type": "markdown",
   "metadata": {},
   "source": [
    "### 4. 매출액', 관객수, 스크린수, 상영횟수, 관람객, 평론가, 네티즌, 대표국적_한국 으로 학습할 경우"
   ]
  },
  {
   "cell_type": "code",
   "execution_count": 24,
   "metadata": {},
   "outputs": [],
   "source": [
    "df_a = df[['매출액', '관객수', '스크린수', '상영횟수', '관람객', '평론가', '네티즌','대표국적_한국']].copy()"
   ]
  },
  {
   "cell_type": "code",
   "execution_count": 25,
   "metadata": {},
   "outputs": [
    {
     "name": "stdout",
     "output_type": "stream",
     "text": [
      "<class 'pandas.core.frame.DataFrame'>\n",
      "RangeIndex: 100 entries, 0 to 99\n",
      "Data columns (total 8 columns):\n",
      "매출액        100 non-null int64\n",
      "관객수        100 non-null int64\n",
      "스크린수       100 non-null int64\n",
      "상영횟수       100 non-null int64\n",
      "관람객        77 non-null float64\n",
      "평론가        100 non-null float64\n",
      "네티즌        100 non-null float64\n",
      "대표국적_한국    100 non-null int64\n",
      "dtypes: float64(3), int64(5)\n",
      "memory usage: 6.3 KB\n"
     ]
    }
   ],
   "source": [
    "df_a.info()"
   ]
  },
  {
   "cell_type": "markdown",
   "metadata": {},
   "source": [
    "* 위에서 관람객은 23개의 결측이 있는 것을 알았다.\n",
    "* 아래와 같이 결측이 있는 데이터 삭제하자."
   ]
  },
  {
   "cell_type": "code",
   "execution_count": 23,
   "metadata": {},
   "outputs": [
    {
     "data": {
      "text/plain": [
       "(77, 8)"
      ]
     },
     "execution_count": 23,
     "metadata": {},
     "output_type": "execute_result"
    }
   ],
   "source": [
    "idx = ~df_a.isnull().any(axis=1)\n",
    "df_b = df_a.loc[idx]\n",
    "df_b.shape"
   ]
  },
  {
   "cell_type": "markdown",
   "metadata": {},
   "source": [
    "* kmeans알고리즘에서는 큰 수를 가진 특성에 의해 group이 나눠지는 경향이 있으므로 모든 특성을 0에서 1사이의 값으로 바꾸어준다."
   ]
  },
  {
   "cell_type": "code",
   "execution_count": 30,
   "metadata": {},
   "outputs": [],
   "source": [
    "from sklearn.preprocessing import MinMaxScaler\n",
    "mms = MinMaxScaler()\n",
    "X = mms.fit_transform(df_b)"
   ]
  },
  {
   "cell_type": "code",
   "execution_count": 31,
   "metadata": {},
   "outputs": [
    {
     "data": {
      "text/plain": [
       "KMeans(algorithm='auto', copy_x=True, init='k-means++', max_iter=300,\n",
       "       n_clusters=9, n_init=10, n_jobs=None, precompute_distances='auto',\n",
       "       random_state=2, tol=0.0001, verbose=0)"
      ]
     },
     "execution_count": 31,
     "metadata": {},
     "output_type": "execute_result"
    }
   ],
   "source": [
    "from sklearn.cluster import KMeans\n",
    "km = KMeans(n_clusters=9,random_state=2)\n",
    "km.fit(X)"
   ]
  },
  {
   "cell_type": "markdown",
   "metadata": {},
   "source": [
    "* 클러스터 column추가"
   ]
  },
  {
   "cell_type": "code",
   "execution_count": 34,
   "metadata": {},
   "outputs": [],
   "source": [
    "columns = ['영화명','장르','대표국적_한국','매출액', '관객수', '스크린수', '상영횟수', '관람객', '평론가', '네티즌',\n",
    "          '수빈','승준','선주','지후']\n",
    "dft = df.loc[df_b.index,columns]\n",
    "dft['클러스터번호'] = km.labels_"
   ]
  },
  {
   "cell_type": "code",
   "execution_count": 36,
   "metadata": {},
   "outputs": [
    {
     "data": {
      "text/html": [
       "<div>\n",
       "<style scoped>\n",
       "    .dataframe tbody tr th:only-of-type {\n",
       "        vertical-align: middle;\n",
       "    }\n",
       "\n",
       "    .dataframe tbody tr th {\n",
       "        vertical-align: top;\n",
       "    }\n",
       "\n",
       "    .dataframe thead th {\n",
       "        text-align: right;\n",
       "    }\n",
       "</style>\n",
       "<table border=\"1\" class=\"dataframe\">\n",
       "  <thead>\n",
       "    <tr style=\"text-align: right;\">\n",
       "      <th></th>\n",
       "      <th>영화명</th>\n",
       "      <th>장르</th>\n",
       "      <th>대표국적_한국</th>\n",
       "      <th>매출액</th>\n",
       "      <th>관객수</th>\n",
       "      <th>스크린수</th>\n",
       "      <th>상영횟수</th>\n",
       "      <th>관람객</th>\n",
       "      <th>평론가</th>\n",
       "      <th>네티즌</th>\n",
       "      <th>수빈</th>\n",
       "      <th>승준</th>\n",
       "      <th>선주</th>\n",
       "      <th>지후</th>\n",
       "      <th>클러스터번호</th>\n",
       "    </tr>\n",
       "  </thead>\n",
       "  <tbody>\n",
       "    <tr>\n",
       "      <th>44</th>\n",
       "      <td>어벤져스</td>\n",
       "      <td>액션, SF, 모험</td>\n",
       "      <td>0</td>\n",
       "      <td>59634896458</td>\n",
       "      <td>7087068</td>\n",
       "      <td>967</td>\n",
       "      <td>112526</td>\n",
       "      <td>8.25</td>\n",
       "      <td>7.75</td>\n",
       "      <td>8.80</td>\n",
       "      <td>3</td>\n",
       "      <td>2</td>\n",
       "      <td>1</td>\n",
       "      <td>3</td>\n",
       "      <td>0</td>\n",
       "    </tr>\n",
       "    <tr>\n",
       "      <th>53</th>\n",
       "      <td>미션 임파서블: 폴아웃</td>\n",
       "      <td>액션, 모험, 스릴러</td>\n",
       "      <td>0</td>\n",
       "      <td>55888375112</td>\n",
       "      <td>6584915</td>\n",
       "      <td>1957</td>\n",
       "      <td>101374</td>\n",
       "      <td>9.15</td>\n",
       "      <td>7.56</td>\n",
       "      <td>9.12</td>\n",
       "      <td>3</td>\n",
       "      <td>3</td>\n",
       "      <td>1</td>\n",
       "      <td>3</td>\n",
       "      <td>0</td>\n",
       "    </tr>\n",
       "    <tr>\n",
       "      <th>54</th>\n",
       "      <td>다크 나이트 라이즈</td>\n",
       "      <td>액션, 범죄, 스릴러</td>\n",
       "      <td>0</td>\n",
       "      <td>47910613000</td>\n",
       "      <td>6428574</td>\n",
       "      <td>1210</td>\n",
       "      <td>84755</td>\n",
       "      <td>9.56</td>\n",
       "      <td>7.69</td>\n",
       "      <td>9.02</td>\n",
       "      <td>3</td>\n",
       "      <td>3</td>\n",
       "      <td>1</td>\n",
       "      <td>3</td>\n",
       "      <td>0</td>\n",
       "    </tr>\n",
       "    <tr>\n",
       "      <th>57</th>\n",
       "      <td>킹스맨 : 시크릿 에이전트</td>\n",
       "      <td>액션, 스릴러</td>\n",
       "      <td>0</td>\n",
       "      <td>50369009795</td>\n",
       "      <td>6129681</td>\n",
       "      <td>728</td>\n",
       "      <td>139988</td>\n",
       "      <td>9.02</td>\n",
       "      <td>7.58</td>\n",
       "      <td>8.82</td>\n",
       "      <td>3</td>\n",
       "      <td>2</td>\n",
       "      <td>2</td>\n",
       "      <td>1</td>\n",
       "      <td>0</td>\n",
       "    </tr>\n",
       "    <tr>\n",
       "      <th>58</th>\n",
       "      <td>미션 임파서블: 로그네이션</td>\n",
       "      <td>액션, 모험, 스릴러</td>\n",
       "      <td>0</td>\n",
       "      <td>48547353607</td>\n",
       "      <td>6126488</td>\n",
       "      <td>1202</td>\n",
       "      <td>89683</td>\n",
       "      <td>8.81</td>\n",
       "      <td>7.54</td>\n",
       "      <td>8.75</td>\n",
       "      <td>2</td>\n",
       "      <td>3</td>\n",
       "      <td>2</td>\n",
       "      <td>3</td>\n",
       "      <td>0</td>\n",
       "    </tr>\n",
       "    <tr>\n",
       "      <th>60</th>\n",
       "      <td>인셉션</td>\n",
       "      <td>액션, 모험, SF, 스릴러</td>\n",
       "      <td>0</td>\n",
       "      <td>44862253440</td>\n",
       "      <td>5998647</td>\n",
       "      <td>531</td>\n",
       "      <td>92909</td>\n",
       "      <td>9.60</td>\n",
       "      <td>7.93</td>\n",
       "      <td>9.23</td>\n",
       "      <td>2</td>\n",
       "      <td>3</td>\n",
       "      <td>3</td>\n",
       "      <td>2</td>\n",
       "      <td>0</td>\n",
       "    </tr>\n",
       "    <tr>\n",
       "      <th>61</th>\n",
       "      <td>레미제라블</td>\n",
       "      <td>드라마</td>\n",
       "      <td>0</td>\n",
       "      <td>43185230000</td>\n",
       "      <td>5938769</td>\n",
       "      <td>696</td>\n",
       "      <td>85092</td>\n",
       "      <td>9.20</td>\n",
       "      <td>7.15</td>\n",
       "      <td>8.38</td>\n",
       "      <td>1</td>\n",
       "      <td>1</td>\n",
       "      <td>2</td>\n",
       "      <td>1</td>\n",
       "      <td>0</td>\n",
       "    </tr>\n",
       "    <tr>\n",
       "      <th>71</th>\n",
       "      <td>닥터 스트레인지</td>\n",
       "      <td>액션, 모험, 판타지</td>\n",
       "      <td>0</td>\n",
       "      <td>47490572396</td>\n",
       "      <td>5447269</td>\n",
       "      <td>1503</td>\n",
       "      <td>162879</td>\n",
       "      <td>8.88</td>\n",
       "      <td>7.03</td>\n",
       "      <td>8.72</td>\n",
       "      <td>3</td>\n",
       "      <td>3</td>\n",
       "      <td>1</td>\n",
       "      <td>3</td>\n",
       "      <td>0</td>\n",
       "    </tr>\n",
       "    <tr>\n",
       "      <th>80</th>\n",
       "      <td>조커</td>\n",
       "      <td>스릴러, 드라마</td>\n",
       "      <td>0</td>\n",
       "      <td>45443092130</td>\n",
       "      <td>5255308</td>\n",
       "      <td>1418</td>\n",
       "      <td>148270</td>\n",
       "      <td>8.97</td>\n",
       "      <td>7.64</td>\n",
       "      <td>8.66</td>\n",
       "      <td>3</td>\n",
       "      <td>3</td>\n",
       "      <td>1</td>\n",
       "      <td>3</td>\n",
       "      <td>0</td>\n",
       "    </tr>\n",
       "    <tr>\n",
       "      <th>81</th>\n",
       "      <td>월드워Z</td>\n",
       "      <td>드라마, 스릴러, SF, 액션, 모험</td>\n",
       "      <td>0</td>\n",
       "      <td>38589794000</td>\n",
       "      <td>5244336</td>\n",
       "      <td>964</td>\n",
       "      <td>102831</td>\n",
       "      <td>9.00</td>\n",
       "      <td>6.61</td>\n",
       "      <td>8.23</td>\n",
       "      <td>2</td>\n",
       "      <td>2</td>\n",
       "      <td>2</td>\n",
       "      <td>2</td>\n",
       "      <td>0</td>\n",
       "    </tr>\n",
       "    <tr>\n",
       "      <th>83</th>\n",
       "      <td>미녀와 야수</td>\n",
       "      <td>판타지, 뮤지컬, 멜로/로맨스</td>\n",
       "      <td>0</td>\n",
       "      <td>42253148459</td>\n",
       "      <td>5156372</td>\n",
       "      <td>1627</td>\n",
       "      <td>142729</td>\n",
       "      <td>8.99</td>\n",
       "      <td>7.00</td>\n",
       "      <td>8.78</td>\n",
       "      <td>3</td>\n",
       "      <td>1</td>\n",
       "      <td>3</td>\n",
       "      <td>1</td>\n",
       "      <td>0</td>\n",
       "    </tr>\n",
       "    <tr>\n",
       "      <th>86</th>\n",
       "      <td>아쿠아맨</td>\n",
       "      <td>액션,모험, SF</td>\n",
       "      <td>0</td>\n",
       "      <td>44145008504</td>\n",
       "      <td>5041187</td>\n",
       "      <td>1285</td>\n",
       "      <td>105440</td>\n",
       "      <td>8.77</td>\n",
       "      <td>6.83</td>\n",
       "      <td>8.36</td>\n",
       "      <td>2</td>\n",
       "      <td>2</td>\n",
       "      <td>2</td>\n",
       "      <td>3</td>\n",
       "      <td>0</td>\n",
       "    </tr>\n",
       "    <tr>\n",
       "      <th>88</th>\n",
       "      <td>인사이드 아웃</td>\n",
       "      <td>애니메이션, 코미디</td>\n",
       "      <td>0</td>\n",
       "      <td>38024694936</td>\n",
       "      <td>4969735</td>\n",
       "      <td>931</td>\n",
       "      <td>84000</td>\n",
       "      <td>9.05</td>\n",
       "      <td>7.88</td>\n",
       "      <td>9.08</td>\n",
       "      <td>3</td>\n",
       "      <td>1</td>\n",
       "      <td>3</td>\n",
       "      <td>2</td>\n",
       "      <td>0</td>\n",
       "    </tr>\n",
       "    <tr>\n",
       "      <th>91</th>\n",
       "      <td>마션</td>\n",
       "      <td>모험, 드라마, SF</td>\n",
       "      <td>0</td>\n",
       "      <td>39702034175</td>\n",
       "      <td>4887144</td>\n",
       "      <td>1132</td>\n",
       "      <td>115967</td>\n",
       "      <td>8.72</td>\n",
       "      <td>7.91</td>\n",
       "      <td>8.42</td>\n",
       "      <td>1</td>\n",
       "      <td>3</td>\n",
       "      <td>3</td>\n",
       "      <td>3</td>\n",
       "      <td>0</td>\n",
       "    </tr>\n",
       "    <tr>\n",
       "      <th>92</th>\n",
       "      <td>토르: 라그나로크</td>\n",
       "      <td>액션,모험, 판타지, SF</td>\n",
       "      <td>0</td>\n",
       "      <td>39261266595</td>\n",
       "      <td>4858572</td>\n",
       "      <td>1640</td>\n",
       "      <td>137496</td>\n",
       "      <td>9.03</td>\n",
       "      <td>6.13</td>\n",
       "      <td>8.84</td>\n",
       "      <td>2</td>\n",
       "      <td>3</td>\n",
       "      <td>1</td>\n",
       "      <td>3</td>\n",
       "      <td>0</td>\n",
       "    </tr>\n",
       "  </tbody>\n",
       "</table>\n",
       "</div>"
      ],
      "text/plain": [
       "               영화명                    장르  대표국적_한국          매출액      관객수  스크린수  \\\n",
       "44            어벤져스            액션, SF, 모험        0  59634896458  7087068   967   \n",
       "53    미션 임파서블: 폴아웃           액션, 모험, 스릴러        0  55888375112  6584915  1957   \n",
       "54      다크 나이트 라이즈           액션, 범죄, 스릴러        0  47910613000  6428574  1210   \n",
       "57  킹스맨 : 시크릿 에이전트               액션, 스릴러        0  50369009795  6129681   728   \n",
       "58  미션 임파서블: 로그네이션           액션, 모험, 스릴러        0  48547353607  6126488  1202   \n",
       "60             인셉션       액션, 모험, SF, 스릴러        0  44862253440  5998647   531   \n",
       "61           레미제라블                   드라마        0  43185230000  5938769   696   \n",
       "71        닥터 스트레인지           액션, 모험, 판타지        0  47490572396  5447269  1503   \n",
       "80              조커              스릴러, 드라마        0  45443092130  5255308  1418   \n",
       "81            월드워Z  드라마, 스릴러, SF, 액션, 모험        0  38589794000  5244336   964   \n",
       "83          미녀와 야수      판타지, 뮤지컬, 멜로/로맨스        0  42253148459  5156372  1627   \n",
       "86            아쿠아맨             액션,모험, SF        0  44145008504  5041187  1285   \n",
       "88         인사이드 아웃            애니메이션, 코미디        0  38024694936  4969735   931   \n",
       "91              마션           모험, 드라마, SF        0  39702034175  4887144  1132   \n",
       "92       토르: 라그나로크        액션,모험, 판타지, SF        0  39261266595  4858572  1640   \n",
       "\n",
       "      상영횟수   관람객   평론가   네티즌  수빈  승준  선주  지후  클러스터번호  \n",
       "44  112526  8.25  7.75  8.80   3   2   1   3       0  \n",
       "53  101374  9.15  7.56  9.12   3   3   1   3       0  \n",
       "54   84755  9.56  7.69  9.02   3   3   1   3       0  \n",
       "57  139988  9.02  7.58  8.82   3   2   2   1       0  \n",
       "58   89683  8.81  7.54  8.75   2   3   2   3       0  \n",
       "60   92909  9.60  7.93  9.23   2   3   3   2       0  \n",
       "61   85092  9.20  7.15  8.38   1   1   2   1       0  \n",
       "71  162879  8.88  7.03  8.72   3   3   1   3       0  \n",
       "80  148270  8.97  7.64  8.66   3   3   1   3       0  \n",
       "81  102831  9.00  6.61  8.23   2   2   2   2       0  \n",
       "83  142729  8.99  7.00  8.78   3   1   3   1       0  \n",
       "86  105440  8.77  6.83  8.36   2   2   2   3       0  \n",
       "88   84000  9.05  7.88  9.08   3   1   3   2       0  \n",
       "91  115967  8.72  7.91  8.42   1   3   3   3       0  \n",
       "92  137496  9.03  6.13  8.84   2   3   1   3       0  "
      ]
     },
     "execution_count": 36,
     "metadata": {},
     "output_type": "execute_result"
    }
   ],
   "source": [
    "n = 0\n",
    "dft.loc[dft['클러스터번호']==n]"
   ]
  },
  {
   "cell_type": "markdown",
   "metadata": {},
   "source": [
    "### 5. 관람객 빼고 추천하기"
   ]
  },
  {
   "cell_type": "markdown",
   "metadata": {},
   "source": [
    "#### 5.1 학습하기"
   ]
  },
  {
   "cell_type": "code",
   "execution_count": 128,
   "metadata": {},
   "outputs": [
    {
     "data": {
      "text/plain": [
       "(100, 7)"
      ]
     },
     "execution_count": 128,
     "metadata": {},
     "output_type": "execute_result"
    }
   ],
   "source": [
    "df_b = df[['매출액', '관객수', '스크린수', '상영횟수', '평론가', '네티즌','대표국적_한국']].copy()\n",
    "df_b.shape"
   ]
  },
  {
   "cell_type": "code",
   "execution_count": 129,
   "metadata": {},
   "outputs": [
    {
     "name": "stdout",
     "output_type": "stream",
     "text": [
      "<class 'pandas.core.frame.DataFrame'>\n",
      "RangeIndex: 100 entries, 0 to 99\n",
      "Data columns (total 7 columns):\n",
      "매출액        100 non-null int64\n",
      "관객수        100 non-null int64\n",
      "스크린수       100 non-null int64\n",
      "상영횟수       100 non-null int64\n",
      "평론가        100 non-null float64\n",
      "네티즌        100 non-null float64\n",
      "대표국적_한국    100 non-null int64\n",
      "dtypes: float64(2), int64(5)\n",
      "memory usage: 5.5 KB\n"
     ]
    }
   ],
   "source": [
    "df_b.info()"
   ]
  },
  {
   "cell_type": "code",
   "execution_count": 130,
   "metadata": {},
   "outputs": [],
   "source": [
    "from sklearn.preprocessing import MinMaxScaler\n",
    "mms = MinMaxScaler()\n",
    "X = mms.fit_transform(df_b)"
   ]
  },
  {
   "cell_type": "code",
   "execution_count": 131,
   "metadata": {},
   "outputs": [
    {
     "data": {
      "text/plain": [
       "KMeans(algorithm='auto', copy_x=True, init='k-means++', max_iter=300,\n",
       "       n_clusters=9, n_init=10, n_jobs=None, precompute_distances='auto',\n",
       "       random_state=2, tol=0.0001, verbose=0)"
      ]
     },
     "execution_count": 131,
     "metadata": {},
     "output_type": "execute_result"
    }
   ],
   "source": [
    "from sklearn.cluster import KMeans\n",
    "km = KMeans(n_clusters=9,random_state=2)\n",
    "km.fit(X)"
   ]
  },
  {
   "cell_type": "markdown",
   "metadata": {},
   "source": [
    "* 클러스터 column추가"
   ]
  },
  {
   "cell_type": "code",
   "execution_count": 132,
   "metadata": {},
   "outputs": [],
   "source": [
    "columns = ['영화명','장르','대표국적_한국','매출액', '관객수', '스크린수', '상영횟수', '관람객', '평론가', '네티즌',\n",
    "          '수빈','승준','선주','지후']\n",
    "dft = df.loc[df_b.index,columns]\n",
    "dft['클러스터번호'] = km.labels_"
   ]
  },
  {
   "cell_type": "code",
   "execution_count": 133,
   "metadata": {},
   "outputs": [
    {
     "data": {
      "text/html": [
       "<div>\n",
       "<style scoped>\n",
       "    .dataframe tbody tr th:only-of-type {\n",
       "        vertical-align: middle;\n",
       "    }\n",
       "\n",
       "    .dataframe tbody tr th {\n",
       "        vertical-align: top;\n",
       "    }\n",
       "\n",
       "    .dataframe thead th {\n",
       "        text-align: right;\n",
       "    }\n",
       "</style>\n",
       "<table border=\"1\" class=\"dataframe\">\n",
       "  <thead>\n",
       "    <tr style=\"text-align: right;\">\n",
       "      <th></th>\n",
       "      <th>영화명</th>\n",
       "      <th>장르</th>\n",
       "      <th>대표국적_한국</th>\n",
       "      <th>매출액</th>\n",
       "      <th>관객수</th>\n",
       "      <th>스크린수</th>\n",
       "      <th>상영횟수</th>\n",
       "      <th>관람객</th>\n",
       "      <th>평론가</th>\n",
       "      <th>네티즌</th>\n",
       "      <th>수빈</th>\n",
       "      <th>승준</th>\n",
       "      <th>선주</th>\n",
       "      <th>지후</th>\n",
       "      <th>클러스터번호</th>\n",
       "    </tr>\n",
       "  </thead>\n",
       "  <tbody>\n",
       "    <tr>\n",
       "      <th>31</th>\n",
       "      <td>스파이더맨: 파 프롬 홈</td>\n",
       "      <td>액션, 모험, 코미디, SF</td>\n",
       "      <td>0</td>\n",
       "      <td>69033177100</td>\n",
       "      <td>8023606</td>\n",
       "      <td>2142</td>\n",
       "      <td>181035</td>\n",
       "      <td>8.99</td>\n",
       "      <td>6.56</td>\n",
       "      <td>8.33</td>\n",
       "      <td>3</td>\n",
       "      <td>3</td>\n",
       "      <td>1</td>\n",
       "      <td>3</td>\n",
       "      <td>0</td>\n",
       "    </tr>\n",
       "    <tr>\n",
       "      <th>33</th>\n",
       "      <td>트랜스포머 3</td>\n",
       "      <td>SF, 액션, 모험</td>\n",
       "      <td>0</td>\n",
       "      <td>74842906588</td>\n",
       "      <td>7785189</td>\n",
       "      <td>1409</td>\n",
       "      <td>124464</td>\n",
       "      <td>NaN</td>\n",
       "      <td>5.48</td>\n",
       "      <td>7.06</td>\n",
       "      <td>3</td>\n",
       "      <td>2</td>\n",
       "      <td>1</td>\n",
       "      <td>3</td>\n",
       "      <td>0</td>\n",
       "    </tr>\n",
       "    <tr>\n",
       "      <th>39</th>\n",
       "      <td>스파이더맨: 홈커밍</td>\n",
       "      <td>액션, 모험, SF</td>\n",
       "      <td>0</td>\n",
       "      <td>59125813820</td>\n",
       "      <td>7258678</td>\n",
       "      <td>1965</td>\n",
       "      <td>164448</td>\n",
       "      <td>8.83</td>\n",
       "      <td>7.00</td>\n",
       "      <td>8.36</td>\n",
       "      <td>3</td>\n",
       "      <td>3</td>\n",
       "      <td>1</td>\n",
       "      <td>3</td>\n",
       "      <td>0</td>\n",
       "    </tr>\n",
       "    <tr>\n",
       "      <th>53</th>\n",
       "      <td>미션 임파서블: 폴아웃</td>\n",
       "      <td>액션, 모험, 스릴러</td>\n",
       "      <td>0</td>\n",
       "      <td>55888375112</td>\n",
       "      <td>6584915</td>\n",
       "      <td>1957</td>\n",
       "      <td>101374</td>\n",
       "      <td>9.15</td>\n",
       "      <td>7.56</td>\n",
       "      <td>9.12</td>\n",
       "      <td>3</td>\n",
       "      <td>3</td>\n",
       "      <td>1</td>\n",
       "      <td>3</td>\n",
       "      <td>0</td>\n",
       "    </tr>\n",
       "    <tr>\n",
       "      <th>62</th>\n",
       "      <td>캡틴 마블</td>\n",
       "      <td>액션, 모험, SF</td>\n",
       "      <td>0</td>\n",
       "      <td>51507488723</td>\n",
       "      <td>5802810</td>\n",
       "      <td>2100</td>\n",
       "      <td>186382</td>\n",
       "      <td>8.45</td>\n",
       "      <td>6.86</td>\n",
       "      <td>6.75</td>\n",
       "      <td>2</td>\n",
       "      <td>3</td>\n",
       "      <td>1</td>\n",
       "      <td>3</td>\n",
       "      <td>0</td>\n",
       "    </tr>\n",
       "    <tr>\n",
       "      <th>63</th>\n",
       "      <td>쥬라기 월드: 폴른 킹덤</td>\n",
       "      <td>액션, 모험, SF</td>\n",
       "      <td>0</td>\n",
       "      <td>49770711037</td>\n",
       "      <td>5661128</td>\n",
       "      <td>1972</td>\n",
       "      <td>144779</td>\n",
       "      <td>8.55</td>\n",
       "      <td>6.40</td>\n",
       "      <td>8.01</td>\n",
       "      <td>2</td>\n",
       "      <td>3</td>\n",
       "      <td>2</td>\n",
       "      <td>3</td>\n",
       "      <td>0</td>\n",
       "    </tr>\n",
       "    <tr>\n",
       "      <th>68</th>\n",
       "      <td>쥬라기 월드</td>\n",
       "      <td>액션, 모험, SF, 스릴러</td>\n",
       "      <td>0</td>\n",
       "      <td>47804159826</td>\n",
       "      <td>5547463</td>\n",
       "      <td>1290</td>\n",
       "      <td>119248</td>\n",
       "      <td>8.26</td>\n",
       "      <td>6.63</td>\n",
       "      <td>7.88</td>\n",
       "      <td>2</td>\n",
       "      <td>3</td>\n",
       "      <td>2</td>\n",
       "      <td>3</td>\n",
       "      <td>0</td>\n",
       "    </tr>\n",
       "    <tr>\n",
       "      <th>70</th>\n",
       "      <td>앤트맨과 와스프</td>\n",
       "      <td>액션,모험,SF</td>\n",
       "      <td>0</td>\n",
       "      <td>47468053685</td>\n",
       "      <td>5448134</td>\n",
       "      <td>1775</td>\n",
       "      <td>148244</td>\n",
       "      <td>8.85</td>\n",
       "      <td>6.13</td>\n",
       "      <td>8.62</td>\n",
       "      <td>2</td>\n",
       "      <td>3</td>\n",
       "      <td>1</td>\n",
       "      <td>3</td>\n",
       "      <td>0</td>\n",
       "    </tr>\n",
       "    <tr>\n",
       "      <th>71</th>\n",
       "      <td>닥터 스트레인지</td>\n",
       "      <td>액션, 모험, 판타지</td>\n",
       "      <td>0</td>\n",
       "      <td>47490572396</td>\n",
       "      <td>5447269</td>\n",
       "      <td>1503</td>\n",
       "      <td>162879</td>\n",
       "      <td>8.88</td>\n",
       "      <td>7.03</td>\n",
       "      <td>8.72</td>\n",
       "      <td>3</td>\n",
       "      <td>3</td>\n",
       "      <td>1</td>\n",
       "      <td>3</td>\n",
       "      <td>0</td>\n",
       "    </tr>\n",
       "    <tr>\n",
       "      <th>75</th>\n",
       "      <td>블랙 팬서</td>\n",
       "      <td>액션, 드라마, SF</td>\n",
       "      <td>0</td>\n",
       "      <td>45885729957</td>\n",
       "      <td>5399327</td>\n",
       "      <td>1620</td>\n",
       "      <td>119180</td>\n",
       "      <td>8.33</td>\n",
       "      <td>6.67</td>\n",
       "      <td>7.51</td>\n",
       "      <td>2</td>\n",
       "      <td>3</td>\n",
       "      <td>1</td>\n",
       "      <td>3</td>\n",
       "      <td>0</td>\n",
       "    </tr>\n",
       "    <tr>\n",
       "      <th>78</th>\n",
       "      <td>트랜스포머: 사라진 시대</td>\n",
       "      <td>SF, 액션, 모험</td>\n",
       "      <td>0</td>\n",
       "      <td>44012752845</td>\n",
       "      <td>5295836</td>\n",
       "      <td>1602</td>\n",
       "      <td>107875</td>\n",
       "      <td>7.44</td>\n",
       "      <td>4.67</td>\n",
       "      <td>6.58</td>\n",
       "      <td>3</td>\n",
       "      <td>3</td>\n",
       "      <td>1</td>\n",
       "      <td>3</td>\n",
       "      <td>0</td>\n",
       "    </tr>\n",
       "    <tr>\n",
       "      <th>83</th>\n",
       "      <td>미녀와 야수</td>\n",
       "      <td>판타지, 뮤지컬, 멜로/로맨스</td>\n",
       "      <td>0</td>\n",
       "      <td>42253148459</td>\n",
       "      <td>5156372</td>\n",
       "      <td>1627</td>\n",
       "      <td>142729</td>\n",
       "      <td>8.99</td>\n",
       "      <td>7.00</td>\n",
       "      <td>8.78</td>\n",
       "      <td>3</td>\n",
       "      <td>1</td>\n",
       "      <td>3</td>\n",
       "      <td>1</td>\n",
       "      <td>0</td>\n",
       "    </tr>\n",
       "    <tr>\n",
       "      <th>89</th>\n",
       "      <td>킹스맨: 골든 서클</td>\n",
       "      <td>액션, 모험, 코미디</td>\n",
       "      <td>0</td>\n",
       "      <td>40987484736</td>\n",
       "      <td>4945484</td>\n",
       "      <td>1687</td>\n",
       "      <td>95922</td>\n",
       "      <td>8.60</td>\n",
       "      <td>5.00</td>\n",
       "      <td>8.36</td>\n",
       "      <td>3</td>\n",
       "      <td>2</td>\n",
       "      <td>1</td>\n",
       "      <td>1</td>\n",
       "      <td>0</td>\n",
       "    </tr>\n",
       "    <tr>\n",
       "      <th>92</th>\n",
       "      <td>토르: 라그나로크</td>\n",
       "      <td>액션,모험, 판타지, SF</td>\n",
       "      <td>0</td>\n",
       "      <td>39261266595</td>\n",
       "      <td>4858572</td>\n",
       "      <td>1640</td>\n",
       "      <td>137496</td>\n",
       "      <td>9.03</td>\n",
       "      <td>6.13</td>\n",
       "      <td>8.84</td>\n",
       "      <td>2</td>\n",
       "      <td>3</td>\n",
       "      <td>1</td>\n",
       "      <td>3</td>\n",
       "      <td>0</td>\n",
       "    </tr>\n",
       "    <tr>\n",
       "      <th>99</th>\n",
       "      <td>라이온 킹</td>\n",
       "      <td>모험, 드라마, 가족</td>\n",
       "      <td>0</td>\n",
       "      <td>41519732430</td>\n",
       "      <td>4743295</td>\n",
       "      <td>1936</td>\n",
       "      <td>126503</td>\n",
       "      <td>8.65</td>\n",
       "      <td>6.00</td>\n",
       "      <td>8.28</td>\n",
       "      <td>3</td>\n",
       "      <td>1</td>\n",
       "      <td>3</td>\n",
       "      <td>2</td>\n",
       "      <td>0</td>\n",
       "    </tr>\n",
       "  </tbody>\n",
       "</table>\n",
       "</div>"
      ],
      "text/plain": [
       "              영화명                장르  대표국적_한국          매출액      관객수  스크린수  \\\n",
       "31  스파이더맨: 파 프롬 홈   액션, 모험, 코미디, SF        0  69033177100  8023606  2142   \n",
       "33        트랜스포머 3        SF, 액션, 모험        0  74842906588  7785189  1409   \n",
       "39     스파이더맨: 홈커밍        액션, 모험, SF        0  59125813820  7258678  1965   \n",
       "53   미션 임파서블: 폴아웃       액션, 모험, 스릴러        0  55888375112  6584915  1957   \n",
       "62          캡틴 마블        액션, 모험, SF        0  51507488723  5802810  2100   \n",
       "63  쥬라기 월드: 폴른 킹덤        액션, 모험, SF        0  49770711037  5661128  1972   \n",
       "68         쥬라기 월드   액션, 모험, SF, 스릴러        0  47804159826  5547463  1290   \n",
       "70       앤트맨과 와스프          액션,모험,SF        0  47468053685  5448134  1775   \n",
       "71       닥터 스트레인지       액션, 모험, 판타지        0  47490572396  5447269  1503   \n",
       "75          블랙 팬서       액션, 드라마, SF        0  45885729957  5399327  1620   \n",
       "78  트랜스포머: 사라진 시대        SF, 액션, 모험        0  44012752845  5295836  1602   \n",
       "83         미녀와 야수  판타지, 뮤지컬, 멜로/로맨스        0  42253148459  5156372  1627   \n",
       "89     킹스맨: 골든 서클       액션, 모험, 코미디        0  40987484736  4945484  1687   \n",
       "92      토르: 라그나로크    액션,모험, 판타지, SF        0  39261266595  4858572  1640   \n",
       "99          라이온 킹       모험, 드라마, 가족        0  41519732430  4743295  1936   \n",
       "\n",
       "      상영횟수   관람객   평론가   네티즌  수빈  승준  선주  지후  클러스터번호  \n",
       "31  181035  8.99  6.56  8.33   3   3   1   3       0  \n",
       "33  124464   NaN  5.48  7.06   3   2   1   3       0  \n",
       "39  164448  8.83  7.00  8.36   3   3   1   3       0  \n",
       "53  101374  9.15  7.56  9.12   3   3   1   3       0  \n",
       "62  186382  8.45  6.86  6.75   2   3   1   3       0  \n",
       "63  144779  8.55  6.40  8.01   2   3   2   3       0  \n",
       "68  119248  8.26  6.63  7.88   2   3   2   3       0  \n",
       "70  148244  8.85  6.13  8.62   2   3   1   3       0  \n",
       "71  162879  8.88  7.03  8.72   3   3   1   3       0  \n",
       "75  119180  8.33  6.67  7.51   2   3   1   3       0  \n",
       "78  107875  7.44  4.67  6.58   3   3   1   3       0  \n",
       "83  142729  8.99  7.00  8.78   3   1   3   1       0  \n",
       "89   95922  8.60  5.00  8.36   3   2   1   1       0  \n",
       "92  137496  9.03  6.13  8.84   2   3   1   3       0  \n",
       "99  126503  8.65  6.00  8.28   3   1   3   2       0  "
      ]
     },
     "execution_count": 133,
     "metadata": {},
     "output_type": "execute_result"
    }
   ],
   "source": [
    "n = 0\n",
    "dft.loc[dft['클러스터번호']==n]"
   ]
  },
  {
   "cell_type": "markdown",
   "metadata": {},
   "source": [
    "#### 5.2. 검증하기"
   ]
  },
  {
   "cell_type": "markdown",
   "metadata": {},
   "source": [
    "* 사용자 선호가 미리 조사된 자료(training set)와 나중에 조사된 자료(test set)로 나누기"
   ]
  },
  {
   "cell_type": "code",
   "execution_count": 134,
   "metadata": {},
   "outputs": [],
   "source": [
    "from sklearn.model_selection import train_test_split\n",
    "train_index,test_index = train_test_split(range(100),test_size=0.4,random_state=4)"
   ]
  },
  {
   "cell_type": "code",
   "execution_count": 135,
   "metadata": {},
   "outputs": [
    {
     "data": {
      "text/plain": [
       "클러스터번호\n",
       "0    2.714286\n",
       "1    1.800000\n",
       "2    1.615385\n",
       "3    2.666667\n",
       "4    2.750000\n",
       "6    2.285714\n",
       "7    1.562500\n",
       "8    2.400000\n",
       "Name: 수빈, dtype: float64"
      ]
     },
     "execution_count": 135,
     "metadata": {},
     "output_type": "execute_result"
    }
   ],
   "source": [
    "dft.loc[train_index].groupby('클러스터번호')['수빈'].mean()"
   ]
  },
  {
   "cell_type": "code",
   "execution_count": 136,
   "metadata": {},
   "outputs": [
    {
     "data": {
      "text/plain": [
       "3.0"
      ]
     },
     "execution_count": 136,
     "metadata": {},
     "output_type": "execute_result"
    }
   ],
   "source": [
    "dft2 = dft.loc[test_index]\n",
    "dft2.loc[dft2['클러스터번호']==3,'수빈'].mean()"
   ]
  },
  {
   "cell_type": "code",
   "execution_count": 137,
   "metadata": {},
   "outputs": [
    {
     "data": {
      "text/plain": [
       "클러스터번호\n",
       "8    3.000000\n",
       "6    3.000000\n",
       "3    2.750000\n",
       "2    2.571429\n",
       "4    2.363636\n",
       "0    2.250000\n",
       "7    2.200000\n",
       "5    2.000000\n",
       "1    1.875000\n",
       "Name: 지후, dtype: float64"
      ]
     },
     "execution_count": 137,
     "metadata": {},
     "output_type": "execute_result"
    }
   ],
   "source": [
    "k = rmeans.sort_values(ascending=False)\n",
    "k"
   ]
  },
  {
   "cell_type": "code",
   "execution_count": 138,
   "metadata": {},
   "outputs": [
    {
     "data": {
      "text/plain": [
       "8"
      ]
     },
     "execution_count": 138,
     "metadata": {},
     "output_type": "execute_result"
    }
   ],
   "source": [
    "k.index[0]"
   ]
  },
  {
   "cell_type": "code",
   "execution_count": 139,
   "metadata": {},
   "outputs": [
    {
     "data": {
      "text/plain": [
       "2.75"
      ]
     },
     "execution_count": 139,
     "metadata": {},
     "output_type": "execute_result"
    }
   ],
   "source": [
    "k[3]"
   ]
  },
  {
   "cell_type": "code",
   "execution_count": 140,
   "metadata": {},
   "outputs": [
    {
     "name": "stdout",
     "output_type": "stream",
     "text": [
      "클러스터번호\n",
      "4    2.750000\n",
      "0    2.714286\n",
      "3    2.666667\n",
      "8    2.400000\n",
      "6    2.285714\n",
      "1    1.800000\n",
      "2    1.615385\n",
      "7    1.562500\n",
      "Name: 수빈, dtype: float64\n",
      "수빈: 추천클러스터=4, 추천평균=2.750000, 검증평균=2.500000\n",
      "클러스터번호\n",
      "0    2.500000\n",
      "1    1.000000\n",
      "2    1.666667\n",
      "3    3.000000\n",
      "4    2.500000\n",
      "5    3.000000\n",
      "6    2.285714\n",
      "7    1.750000\n",
      "8    2.250000\n",
      "Name: 수빈, dtype: float64\n",
      "\n",
      "클러스터번호\n",
      "4    2.750000\n",
      "3    2.666667\n",
      "8    2.400000\n",
      "6    2.285714\n",
      "0    2.142857\n",
      "1    1.800000\n",
      "2    1.538462\n",
      "7    1.437500\n",
      "Name: 승준, dtype: float64\n",
      "승준: 추천클러스터=4, 추천평균=2.750000, 검증평균=2.500000\n",
      "클러스터번호\n",
      "0    3.000000\n",
      "1    1.500000\n",
      "2    1.666667\n",
      "3    2.500000\n",
      "4    2.500000\n",
      "5    2.333333\n",
      "6    2.285714\n",
      "7    1.250000\n",
      "8    1.750000\n",
      "Name: 승준, dtype: float64\n",
      "\n",
      "클러스터번호\n",
      "8    2.400000\n",
      "3    2.333333\n",
      "6    2.000000\n",
      "4    2.000000\n",
      "1    2.000000\n",
      "7    1.875000\n",
      "0    1.714286\n",
      "2    1.692308\n",
      "Name: 선주, dtype: float64\n",
      "선주: 추천클러스터=8, 추천평균=2.400000, 검증평균=2.250000\n",
      "클러스터번호\n",
      "0    1.125000\n",
      "1    1.000000\n",
      "2    2.000000\n",
      "3    2.000000\n",
      "4    1.500000\n",
      "5    1.666667\n",
      "6    2.142857\n",
      "7    2.000000\n",
      "8    2.250000\n",
      "Name: 선주, dtype: float64\n",
      "\n",
      "클러스터번호\n",
      "8    2.800000\n",
      "3    2.666667\n",
      "6    2.571429\n",
      "4    2.500000\n",
      "1    2.400000\n",
      "0    2.285714\n",
      "7    2.187500\n",
      "2    2.076923\n",
      "Name: 지후, dtype: float64\n",
      "지후: 추천클러스터=8, 추천평균=2.800000, 검증평균=1.750000\n",
      "클러스터번호\n",
      "0    3.000000\n",
      "1    1.500000\n",
      "2    2.000000\n",
      "3    2.750000\n",
      "4    3.000000\n",
      "5    2.666667\n",
      "6    2.285714\n",
      "7    2.250000\n",
      "8    1.750000\n",
      "Name: 지후, dtype: float64\n",
      "\n"
     ]
    }
   ],
   "source": [
    "dft3 = dft.loc[test_index]\n",
    "for name in ['수빈','승준','선주','지후']:\n",
    "    rmeans = dft.loc[train_index].groupby('클러스터번호')[name].mean()\n",
    "    k = rmeans.sort_values(ascending=False)\n",
    "    rnum = k.index[0]\n",
    "    rmean = k[rnum]\n",
    "    tmeans = dft3.groupby('클러스터번호')[name].mean()\n",
    "    print(k)\n",
    "    print('%s: 추천클러스터=%d, 추천평균=%f, 검증평균=%f' % (name,rnum,rmean,tmeans[rnum]))\n",
    "    print(tmeans)\n",
    "    print()"
   ]
  },
  {
   "cell_type": "markdown",
   "metadata": {},
   "source": [
    "### 6. 평점만으로 추천하기"
   ]
  },
  {
   "cell_type": "markdown",
   "metadata": {},
   "source": [
    "#### 6.1 학습하기"
   ]
  },
  {
   "cell_type": "code",
   "execution_count": 107,
   "metadata": {},
   "outputs": [],
   "source": [
    "columns = ['관람객', '평론가', '네티즌', '남자', '여자', '10대', '20대', '30대', '40대',\n",
    "       '50대 이상', 'OST', '영상미', '스토리', '연기', '연출', '남자.1', '여자.1', '10대.1',\n",
    "       '20대.1', '30대.1', '40대.1', '50대 이상.1', 'OST.1', '영상미.1', '스토리.1',\n",
    "       '연기.1', '연출.1', '남자.2', '여자.2', '10대.2', '20대.2', '30대.2', '40대.2',\n",
    "       '50대 이상.2']\n",
    "df_a = df[columns].copy()"
   ]
  },
  {
   "cell_type": "code",
   "execution_count": 108,
   "metadata": {},
   "outputs": [
    {
     "name": "stdout",
     "output_type": "stream",
     "text": [
      "<class 'pandas.core.frame.DataFrame'>\n",
      "RangeIndex: 100 entries, 0 to 99\n",
      "Data columns (total 34 columns):\n",
      "관람객         77 non-null float64\n",
      "평론가         100 non-null float64\n",
      "네티즌         100 non-null float64\n",
      "남자          77 non-null float64\n",
      "여자          77 non-null float64\n",
      "10대         77 non-null float64\n",
      "20대         77 non-null float64\n",
      "30대         77 non-null float64\n",
      "40대         77 non-null float64\n",
      "50대 이상      77 non-null float64\n",
      "OST         100 non-null object\n",
      "영상미         64 non-null float64\n",
      "스토리         64 non-null float64\n",
      "연기          64 non-null float64\n",
      "연출          64 non-null float64\n",
      "남자.1        100 non-null float64\n",
      "여자.1        100 non-null float64\n",
      "10대.1       100 non-null float64\n",
      "20대.1       100 non-null float64\n",
      "30대.1       100 non-null float64\n",
      "40대.1       100 non-null float64\n",
      "50대 이상.1    100 non-null float64\n",
      "OST.1       100 non-null int64\n",
      "영상미.1       100 non-null int64\n",
      "스토리.1       100 non-null int64\n",
      "연기.1        100 non-null int64\n",
      "연출.1        100 non-null int64\n",
      "남자.2        77 non-null float64\n",
      "여자.2        77 non-null float64\n",
      "10대.2       77 non-null float64\n",
      "20대.2       77 non-null float64\n",
      "30대.2       77 non-null float64\n",
      "40대.2       77 non-null float64\n",
      "50대 이상.2    77 non-null float64\n",
      "dtypes: float64(28), int64(5), object(1)\n",
      "memory usage: 26.6+ KB\n"
     ]
    }
   ],
   "source": [
    "df_a.info()"
   ]
  },
  {
   "cell_type": "code",
   "execution_count": 116,
   "metadata": {},
   "outputs": [],
   "source": [
    "columns = ['평론가', '네티즌', '남자.1', '여자.1', '10대.1',\n",
    "       '20대.1', '30대.1', '40대.1', '50대 이상.1', 'OST.1', '영상미.1', '스토리.1',\n",
    "       '연기.1', '연출.1']\n",
    "df_b = df[columns].copy()"
   ]
  },
  {
   "cell_type": "code",
   "execution_count": 117,
   "metadata": {},
   "outputs": [
    {
     "name": "stdout",
     "output_type": "stream",
     "text": [
      "<class 'pandas.core.frame.DataFrame'>\n",
      "RangeIndex: 100 entries, 0 to 99\n",
      "Data columns (total 14 columns):\n",
      "평론가         100 non-null float64\n",
      "네티즌         100 non-null float64\n",
      "남자.1        100 non-null float64\n",
      "여자.1        100 non-null float64\n",
      "10대.1       100 non-null float64\n",
      "20대.1       100 non-null float64\n",
      "30대.1       100 non-null float64\n",
      "40대.1       100 non-null float64\n",
      "50대 이상.1    100 non-null float64\n",
      "OST.1       100 non-null int64\n",
      "영상미.1       100 non-null int64\n",
      "스토리.1       100 non-null int64\n",
      "연기.1        100 non-null int64\n",
      "연출.1        100 non-null int64\n",
      "dtypes: float64(9), int64(5)\n",
      "memory usage: 11.0 KB\n"
     ]
    }
   ],
   "source": [
    "df_b.info()"
   ]
  },
  {
   "cell_type": "code",
   "execution_count": 118,
   "metadata": {},
   "outputs": [],
   "source": [
    "from sklearn.preprocessing import MinMaxScaler\n",
    "mms = MinMaxScaler()\n",
    "X = mms.fit_transform(df_b)"
   ]
  },
  {
   "cell_type": "code",
   "execution_count": 119,
   "metadata": {},
   "outputs": [
    {
     "data": {
      "text/plain": [
       "KMeans(algorithm='auto', copy_x=True, init='k-means++', max_iter=300,\n",
       "       n_clusters=9, n_init=10, n_jobs=None, precompute_distances='auto',\n",
       "       random_state=2, tol=0.0001, verbose=0)"
      ]
     },
     "execution_count": 119,
     "metadata": {},
     "output_type": "execute_result"
    }
   ],
   "source": [
    "from sklearn.cluster import KMeans\n",
    "km = KMeans(n_clusters=9,random_state=2)\n",
    "km.fit(X)"
   ]
  },
  {
   "cell_type": "code",
   "execution_count": 120,
   "metadata": {},
   "outputs": [],
   "source": [
    "dft = df.loc[df_b.index,['영화명']+columns+['수빈','승준','선주','지후']]\n",
    "dft['클러스터번호'] = km.labels_"
   ]
  },
  {
   "cell_type": "markdown",
   "metadata": {},
   "source": [
    "#### 6.2. 검증하기"
   ]
  },
  {
   "cell_type": "code",
   "execution_count": 125,
   "metadata": {},
   "outputs": [],
   "source": [
    "from sklearn.model_selection import train_test_split\n",
    "train_index,test_index = train_test_split(range(100),test_size=0.4,random_state=4)"
   ]
  },
  {
   "cell_type": "code",
   "execution_count": 126,
   "metadata": {
    "scrolled": true
   },
   "outputs": [
    {
     "name": "stdout",
     "output_type": "stream",
     "text": [
      "클러스터번호\n",
      "6    3.000000\n",
      "5    2.750000\n",
      "3    2.250000\n",
      "2    2.142857\n",
      "4    2.090909\n",
      "0    2.000000\n",
      "1    1.875000\n",
      "7    1.666667\n",
      "8    1.500000\n",
      "Name: 수빈, dtype: float64\n",
      "수빈: 추천클러스터=6, 추천평균=3.000000, 검증평균=3.000000\n",
      "클러스터번호\n",
      "0    2.444444\n",
      "1    2.166667\n",
      "2    2.875000\n",
      "3    2.000000\n",
      "4    1.750000\n",
      "5    2.333333\n",
      "6    3.000000\n",
      "7    1.500000\n",
      "8    2.000000\n",
      "Name: 수빈, dtype: float64\n",
      "\n",
      "클러스터번호\n",
      "8    2.500000\n",
      "3    2.375000\n",
      "0    2.250000\n",
      "6    2.000000\n",
      "2    2.000000\n",
      "5    1.750000\n",
      "1    1.750000\n",
      "4    1.727273\n",
      "7    1.666667\n",
      "Name: 승준, dtype: float64\n",
      "승준: 추천클러스터=8, 추천평균=2.500000, 검증평균=3.000000\n",
      "클러스터번호\n",
      "0    2.666667\n",
      "1    1.666667\n",
      "2    2.750000\n",
      "3    3.000000\n",
      "4    2.000000\n",
      "5    1.000000\n",
      "6    3.000000\n",
      "7    1.333333\n",
      "8    3.000000\n",
      "Name: 승준, dtype: float64\n",
      "\n",
      "클러스터번호\n",
      "5    3.000000\n",
      "8    2.500000\n",
      "0    2.250000\n",
      "4    1.909091\n",
      "1    1.875000\n",
      "7    1.866667\n",
      "2    1.714286\n",
      "3    1.500000\n",
      "6    1.000000\n",
      "Name: 선주, dtype: float64\n",
      "선주: 추천클러스터=5, 추천평균=3.000000, 검증평균=2.666667\n",
      "클러스터번호\n",
      "0    1.444444\n",
      "1    1.833333\n",
      "2    1.750000\n",
      "3    1.500000\n",
      "4    2.000000\n",
      "5    2.666667\n",
      "6    1.000000\n",
      "7    2.000000\n",
      "8    1.000000\n",
      "Name: 선주, dtype: float64\n",
      "\n",
      "클러스터번호\n",
      "8    3.000000\n",
      "6    3.000000\n",
      "3    2.750000\n",
      "2    2.571429\n",
      "4    2.363636\n",
      "0    2.250000\n",
      "7    2.200000\n",
      "5    2.000000\n",
      "1    1.875000\n",
      "Name: 지후, dtype: float64\n",
      "지후: 추천클러스터=8, 추천평균=3.000000, 검증평균=3.000000\n",
      "클러스터번호\n",
      "0    2.333333\n",
      "1    1.666667\n",
      "2    2.750000\n",
      "3    3.000000\n",
      "4    2.500000\n",
      "5    1.666667\n",
      "6    3.000000\n",
      "7    2.666667\n",
      "8    3.000000\n",
      "Name: 지후, dtype: float64\n",
      "\n"
     ]
    }
   ],
   "source": [
    "dft3 = dft.loc[test_index]\n",
    "for name in ['수빈','승준','선주','지후']:\n",
    "    rmeans = dft.loc[train_index].groupby('클러스터번호')[name].mean()\n",
    "    k = rmeans.sort_values(ascending=False)\n",
    "    rnum = k.index[0]\n",
    "    rmean = k[rnum]\n",
    "    tmeans = dft3.groupby('클러스터번호')[name].mean()\n",
    "    print(k)\n",
    "    print('%s: 추천클러스터=%d, 추천평균=%f, 검증평균=%f' % (name,rnum,rmean,tmeans[rnum]))\n",
    "    print(tmeans)\n",
    "    print()"
   ]
  },
  {
   "cell_type": "markdown",
   "metadata": {},
   "source": [
    "### 7. 리뷰로 추천하기"
   ]
  },
  {
   "cell_type": "markdown",
   "metadata": {},
   "source": [
    "#### 7.1 리뷰에서 특성 벡터 만들기"
   ]
  },
  {
   "cell_type": "code",
   "execution_count": 143,
   "metadata": {},
   "outputs": [
    {
     "data": {
      "text/plain": [
       "(100, 30)"
      ]
     },
     "execution_count": 143,
     "metadata": {},
     "output_type": "execute_result"
    }
   ],
   "source": [
    "columns = ['1', '2', '3', '4', '5', '6', '7', '8', '9', '10',\n",
    "           '11', '12', '13', '14', '15', '16', '17', '18', '19', '20',\n",
    "           '21', '22', '23', '24', '25', '26', '27', '28', '29', '30']\n",
    "df_b = df[columns].copy()\n",
    "df_b.shape"
   ]
  },
  {
   "cell_type": "markdown",
   "metadata": {},
   "source": [
    "* 영화마다 30개의 리뷰를 하나로 합치기"
   ]
  },
  {
   "cell_type": "code",
   "execution_count": 145,
   "metadata": {},
   "outputs": [
    {
     "data": {
      "text/plain": [
       "(100,)"
      ]
     },
     "execution_count": 145,
     "metadata": {},
     "output_type": "execute_result"
    }
   ],
   "source": [
    "texts = df_b.apply(lambda x: ' '.join([str(t) for t in x]),axis=1)\n",
    "texts.shape"
   ]
  },
  {
   "cell_type": "code",
   "execution_count": 148,
   "metadata": {},
   "outputs": [
    {
     "data": {
      "text/plain": [
       "'이 영화는 최근에 '"
      ]
     },
     "execution_count": 148,
     "metadata": {},
     "output_type": "execute_result"
    }
   ],
   "source": [
    "texts[0][:10]"
   ]
  },
  {
   "cell_type": "code",
   "execution_count": 155,
   "metadata": {},
   "outputs": [
    {
     "data": {
      "text/plain": [
       "'하쿠나 마타타♪♪\\n - 영화 라이온킹 후기\\n\\xa0☆ 프롤로'"
      ]
     },
     "execution_count": 155,
     "metadata": {},
     "output_type": "execute_result"
    }
   ],
   "source": [
    "texts[99][:30]"
   ]
  },
  {
   "cell_type": "markdown",
   "metadata": {},
   "source": [
    "* 리뷰에서 명사만 추출하기"
   ]
  },
  {
   "cell_type": "code",
   "execution_count": 150,
   "metadata": {},
   "outputs": [],
   "source": [
    "from khaiii import KhaiiiApi\n",
    "api = KhaiiiApi()\n",
    "nouns = []\n",
    "for text in texts:\n",
    "    noun_movie = []\n",
    "    for token in api.analyze(text):\n",
    "        for x in token.morphs:\n",
    "            if x.tag == 'NNG':\n",
    "                noun_movie.append(x.lex)\n",
    "    nouns.append(noun_movie)"
   ]
  },
  {
   "cell_type": "code",
   "execution_count": 151,
   "metadata": {},
   "outputs": [
    {
     "data": {
      "text/plain": [
       "['영화', '최근', '개봉', '당시', '반감', '곳', '필름', '역사', '표', '후']"
      ]
     },
     "execution_count": 151,
     "metadata": {},
     "output_type": "execute_result"
    }
   ],
   "source": [
    "nouns[0][:10]"
   ]
  },
  {
   "cell_type": "code",
   "execution_count": 152,
   "metadata": {},
   "outputs": [
    {
     "data": {
      "text/plain": [
       "['영화', '라이온킹', '후기', '\\xa0', '프롤로그요즘', '애니메이션', '영화', '\\xa0실사판', '개봉', '작품']"
      ]
     },
     "execution_count": 152,
     "metadata": {},
     "output_type": "execute_result"
    }
   ],
   "source": [
    "nouns[99][:10]"
   ]
  },
  {
   "cell_type": "markdown",
   "metadata": {},
   "source": [
    "* '\\xa0', 'ㅋ', 'ㅎ', 'ㅠ'가 들어있는 단어, 불용어 제거"
   ]
  },
  {
   "cell_type": "code",
   "execution_count": 341,
   "metadata": {},
   "outputs": [],
   "source": [
    "nouns2 = [[x for x in nouns_movie if re.search('\\xa0|ㅋ|ㅎ|ㅠ|스파이더|트랜스포머',x) is None] for nouns_movie in nouns]"
   ]
  },
  {
   "cell_type": "code",
   "execution_count": 529,
   "metadata": {},
   "outputs": [],
   "source": [
    "nouns2 = [['히어로' if x in ['히어','히어로물'] else x for x in nouns_movie] for nouns_movie in nouns2]\n",
    "nouns2 = [['다큐' if x in ['다큐멘터리'] else x for x in nouns_movie] for nouns_movie in nouns2]\n",
    "nouns2 = [['리얼' if x in ['리얼리티'] else x for x in nouns_movie] for nouns_movie in nouns2]"
   ]
  },
  {
   "cell_type": "code",
   "execution_count": 706,
   "metadata": {},
   "outputs": [],
   "source": [
    "stopwords = ['한편','각각','각종','곳곳','공통','공통점','관객수','관람가','관람객','그간','그날','그동안',\n",
    "             '그중','극장가','근래','근처','기간','기대감','기대작','기대치','기자','기사','기타',\n",
    "             '기획','까닭','도중','등장인물','등급','답변','댓글','리뷰보','리뷰보기','뒷받침',\n",
    "             '든것','만약','반면','정말','한동안', '한때', '한마디', '한번', '한순간', '한정', '한쪽',\n",
    "             '한참', '할수', '할애']\n",
    "nouns2 = [[x for x in nouns_movie if x not in stopwords] for nouns_movie in nouns2]"
   ]
  },
  {
   "cell_type": "code",
   "execution_count": 707,
   "metadata": {},
   "outputs": [
    {
     "data": {
      "text/plain": [
       "['영화', '라이온킹', '후기', '프롤로그요즘', '애니메이션', '영화', '개봉', '작품', '영화', '천']"
      ]
     },
     "execution_count": 707,
     "metadata": {},
     "output_type": "execute_result"
    }
   ],
   "source": [
    "nouns2[99][:10]"
   ]
  },
  {
   "cell_type": "markdown",
   "metadata": {},
   "source": [
    "* 한글자 단어 제거하기"
   ]
  },
  {
   "cell_type": "code",
   "execution_count": 708,
   "metadata": {},
   "outputs": [],
   "source": [
    "nouns3 = [[x for x in noun_movie if len(x)>1] for noun_movie in nouns2]"
   ]
  },
  {
   "cell_type": "code",
   "execution_count": 709,
   "metadata": {},
   "outputs": [
    {
     "data": {
      "text/plain": [
       "['영화', '최근', '개봉', '당시', '반감', '필름', '역사', '영화', '보게', '영화']"
      ]
     },
     "execution_count": 709,
     "metadata": {},
     "output_type": "execute_result"
    }
   ],
   "source": [
    "nouns3[0][:10]"
   ]
  },
  {
   "cell_type": "code",
   "execution_count": 710,
   "metadata": {},
   "outputs": [
    {
     "data": {
      "text/plain": [
       "['영화', '라이온킹', '후기', '프롤로그요즘', '애니메이션', '영화', '개봉', '작품', '영화', '기대']"
      ]
     },
     "execution_count": 710,
     "metadata": {},
     "output_type": "execute_result"
    }
   ],
   "source": [
    "nouns3[99][:10]"
   ]
  },
  {
   "cell_type": "markdown",
   "metadata": {},
   "source": [
    "* 단어들을 연결하여 하나의 문자열로 만들기"
   ]
  },
  {
   "cell_type": "code",
   "execution_count": 711,
   "metadata": {},
   "outputs": [],
   "source": [
    "corpus = [' '.join(x) for x in nouns3]"
   ]
  },
  {
   "cell_type": "code",
   "execution_count": 712,
   "metadata": {},
   "outputs": [
    {
     "data": {
      "text/plain": [
       "'영화 최근 개봉 당시 반감 필름 역사'"
      ]
     },
     "execution_count": 712,
     "metadata": {},
     "output_type": "execute_result"
    }
   ],
   "source": [
    "corpus[0][:20]"
   ]
  },
  {
   "cell_type": "code",
   "execution_count": 713,
   "metadata": {},
   "outputs": [
    {
     "data": {
      "text/plain": [
       "'영화 라이온킹 후기 프롤로그요즘 애니'"
      ]
     },
     "execution_count": 713,
     "metadata": {},
     "output_type": "execute_result"
    }
   ],
   "source": [
    "corpus[99][:20]"
   ]
  },
  {
   "cell_type": "markdown",
   "metadata": {},
   "source": [
    "* 단어가 포함된 영화의 개수가 20에서 70까지인 단어들만 모아서 Document term matrix를 만든다."
   ]
  },
  {
   "cell_type": "code",
   "execution_count": 739,
   "metadata": {},
   "outputs": [],
   "source": [
    "from sklearn.feature_extraction.text import CountVectorizer\n",
    "\n",
    "vectorizer = CountVectorizer(\n",
    "    min_df=20,\n",
    "    max_df=70,\n",
    "    ngram_range=(1,1),\n",
    "    lowercase=False,\n",
    "    tokenizer=lambda x:x.split(' '))\n",
    "# vectorizer = CountVectorizer()\n",
    "\n",
    "X = vectorizer.fit_transform(corpus)"
   ]
  },
  {
   "cell_type": "code",
   "execution_count": 740,
   "metadata": {},
   "outputs": [
    {
     "data": {
      "text/plain": [
       "<100x1361 sparse matrix of type '<class 'numpy.int64'>'\n",
       "\twith 48714 stored elements in Compressed Sparse Row format>"
      ]
     },
     "execution_count": 740,
     "metadata": {},
     "output_type": "execute_result"
    }
   ],
   "source": [
    "X"
   ]
  },
  {
   "cell_type": "markdown",
   "metadata": {},
   "source": [
    "* sparse matrix를 일반 행렬로 변형"
   ]
  },
  {
   "cell_type": "code",
   "execution_count": 741,
   "metadata": {},
   "outputs": [],
   "source": [
    "X2 = X.toarray()"
   ]
  },
  {
   "cell_type": "markdown",
   "metadata": {},
   "source": [
    "* 각 열에 대응되는 단어들의 목록"
   ]
  },
  {
   "cell_type": "code",
   "execution_count": 742,
   "metadata": {},
   "outputs": [
    {
     "data": {
      "text/plain": [
       "['가게', '가미', '가상', '가수', '가슴', '가운데', '가장', '가정', '가족애', '가짜']"
      ]
     },
     "execution_count": 742,
     "metadata": {},
     "output_type": "execute_result"
    }
   ],
   "source": [
    "vectorizer.get_feature_names()[:10]"
   ]
  },
  {
   "cell_type": "code",
   "execution_count": 743,
   "metadata": {},
   "outputs": [
    {
     "data": {
      "text/plain": [
       "['훈련', '휴가', '흉내', '흑백', '흔적', '흥분', '흥행작', '희망', '히어로', '히트']"
      ]
     },
     "execution_count": 743,
     "metadata": {},
     "output_type": "execute_result"
    }
   ],
   "source": [
    "vectorizer.get_feature_names()[-10:]"
   ]
  },
  {
   "cell_type": "code",
   "execution_count": 744,
   "metadata": {},
   "outputs": [
    {
     "data": {
      "text/plain": [
       "1361"
      ]
     },
     "execution_count": 744,
     "metadata": {},
     "output_type": "execute_result"
    }
   ],
   "source": [
    "len(vectorizer.get_feature_names())"
   ]
  },
  {
   "cell_type": "code",
   "execution_count": 745,
   "metadata": {},
   "outputs": [
    {
     "data": {
      "text/plain": [
       "array(['가게', '가미', '가상', '가수', '가슴', '가운데', '가장', '가정', '가족애', '가짜', '가치',\n",
       "       '가치관', '각본', '각색', '각성', '각인', '각자', '간접', '간직', '감각', '감당', '감상평',\n",
       "       '감성', '감수', '감안', '감옥', '감정선', '감초', '감탄', '강도', '강요', '강자', '강점',\n",
       "       '강제', '강조', '개개인', '개그', '개념', '개발', '개봉일', '개봉작', '개성', '개연',\n",
       "       '개입', '객관', '거대', '거부', '거부감', '거절', '거짓', '거짓말', '건강', '건물', '검사',\n",
       "       '검색', '검증', '게임', '겨냥', '겨울', '견해', '결과물', '결심', '결합', '결혼', '경계',\n",
       "       '경고', '경쟁', '경제', '경찰', '경향', '경험', '계급', '계기', '계산', '계획', '고개',\n",
       "       '고군분투', '고급', '고난', '고뇌', '고려', '고리', '고발', '고백', '고생', '고위', '고전',\n",
       "       '고조', '고집', '고통', '고향', '곤란', '공간', '공개', '공격', '공동', '공부', '공식',\n",
       "       '공유', '공존', '공주', '공포', '과도', '과시', '과언', '과장', '과학', '관리', '관점',\n",
       "       '관통', '광고', '괴물', '교과서', '교육', '교차', '교체', '교훈', '구경', '구도', '구멍',\n",
       "       '구분', '구석', '구원', '구조', '구체', '구축', '구출', '구현', '국가', '국민', '국제',\n",
       "       '군대', '군인', '궁극', '궁금증', '권력', '권력자', '권선', '귀신', '규모', '균형',\n",
       "       '그래픽', '그림', '그림자', '극단', '극대', '극도', '극복', '극찬', '극한', '근거', '금지',\n",
       "       '긍정', '기계', '기관', '기능', '기도', '기반', '기법', '기술', '기술력', '기승', '기업',\n",
       "       '기원', '기적', '기전', '기준', '긴박', '긴장', '깊이', '깡패', '깨알', '꼬리', '꼬마',\n",
       "       '나머지', '나무', '나약', '나열', '나이', '난리', '난무', '남녀', '남녀노소', '남성',\n",
       "       '남편', '납득', '낭비', '내공', '내년', '내면', '내부', '내심', '내일', '냄새', '냉정',\n",
       "       '네티즌', '노골', '노래', '노릇', '노인', '노출', '논란', '논리', '놀이', '농담', '누적',\n",
       "       '눈길', '눈빛', '눈앞', '눈치', '뉴스', '능가', '다리', '다수', '다짐', '다큐', '다행',\n",
       "       '닥터', '단계', '단독', '단어', '단역', '단점', '단정', '단체', '단편', '달성', '담당',\n",
       "       '당일', '당장', '당첨', '당황', '대가', '대결', '대다수', '대답', '대립', '대목', '대변',\n",
       "       '대비', '대상', '대세', '대작', '대장', '대조', '대체', '대치', '대통령', '대학', '대항',\n",
       "       '대화', '데뷔', '데이트', '도구', '도달', '도덕', '도둑', '도시', '도전', '도착', '독립',\n",
       "       '독보', '독창', '독특', '돌파', '동기', '동네', '동료', '동물', '동반', '동생', '동영상',\n",
       "       '동원', '동의', '동일', '동화', '두려움', '디자인', '디테일', '떡밥', '뚜껑', '라인',\n",
       "       '라인업', '러닝', '러브', '로맨스', '로봇', '루즈', '리더', '리메이크', '리얼', '링크',\n",
       "       '마감', '마디', '마련', '마법', '마을', '마음속', '마케팅', '막장', '막판', '만남', '만점',\n",
       "       '만화', '말씀', '말투', '매체', '맥락', '머릿속', '메가박스', '메세지', '메시지', '메인',\n",
       "       '멘트', '멜로', '멤버', '며칠', '면모', '멸망', '명대사', '명령', '명분', '명성', '명예',\n",
       "       '명작', '명장', '명장면', '명품', '모델', '모순', '모양', '모티브', '모험', '목격',\n",
       "       '목소리', '목숨', '목적', '목표', '몰입감', '몰입도', '몸매', '무게', '무게감', '무기',\n",
       "       '무능', '무대', '무력', '무릎', '무리', '무비', '무술', '무시', '무식', '무장', '무지',\n",
       "       '무한', '문구', '문제점', '문화', '물건', '물론', '물음', '뮤지컬', '미래', '미모', '미션',\n",
       "       '미소', '미술', '미스', '미안', '미화', '민족', '민주주의', '믿음', '바다', '바닥', '바람',\n",
       "       '바보', '바탕', '박사', '박수', '박진감', '반감', '반대', '반복', '반부', '반성', '반영',\n",
       "       '반전', '반지', '발견', '발산', '발생', '발언', '발음', '발전', '발표', '발휘', '방문',\n",
       "       '방송', '방식', '방영', '방해', '방향', '배급', '배급사', '배려', '배신', '배역', '배우분',\n",
       "       '배제', '배치', '백미', '버전', '범인', '범죄', '범죄자', '베테랑', '변명', '변신', '별개',\n",
       "       '별로', '별점', '병원', '보고', '보기', '보기전', '보단', '보도', '보상', '보수', '보장',\n",
       "       '보통', '보편', '보호', '복귀', '복선', '복수', '복장', '본격', '본능', '본래', '본연',\n",
       "       '본적', '본질', '볼거리', '부각', '부담', '부대', '부류', '부모', '부부', '부상', '부실',\n",
       "       '부여', '부인', '부자', '부재', '부정', '부탁', '부하', '부활', '분노', '분량', '분류',\n",
       "       '분석', '분장', '불가', '불꽃', '불만', '불법', '불안', '불편', '불행', '붕괴', '블랙',\n",
       "       '블로그', '블록버스터', '비극', '비난', '비디오', '비밀', '비유', '비주얼', '비참', '비판',\n",
       "       '비평', '비행기', '빈약', '사고', '사극', '사기', '사례', '사망', '사상', '사업', '사연',\n",
       "       '사운드', '사장', '사전'], dtype='<U5')"
      ]
     },
     "execution_count": 745,
     "metadata": {},
     "output_type": "execute_result"
    }
   ],
   "source": [
    "np.array(vectorizer.get_feature_names()[:500])"
   ]
  },
  {
   "cell_type": "code",
   "execution_count": 746,
   "metadata": {},
   "outputs": [
    {
     "data": {
      "text/plain": [
       "array(['사정', '사태', '사투', '사항', '살인', '살해', '삽입', '상관', '상기', '상당', '상대방',\n",
       "       '상상력', '상승', '상식', '상실', '상업', '상영관', '상위', '상징', '상처', '새끼', '색깔',\n",
       "       '생략', '생명', '생산', '생존', '생활', '서로', '서비스', '서사', '선동', '선물', '선배',\n",
       "       '선사', '선생', '선수', '선언', '선전', '선정', '선호', '설득', '설득력', '설치', '성격',\n",
       "       '성과', '성숙', '성인', '성장', '성적', '성향', '세계관', '세기', '세대', '세력', '세련',\n",
       "       '세월', '세트', '센스', '소감', '소개', '소녀', '소년', '소름', '소문', '소비', '소설',\n",
       "       '소속', '소수', '소식', '소원', '소통', '소품', '소화', '속도', '속도감', '속편', '손가락',\n",
       "       '손색', '수단', '수록', '수사', '수상', '수업', '수용', '수익', '수작', '수장', '수정',\n",
       "       '수행', '순서', '순수', '순식간', '순위', '숫자', '슈퍼', '슈퍼맨', '스릴', '스릴러',\n",
       "       '스스로', '스케일', '스코어', '스타', '스타일', '스튜디오', '스트', '스트레스', '스파이',\n",
       "       '스펙터클', '슬픔', '습격', '승리', '승부', '승승장구', '시각', '시기', '시나리오', '시너지',\n",
       "       '시도', '시리즈', '시민', '시사', '시사회', '시선', '시스템', '시장', '시절', '시점',\n",
       "       '시종일관', '시즌', '시청', '시체', '시퀀스', '시험', '식상', '신경', '신념', '신뢰',\n",
       "       '신문', '신분', '신비', '신인', '신작', '신체', '신파', '신화', '실감', '실력', '실망감',\n",
       "       '실사', '실소', '실수', '실존', '실질', '실체', '실패', '실행', '실험', '실현', '실화',\n",
       "       '심리', '심장', '심정', '심판', '싱크', '쓰레기', '아기', '아내', '아들', '아래', '아무것',\n",
       "       '아버지', '아빠', '아역', '아이디어', '아이러니', '아저씨', '아침', '아카데미', '아픔', '악당',\n",
       "       '악랄', '악마', '악역', '안녕', '안보', '안전', '안정', '알바', '암살', '암시', '암울',\n",
       "       '압권', '압도', '압박', '앞뒤', '애국심', '애기', '애니', '애니메이션', '애정', '애초',\n",
       "       '액션신', '액션씬', '야기', '약간', '약속', '약자', '약점', '양심', '어깨', '어둠',\n",
       "       '어려움', '어른', '어린이', '어머니', '어벤', '어벤져', '어이', '어제', '어필', '억압',\n",
       "       '억지', '언니', '언론', '언어', '엄마', '업그레이드', '에너지', '에피소드', '엔딩',\n",
       "       '엔딩크레딧', '여기저기', '여름', '여배우', '여부', '여성', '여운', '여유', '여인', '여정',\n",
       "       '여주인공', '여타', '여행', '역대', '역동', '역량', '역시', '역활', '연결', '연계', '연관',\n",
       "       '연구', '연극', '연기자', '연기파', '연락', '연상', '연속', '연습', '연애', '연인',\n",
       "       '연출력', '연휴', '열광', '열연', '열정', '영광', '영역', '영웅', '영원', '영향', '영향력',\n",
       "       '영혼', '영화보', '영화사', '영화상', '영화인', '영화제', '예고', '예매', '예산', '예술',\n",
       "       '예전', '예정', '예측', '옛날', '오늘날', '오락', '오래전', '오랜만', '오랫동안', '오류',\n",
       "       '오만', '오버랩', '오브', '오빠', '오프닝', '오해', '오후', '올해', '와중', '완성도',\n",
       "       '왜곡', '외국', '외국인', '외면', '외모', '외부', '왼쪽', '요구', '요새', '요약', '요원',\n",
       "       '요인', '요청', '욕구', '욕망', '욕심', '용기', '용서', '우려', '우선', '우수', '우연',\n",
       "       '우울', '우정', '우주', '운동', '운명', '운영', '울림', '움직임', '원본보기', '원인',\n",
       "       '원작', '위기', '위로', '위원회', '위주', '위치', '위트', '위협', '유기', '유도', '유리',\n",
       "       '유머', '유머러스', '유발', '유사', '유일', '유지', '유튜브', '유행', '유혹', '음모',\n",
       "       '음식', '음악', '응원', '의구심', '의리', '의문', '의사', '의상', '의식', '의심', '의아',\n",
       "       '의외', '의자', '의존', '의지', '이것저것', '이기', '이념', '이동', '이드', '이때', '이론',\n",
       "       '이면', '이벤트', '이성', '이슈', '이스', '이외', '이웃', '이익', '이입', '이전', '이정',\n",
       "       '이중', '이지', '이질감', '이쯤', '이트', '이하', '인공', '인기', '인류', '인사', '인식',\n",
       "       '인연', '인원', '인정', '인지', '인터넷', '인터뷰', '일관', '일당', '일련', '일명', '일반',\n",
       "       '일반인', '일방', '일부', '일상', '일정', '일종', '일주일', '일치', '임금', '임무',\n",
       "       '임팩트', '입소문', '입증', '입체', '자격', '자극', '자동차', '자랑', '자료', '자막',\n",
       "       '자본주의', '자비', '자살', '자세', '자식', '자유', '작가', '작년', '작성', '작성자',\n",
       "       '작업', '작용', '작위', '작전', '작정', '작중', '잔인', '잔혹', '잘못', '잠깐', '잠입',\n",
       "       '장군', '장기', '장난', '장담', '장비', '장소', '장식', '장악', '장점', '장치', '장편',\n",
       "       '재난', '재능', '재료', '재산', '재치', '재현', '저녁', '적극', '적용', '적응', '전결',\n",
       "       '전국', '전달', '전락', '전략', '전문', '전문가', '전반', '전부', '전설', '전율', '전작',\n",
       "       '전쟁', '전적', '전제', '전통', '전투', '전편', '전형', '전화', '전환', '절대', '절망',\n",
       "       '절반', '절정', '절제', '점령', '점수'], dtype='<U5')"
      ]
     },
     "execution_count": 746,
     "metadata": {},
     "output_type": "execute_result"
    }
   ],
   "source": [
    "np.array(vectorizer.get_feature_names()[500:1000])"
   ]
  },
  {
   "cell_type": "code",
   "execution_count": 747,
   "metadata": {},
   "outputs": [
    {
     "data": {
      "text/plain": [
       "array(['접근', '정권', '정면', '정부', '정상', '정서', '정식', '정의', '정작', '정점', '정체',\n",
       "       '정치', '정치인', '정통', '정확', '제거', '제공', '제대', '제시', '제안', '제압', '제외',\n",
       "       '제작비', '제작사', '제작자', '제작진', '제한', '조건', '조명', '조사', '조성', '조심',\n",
       "       '조작', '조절', '조정', '조직', '조폭', '조합', '조화', '존경', '존재감', '존중', '졸업',\n",
       "       '종교', '종류', '종합', '좌석', '좌절', '죄책감', '주관', '주도', '주말', '주먹', '주목',\n",
       "       '주요', '주위', '주의', '주인', '주장', '주체', '중반', '중반부', '중점', '즐거움', '증거',\n",
       "       '증명', '증폭', '지구', '지능', '지도', '지도자', '지배', '지속', '지시', '지식', '지역',\n",
       "       '지옥', '지원', '지인', '지적', '지점', '지지', '지향', '직감', '직업', '직원', '직전',\n",
       "       '직접', '직후', '진리', '진실', '진심', '진입', '진정', '진화', '질문', '질주', '짐작',\n",
       "       '집단', '집안', '집중력', '집착', '징악', '짜임새', '짜증', '찌질', '차기작', '차량',\n",
       "       '차례', '차별', '차용', '차원', '차이점', '차지', '착각', '참고', '참여', '창조', '책임',\n",
       "       '책임감', '처리', '처벌', '처절', '처지', '천만', '천재', '철저', '철학', '첨부', '청년',\n",
       "       '청소년', '체제', '체포', '초기', '초대', '초반부', '초월', '초점', '총평', '최강', '최대',\n",
       "       '최대한', '최선', '최소', '최소한', '최악', '최종', '최초', '최후', '추가', '추격', '추구',\n",
       "       '추락', '추억', '추적', '추정', '추천드', '추측', '출동', '출발', '출신', '출연진', '출처',\n",
       "       '충격', '충돌', '충성', '충실', '충족', '취급', '취향', '측면', '치료', '치명', '치부',\n",
       "       '치열', '치중', '친숙', '친절', '침묵', '칭찬', '카리스마', '카메라', '카메오', '카타르시스',\n",
       "       '캡틴', '커버', '커플', '컨셉', '컴퓨터', '케이스', '코드', '코미디', '코믹', '콤비',\n",
       "       '쾌감', '쿠키', '퀄리티', '크기', '클로즈업', '키스', '타이밍', '타이틀', '타인', '타협',\n",
       "       '탄생', '탈출', '태도', '택시', '테러', '토대', '통제', '통쾌', '통합', '투씬', '투입',\n",
       "       '투자', '특성', '특수', '특이', '특정', '특징', '티비', '티켓', '파괴', '파악', '파워',\n",
       "       '파트', '파티', '판단', '판타지', '팝콘', '패러디', '패배', '팩트', '편견', '편안', '편지',\n",
       "       '편집', '평균', '평론가', '평생', '평소', '평일', '평화', '포기', '포스', '포스터',\n",
       "       '포스트', '포스팅', '포장', '포착', '포커스', '폭력', '폭발', '폭탄', '폭파', '폭풍',\n",
       "       '표정', '표출', '풍경', '풍자', '프로', '프로그램', '플레이', '플롯', '피곤', '피부',\n",
       "       '피스', '피해', '피해자', '픽션', '필름', '필모그래', '필수', '필자', '하나하나', '하늘',\n",
       "       '하루', '하이라이트', '학교', '학생', '한계', '한국인', '할아버지', '함정', '합류', '합리',\n",
       "       '해결', '해당', '해석', '해소', '해외', '해적', '해피', '해피엔딩', '핵심', '핸드폰',\n",
       "       '행보', '행복', '행사', '행위', '향연', '허구', '허락', '허무', '헌신', '헐리웃', '혁명',\n",
       "       '현대', '현상', '현실감', '현장', '현재', '협력', '협박', '형사', '형성', '형식', '형제',\n",
       "       '형태', '호감', '호기심', '호소', '호응', '호평', '호흡', '혹평', '혼란', '홍보', '화장실',\n",
       "       '화제', '확률', '확보', '확신', '확장', '확정', '환경', '환상', '환영', '활동', '활약',\n",
       "       '활용', '회복', '회사', '회상', '회의', '후반', '후보', '후속작', '후자', '후회', '훈련',\n",
       "       '휴가', '흉내', '흑백', '흔적', '흥분', '흥행작', '희망', '히어로', '히트'],\n",
       "      dtype='<U5')"
      ]
     },
     "execution_count": 747,
     "metadata": {},
     "output_type": "execute_result"
    }
   ],
   "source": [
    "np.array(vectorizer.get_feature_names()[1000:])"
   ]
  },
  {
   "cell_type": "markdown",
   "metadata": {},
   "source": [
    "* 각 영화리뷰에서 '추측'의 개수"
   ]
  },
  {
   "cell_type": "code",
   "execution_count": 748,
   "metadata": {},
   "outputs": [
    {
     "data": {
      "text/plain": [
       "(array([1157]),)"
      ]
     },
     "execution_count": 748,
     "metadata": {},
     "output_type": "execute_result"
    }
   ],
   "source": [
    "np.where([x=='추측' for x in vectorizer.get_feature_names()])"
   ]
  },
  {
   "cell_type": "code",
   "execution_count": 749,
   "metadata": {},
   "outputs": [
    {
     "data": {
      "text/plain": [
       "array([ 1,  1,  0,  0,  4,  0,  1,  1,  0,  0,  0,  0,  1,  0,  2,  0,  0,\n",
       "        0,  0,  0,  0,  0,  0,  0,  0,  1,  1,  8,  2,  0,  0,  1,  0,  0,\n",
       "        1,  1,  1,  0,  1,  1,  0,  0,  1,  0,  0,  0,  0,  0,  0,  0,  3,\n",
       "        0,  0,  0,  1,  3,  0,  1,  0,  0, 18,  0,  0,  1,  0,  1,  0,  1,\n",
       "        1,  1,  1,  1,  0,  0,  0,  0,  0,  0,  0,  1,  3,  5,  0,  0,  0,\n",
       "        5,  0,  1,  0,  0,  1,  3,  1,  1,  0,  0,  0,  0,  1,  0])"
      ]
     },
     "execution_count": 749,
     "metadata": {},
     "output_type": "execute_result"
    }
   ],
   "source": [
    "X2[:,1157]"
   ]
  },
  {
   "cell_type": "code",
   "execution_count": 750,
   "metadata": {},
   "outputs": [
    {
     "data": {
      "text/plain": [
       "array([ 1,  1,  0,  0,  4,  0,  1,  1,  0,  0,  0,  0,  1,  0,  2,  0,  0,\n",
       "        0,  0,  0,  0,  0,  0,  0,  0,  1,  1,  8,  2,  0,  0,  1,  0,  0,\n",
       "        1,  1,  1,  0,  1,  1,  0,  0,  1,  0,  0,  0,  0,  0,  0,  0,  3,\n",
       "        0,  0,  0,  1,  3,  0,  1,  0,  0, 18,  0,  0,  1,  0,  1,  0,  1,\n",
       "        1,  1,  1,  1,  0,  0,  0,  0,  0,  0,  0,  1,  3,  5,  0,  0,  0,\n",
       "        5,  0,  1,  0,  0,  1,  3,  1,  1,  0,  0,  0,  0,  1,  0])"
      ]
     },
     "execution_count": 750,
     "metadata": {},
     "output_type": "execute_result"
    }
   ],
   "source": [
    "np.array([sum([x=='추측' for x in nouns_movie]) for nouns_movie in nouns3])"
   ]
  },
  {
   "cell_type": "markdown",
   "metadata": {},
   "source": [
    "#### 7.2 학습하기"
   ]
  },
  {
   "cell_type": "code",
   "execution_count": 751,
   "metadata": {},
   "outputs": [
    {
     "data": {
      "text/plain": [
       "KMeans(algorithm='auto', copy_x=True, init='k-means++', max_iter=300,\n",
       "       n_clusters=9, n_init=10, n_jobs=None, precompute_distances='auto',\n",
       "       random_state=2, tol=0.0001, verbose=0)"
      ]
     },
     "execution_count": 751,
     "metadata": {},
     "output_type": "execute_result"
    }
   ],
   "source": [
    "from sklearn.cluster import KMeans\n",
    "km = KMeans(n_clusters=9,random_state=2)\n",
    "km.fit(X2)"
   ]
  },
  {
   "cell_type": "code",
   "execution_count": 752,
   "metadata": {},
   "outputs": [],
   "source": [
    "dft = df[['영화명','수빈','승준','선주','지후']].copy()\n",
    "dft['클러스터번호'] = km.labels_"
   ]
  },
  {
   "cell_type": "code",
   "execution_count": 753,
   "metadata": {},
   "outputs": [
    {
     "data": {
      "text/html": [
       "<div>\n",
       "<style scoped>\n",
       "    .dataframe tbody tr th:only-of-type {\n",
       "        vertical-align: middle;\n",
       "    }\n",
       "\n",
       "    .dataframe tbody tr th {\n",
       "        vertical-align: top;\n",
       "    }\n",
       "\n",
       "    .dataframe thead th {\n",
       "        text-align: right;\n",
       "    }\n",
       "</style>\n",
       "<table border=\"1\" class=\"dataframe\">\n",
       "  <thead>\n",
       "    <tr style=\"text-align: right;\">\n",
       "      <th></th>\n",
       "      <th>영화명</th>\n",
       "      <th>수빈</th>\n",
       "      <th>승준</th>\n",
       "      <th>선주</th>\n",
       "      <th>지후</th>\n",
       "      <th>클러스터번호</th>\n",
       "    </tr>\n",
       "  </thead>\n",
       "  <tbody>\n",
       "    <tr>\n",
       "      <th>0</th>\n",
       "      <td>명량</td>\n",
       "      <td>2</td>\n",
       "      <td>3</td>\n",
       "      <td>1</td>\n",
       "      <td>3</td>\n",
       "      <td>0</td>\n",
       "    </tr>\n",
       "    <tr>\n",
       "      <th>1</th>\n",
       "      <td>극한직업</td>\n",
       "      <td>3</td>\n",
       "      <td>3</td>\n",
       "      <td>3</td>\n",
       "      <td>3</td>\n",
       "      <td>0</td>\n",
       "    </tr>\n",
       "    <tr>\n",
       "      <th>2</th>\n",
       "      <td>신과함께-죄와 벌</td>\n",
       "      <td>3</td>\n",
       "      <td>2</td>\n",
       "      <td>2</td>\n",
       "      <td>3</td>\n",
       "      <td>0</td>\n",
       "    </tr>\n",
       "    <tr>\n",
       "      <th>3</th>\n",
       "      <td>국제시장</td>\n",
       "      <td>3</td>\n",
       "      <td>2</td>\n",
       "      <td>2</td>\n",
       "      <td>2</td>\n",
       "      <td>7</td>\n",
       "    </tr>\n",
       "    <tr>\n",
       "      <th>4</th>\n",
       "      <td>어벤져스: 엔드게임</td>\n",
       "      <td>3</td>\n",
       "      <td>3</td>\n",
       "      <td>1</td>\n",
       "      <td>3</td>\n",
       "      <td>0</td>\n",
       "    </tr>\n",
       "  </tbody>\n",
       "</table>\n",
       "</div>"
      ],
      "text/plain": [
       "          영화명  수빈  승준  선주  지후  클러스터번호\n",
       "0          명량   2   3   1   3       0\n",
       "1        극한직업   3   3   3   3       0\n",
       "2   신과함께-죄와 벌   3   2   2   3       0\n",
       "3        국제시장   3   2   2   2       7\n",
       "4  어벤져스: 엔드게임   3   3   1   3       0"
      ]
     },
     "execution_count": 753,
     "metadata": {},
     "output_type": "execute_result"
    }
   ],
   "source": [
    "dft.head()"
   ]
  },
  {
   "cell_type": "markdown",
   "metadata": {},
   "source": [
    "#### 7.3 검증하기"
   ]
  },
  {
   "cell_type": "code",
   "execution_count": 754,
   "metadata": {},
   "outputs": [],
   "source": [
    "from sklearn.model_selection import train_test_split\n",
    "train_index,test_index = train_test_split(range(100),test_size=0.4,random_state=4)"
   ]
  },
  {
   "cell_type": "code",
   "execution_count": 755,
   "metadata": {},
   "outputs": [
    {
     "name": "stdout",
     "output_type": "stream",
     "text": [
      "클러스터번호\n",
      "7    2.200000\n",
      "0    2.019231\n",
      "8    2.000000\n",
      "4    2.000000\n",
      "3    1.000000\n",
      "Name: 수빈, dtype: float64\n",
      "수빈: 추천클러스터=7, 추천평균=2.200000, 검증평균=1.000000\n",
      "클러스터번호\n",
      "0    2.34375\n",
      "1    2.00000\n",
      "2    1.00000\n",
      "4    2.50000\n",
      "5    2.00000\n",
      "6    3.00000\n",
      "7    1.00000\n",
      "Name: 수빈, dtype: float64\n",
      "\n",
      "클러스터번호\n",
      "4    3.000000\n",
      "3    2.000000\n",
      "0    1.942308\n",
      "7    1.400000\n",
      "8    1.000000\n",
      "Name: 승준, dtype: float64\n",
      "승준: 추천클러스터=4, 추천평균=3.000000, 검증평균=3.000000\n",
      "클러스터번호\n",
      "0    2.21875\n",
      "1    3.00000\n",
      "2    1.00000\n",
      "4    3.00000\n",
      "5    1.00000\n",
      "6    3.00000\n",
      "7    1.00000\n",
      "Name: 승준, dtype: float64\n",
      "\n",
      "클러스터번호\n",
      "4    2.000000\n",
      "0    1.961538\n",
      "7    1.800000\n",
      "8    1.000000\n",
      "3    1.000000\n",
      "Name: 선주, dtype: float64\n",
      "선주: 추천클러스터=4, 추천평균=2.000000, 검증평균=2.000000\n",
      "클러스터번호\n",
      "0    1.6875\n",
      "1    3.0000\n",
      "2    2.0000\n",
      "4    2.0000\n",
      "5    3.0000\n",
      "6    1.0000\n",
      "7    2.0000\n",
      "Name: 선주, dtype: float64\n",
      "\n",
      "클러스터번호\n",
      "4    3.000000\n",
      "0    2.423077\n",
      "8    2.000000\n",
      "7    1.600000\n",
      "3    1.000000\n",
      "Name: 지후, dtype: float64\n",
      "지후: 추천클러스터=4, 추천평균=3.000000, 검증평균=3.000000\n",
      "클러스터번호\n",
      "0    2.5\n",
      "1    2.0\n",
      "2    1.0\n",
      "4    3.0\n",
      "5    2.0\n",
      "6    3.0\n",
      "7    1.0\n",
      "Name: 지후, dtype: float64\n",
      "\n"
     ]
    }
   ],
   "source": [
    "for name in ['수빈','승준','선주','지후']:\n",
    "    rmeans = dft.loc[train_index].groupby('클러스터번호')[name].mean()\n",
    "    k = rmeans.sort_values(ascending=False)\n",
    "    rnum = k.index[0]\n",
    "    rmean = k[rnum]\n",
    "    tmeans = dft.loc[test_index].groupby('클러스터번호')[name].mean()\n",
    "    print(k)\n",
    "    print('%s: 추천클러스터=%d, 추천평균=%f, 검증평균=%f' % (name,rnum,rmean,tmeans[rnum]))\n",
    "    print(tmeans)\n",
    "    print()"
   ]
  },
  {
   "cell_type": "markdown",
   "metadata": {},
   "source": [
    "### 8.리뷰에서 tfidf로 특성벡터를 만들어 추천하기"
   ]
  },
  {
   "cell_type": "markdown",
   "metadata": {},
   "source": [
    "#### 8.1 tfidf 계산하기"
   ]
  },
  {
   "cell_type": "code",
   "execution_count": 756,
   "metadata": {},
   "outputs": [],
   "source": [
    "from sklearn.feature_extraction.text import TfidfVectorizer\n",
    "\n",
    "vectorizer = TfidfVectorizer(\n",
    "    min_df=20,\n",
    "    max_df=70,\n",
    "    ngram_range=(1,1),\n",
    "    lowercase=True,\n",
    "    tokenizer=lambda x:x.split(' '))\n",
    "# vectorizer = CountVectorizer()\n",
    "\n",
    "X = vectorizer.fit_transform(corpus)"
   ]
  },
  {
   "cell_type": "code",
   "execution_count": 757,
   "metadata": {},
   "outputs": [
    {
     "data": {
      "text/plain": [
       "<100x1361 sparse matrix of type '<class 'numpy.float64'>'\n",
       "\twith 48714 stored elements in Compressed Sparse Row format>"
      ]
     },
     "execution_count": 757,
     "metadata": {},
     "output_type": "execute_result"
    }
   ],
   "source": [
    "X"
   ]
  },
  {
   "cell_type": "code",
   "execution_count": 758,
   "metadata": {},
   "outputs": [],
   "source": [
    "X2 = X.toarray()"
   ]
  },
  {
   "cell_type": "markdown",
   "metadata": {},
   "source": [
    "* 추측에 대응되는 tfidf의 값"
   ]
  },
  {
   "cell_type": "code",
   "execution_count": 759,
   "metadata": {},
   "outputs": [
    {
     "data": {
      "text/plain": [
       "(array([1157]),)"
      ]
     },
     "execution_count": 759,
     "metadata": {},
     "output_type": "execute_result"
    }
   ],
   "source": [
    "np.where([x=='추측' for x in vectorizer.get_feature_names()])"
   ]
  },
  {
   "cell_type": "code",
   "execution_count": 760,
   "metadata": {},
   "outputs": [
    {
     "data": {
      "text/plain": [
       "array([0.00521955, 0.00853255, 0.        , 0.        , 0.02405856,\n",
       "       0.        , 0.00557733, 0.00242592, 0.        , 0.        ,\n",
       "       0.        , 0.        , 0.0100295 , 0.        , 0.01586771,\n",
       "       0.        , 0.        , 0.        , 0.        , 0.        ,\n",
       "       0.        , 0.        , 0.        , 0.        , 0.        ,\n",
       "       0.01011266, 0.00767257, 0.01885164, 0.00649382, 0.        ,\n",
       "       0.        , 0.01010389, 0.        , 0.        , 0.01203262,\n",
       "       0.00360972, 0.00591733, 0.        , 0.00664438, 0.00970814,\n",
       "       0.        , 0.        , 0.01959558, 0.        , 0.        ,\n",
       "       0.        , 0.        , 0.        , 0.        , 0.        ,\n",
       "       0.00729805, 0.        , 0.        , 0.        , 0.00436811,\n",
       "       0.01791778, 0.        , 0.00606271, 0.        , 0.        ,\n",
       "       0.04416932, 0.        , 0.        , 0.01246746, 0.        ,\n",
       "       0.00873238, 0.        , 0.0048889 , 0.01035776, 0.01073892,\n",
       "       0.0218663 , 0.01134743, 0.        , 0.        , 0.        ,\n",
       "       0.        , 0.        , 0.        , 0.        , 0.00416999,\n",
       "       0.01731184, 0.04193697, 0.        , 0.        , 0.        ,\n",
       "       0.02422231, 0.        , 0.01047128, 0.        , 0.        ,\n",
       "       0.00765165, 0.0200234 , 0.01178168, 0.0074649 , 0.        ,\n",
       "       0.        , 0.        , 0.        , 0.00667152, 0.        ])"
      ]
     },
     "execution_count": 760,
     "metadata": {},
     "output_type": "execute_result"
    }
   ],
   "source": [
    "X2[:,1157]"
   ]
  },
  {
   "cell_type": "code",
   "execution_count": 761,
   "metadata": {},
   "outputs": [
    {
     "data": {
      "text/plain": [
       "array([ 1,  1,  0,  0,  4,  0,  1,  1,  0,  0,  0,  0,  1,  0,  2,  0,  0,\n",
       "        0,  0,  0,  0,  0,  0,  0,  0,  1,  1,  8,  2,  0,  0,  1,  0,  0,\n",
       "        1,  1,  1,  0,  1,  1,  0,  0,  1,  0,  0,  0,  0,  0,  0,  0,  3,\n",
       "        0,  0,  0,  1,  3,  0,  1,  0,  0, 18,  0,  0,  1,  0,  1,  0,  1,\n",
       "        1,  1,  1,  1,  0,  0,  0,  0,  0,  0,  0,  1,  3,  5,  0,  0,  0,\n",
       "        5,  0,  1,  0,  0,  1,  3,  1,  1,  0,  0,  0,  0,  1,  0])"
      ]
     },
     "execution_count": 761,
     "metadata": {},
     "output_type": "execute_result"
    }
   ],
   "source": [
    "np.array([sum([x=='추측' for x in nouns_movie]) for nouns_movie in nouns3])"
   ]
  },
  {
   "cell_type": "markdown",
   "metadata": {},
   "source": [
    "#### 8.2 학습하기"
   ]
  },
  {
   "cell_type": "code",
   "execution_count": 762,
   "metadata": {},
   "outputs": [
    {
     "data": {
      "text/plain": [
       "KMeans(algorithm='auto', copy_x=True, init='k-means++', max_iter=300,\n",
       "       n_clusters=9, n_init=10, n_jobs=None, precompute_distances='auto',\n",
       "       random_state=2, tol=0.0001, verbose=0)"
      ]
     },
     "execution_count": 762,
     "metadata": {},
     "output_type": "execute_result"
    }
   ],
   "source": [
    "from sklearn.cluster import KMeans\n",
    "km = KMeans(n_clusters=9,random_state=2)\n",
    "km.fit(X2)"
   ]
  },
  {
   "cell_type": "code",
   "execution_count": 763,
   "metadata": {},
   "outputs": [],
   "source": [
    "dft = df[['영화명','수빈','승준','선주','지후']].copy()\n",
    "dft['클러스터번호'] = km.labels_"
   ]
  },
  {
   "cell_type": "code",
   "execution_count": 764,
   "metadata": {},
   "outputs": [
    {
     "data": {
      "text/html": [
       "<div>\n",
       "<style scoped>\n",
       "    .dataframe tbody tr th:only-of-type {\n",
       "        vertical-align: middle;\n",
       "    }\n",
       "\n",
       "    .dataframe tbody tr th {\n",
       "        vertical-align: top;\n",
       "    }\n",
       "\n",
       "    .dataframe thead th {\n",
       "        text-align: right;\n",
       "    }\n",
       "</style>\n",
       "<table border=\"1\" class=\"dataframe\">\n",
       "  <thead>\n",
       "    <tr style=\"text-align: right;\">\n",
       "      <th></th>\n",
       "      <th>영화명</th>\n",
       "      <th>수빈</th>\n",
       "      <th>승준</th>\n",
       "      <th>선주</th>\n",
       "      <th>지후</th>\n",
       "      <th>클러스터번호</th>\n",
       "    </tr>\n",
       "  </thead>\n",
       "  <tbody>\n",
       "    <tr>\n",
       "      <th>0</th>\n",
       "      <td>명량</td>\n",
       "      <td>2</td>\n",
       "      <td>3</td>\n",
       "      <td>1</td>\n",
       "      <td>3</td>\n",
       "      <td>1</td>\n",
       "    </tr>\n",
       "    <tr>\n",
       "      <th>1</th>\n",
       "      <td>극한직업</td>\n",
       "      <td>3</td>\n",
       "      <td>3</td>\n",
       "      <td>3</td>\n",
       "      <td>3</td>\n",
       "      <td>8</td>\n",
       "    </tr>\n",
       "    <tr>\n",
       "      <th>2</th>\n",
       "      <td>신과함께-죄와 벌</td>\n",
       "      <td>3</td>\n",
       "      <td>2</td>\n",
       "      <td>2</td>\n",
       "      <td>3</td>\n",
       "      <td>7</td>\n",
       "    </tr>\n",
       "    <tr>\n",
       "      <th>3</th>\n",
       "      <td>국제시장</td>\n",
       "      <td>3</td>\n",
       "      <td>2</td>\n",
       "      <td>2</td>\n",
       "      <td>2</td>\n",
       "      <td>1</td>\n",
       "    </tr>\n",
       "    <tr>\n",
       "      <th>4</th>\n",
       "      <td>어벤져스: 엔드게임</td>\n",
       "      <td>3</td>\n",
       "      <td>3</td>\n",
       "      <td>1</td>\n",
       "      <td>3</td>\n",
       "      <td>0</td>\n",
       "    </tr>\n",
       "  </tbody>\n",
       "</table>\n",
       "</div>"
      ],
      "text/plain": [
       "          영화명  수빈  승준  선주  지후  클러스터번호\n",
       "0          명량   2   3   1   3       1\n",
       "1        극한직업   3   3   3   3       8\n",
       "2   신과함께-죄와 벌   3   2   2   3       7\n",
       "3        국제시장   3   2   2   2       1\n",
       "4  어벤져스: 엔드게임   3   3   1   3       0"
      ]
     },
     "execution_count": 764,
     "metadata": {},
     "output_type": "execute_result"
    }
   ],
   "source": [
    "dft.head()"
   ]
  },
  {
   "cell_type": "markdown",
   "metadata": {},
   "source": [
    "#### 8.3 검증하기"
   ]
  },
  {
   "cell_type": "code",
   "execution_count": 765,
   "metadata": {},
   "outputs": [],
   "source": [
    "from sklearn.model_selection import train_test_split\n",
    "train_index,test_index = train_test_split(range(100),test_size=0.4,random_state=4)"
   ]
  },
  {
   "cell_type": "code",
   "execution_count": 766,
   "metadata": {},
   "outputs": [
    {
     "name": "stdout",
     "output_type": "stream",
     "text": [
      "클러스터번호\n",
      "5    2.750000\n",
      "0    2.600000\n",
      "2    2.428571\n",
      "7    2.333333\n",
      "4    2.285714\n",
      "8    1.875000\n",
      "3    1.666667\n",
      "1    1.529412\n",
      "6    1.333333\n",
      "Name: 수빈, dtype: float64\n",
      "수빈: 추천클러스터=5, 추천평균=2.750000, 검증평균=2.500000\n",
      "클러스터번호\n",
      "0    2.833333\n",
      "1    1.500000\n",
      "2    2.555556\n",
      "3    2.333333\n",
      "4    2.333333\n",
      "5    2.500000\n",
      "6    1.000000\n",
      "7    2.000000\n",
      "8    2.000000\n",
      "Name: 수빈, dtype: float64\n",
      "\n",
      "클러스터번호\n",
      "0    2.600000\n",
      "2    2.571429\n",
      "7    2.000000\n",
      "3    2.000000\n",
      "8    1.750000\n",
      "5    1.750000\n",
      "6    1.666667\n",
      "1    1.647059\n",
      "4    1.571429\n",
      "Name: 승준, dtype: float64\n",
      "승준: 추천클러스터=0, 추천평균=2.600000, 검증평균=3.000000\n",
      "클러스터번호\n",
      "0    3.000000\n",
      "1    1.833333\n",
      "2    3.000000\n",
      "3    2.333333\n",
      "4    2.333333\n",
      "5    1.000000\n",
      "6    1.000000\n",
      "7    1.400000\n",
      "8    1.666667\n",
      "Name: 승준, dtype: float64\n",
      "\n",
      "클러스터번호\n",
      "5    3.000000\n",
      "3    2.666667\n",
      "7    2.500000\n",
      "6    2.000000\n",
      "4    2.000000\n",
      "2    1.714286\n",
      "1    1.705882\n",
      "8    1.625000\n",
      "0    1.200000\n",
      "Name: 선주, dtype: float64\n",
      "선주: 추천클러스터=5, 추천평균=3.000000, 검증평균=2.750000\n",
      "클러스터번호\n",
      "0    1.000000\n",
      "1    2.166667\n",
      "2    1.555556\n",
      "3    1.000000\n",
      "4    2.000000\n",
      "5    2.750000\n",
      "6    2.000000\n",
      "7    1.800000\n",
      "8    2.333333\n",
      "Name: 선주, dtype: float64\n",
      "\n",
      "클러스터번호\n",
      "3    3.000000\n",
      "0    3.000000\n",
      "8    2.500000\n",
      "2    2.428571\n",
      "1    2.352941\n",
      "6    2.333333\n",
      "7    2.000000\n",
      "5    2.000000\n",
      "4    1.714286\n",
      "Name: 지후, dtype: float64\n",
      "지후: 추천클러스터=3, 추천평균=3.000000, 검증평균=2.000000\n",
      "클러스터번호\n",
      "0    3.000000\n",
      "1    2.500000\n",
      "2    3.000000\n",
      "3    2.000000\n",
      "4    1.666667\n",
      "5    1.750000\n",
      "6    3.000000\n",
      "7    2.000000\n",
      "8    1.666667\n",
      "Name: 지후, dtype: float64\n",
      "\n"
     ]
    }
   ],
   "source": [
    "for name in ['수빈','승준','선주','지후']:\n",
    "    rmeans = dft.loc[train_index].groupby('클러스터번호')[name].mean()\n",
    "    k = rmeans.sort_values(ascending=False)\n",
    "    rnum = k.index[0]\n",
    "    rmean = k[rnum]\n",
    "    tmeans = dft.loc[test_index].groupby('클러스터번호')[name].mean()\n",
    "    print(k)\n",
    "    print('%s: 추천클러스터=%d, 추천평균=%f, 검증평균=%f' % (name,rnum,rmean,tmeans[rnum]))\n",
    "    print(tmeans)\n",
    "    print()"
   ]
  },
  {
   "cell_type": "markdown",
   "metadata": {},
   "source": [
    "# 9. 유사어"
   ]
  },
  {
   "cell_type": "code",
   "execution_count": 767,
   "metadata": {},
   "outputs": [
    {
     "data": {
      "text/plain": [
       "KMeans(algorithm='auto', copy_x=True, init='k-means++', max_iter=300,\n",
       "       n_clusters=800, n_init=10, n_jobs=None, precompute_distances='auto',\n",
       "       random_state=2, tol=0.0001, verbose=0)"
      ]
     },
     "execution_count": 767,
     "metadata": {},
     "output_type": "execute_result"
    }
   ],
   "source": [
    "from sklearn.cluster import KMeans\n",
    "km = KMeans(n_clusters=800,random_state=2)\n",
    "km.fit(X2.T)"
   ]
  },
  {
   "cell_type": "code",
   "execution_count": 768,
   "metadata": {},
   "outputs": [],
   "source": [
    "df_words = pd.DataFrame({'단어':vectorizer.get_feature_names(),'클러스터번호':km.labels_})"
   ]
  },
  {
   "cell_type": "code",
   "execution_count": 769,
   "metadata": {},
   "outputs": [],
   "source": [
    "df_words2 = df_words.groupby('클러스터번호')['단어'].apply(lambda x: ','.join(x)).reset_index()\n",
    "df_words2['단어개수'] = df_words2['단어'].apply(lambda x: len(x.split(',')))"
   ]
  },
  {
   "cell_type": "code",
   "execution_count": 770,
   "metadata": {},
   "outputs": [
    {
     "data": {
      "text/html": [
       "<div>\n",
       "<style scoped>\n",
       "    .dataframe tbody tr th:only-of-type {\n",
       "        vertical-align: middle;\n",
       "    }\n",
       "\n",
       "    .dataframe tbody tr th {\n",
       "        vertical-align: top;\n",
       "    }\n",
       "\n",
       "    .dataframe thead th {\n",
       "        text-align: right;\n",
       "    }\n",
       "</style>\n",
       "<table border=\"1\" class=\"dataframe\">\n",
       "  <thead>\n",
       "    <tr style=\"text-align: right;\">\n",
       "      <th></th>\n",
       "      <th>클러스터번호</th>\n",
       "      <th>단어</th>\n",
       "      <th>단어개수</th>\n",
       "    </tr>\n",
       "  </thead>\n",
       "  <tbody>\n",
       "    <tr>\n",
       "      <th>439</th>\n",
       "      <td>439</td>\n",
       "      <td>강점,개개인,계산,고조,공동,극도,기관,눈길,눈앞,당일,당첨,대세,독보,동반,루즈,...</td>\n",
       "      <td>50</td>\n",
       "    </tr>\n",
       "    <tr>\n",
       "      <th>683</th>\n",
       "      <td>683</td>\n",
       "      <td>간직,감상평,감수,검증,고난,과도,내심,네티즌,노골,단정,며칠,무능,바닥,본래,선언...</td>\n",
       "      <td>31</td>\n",
       "    </tr>\n",
       "    <tr>\n",
       "      <th>542</th>\n",
       "      <td>542</td>\n",
       "      <td>경고,과시,내일,도덕,배제,본연,부상,사전,생산,심정,야기,여기저기,와중,우울,자비...</td>\n",
       "      <td>28</td>\n",
       "    </tr>\n",
       "    <tr>\n",
       "      <th>377</th>\n",
       "      <td>377</td>\n",
       "      <td>감각,강자,경향,구멍,깊이,냉정,단역,대가,모순,무릎,방해,배치,변명,설득력,손색,...</td>\n",
       "      <td>28</td>\n",
       "    </tr>\n",
       "    <tr>\n",
       "      <th>106</th>\n",
       "      <td>106</td>\n",
       "      <td>가치관,견해,구석,극단,나약,능가,대치,마디,무지,불만,삽입,약점,어깨,유혹,이지,...</td>\n",
       "      <td>24</td>\n",
       "    </tr>\n",
       "  </tbody>\n",
       "</table>\n",
       "</div>"
      ],
      "text/plain": [
       "     클러스터번호                                                 단어  단어개수\n",
       "439     439  강점,개개인,계산,고조,공동,극도,기관,눈길,눈앞,당일,당첨,대세,독보,동반,루즈,...    50\n",
       "683     683  간직,감상평,감수,검증,고난,과도,내심,네티즌,노골,단정,며칠,무능,바닥,본래,선언...    31\n",
       "542     542  경고,과시,내일,도덕,배제,본연,부상,사전,생산,심정,야기,여기저기,와중,우울,자비...    28\n",
       "377     377  감각,강자,경향,구멍,깊이,냉정,단역,대가,모순,무릎,방해,배치,변명,설득력,손색,...    28\n",
       "106     106  가치관,견해,구석,극단,나약,능가,대치,마디,무지,불만,삽입,약점,어깨,유혹,이지,...    24"
      ]
     },
     "execution_count": 770,
     "metadata": {},
     "output_type": "execute_result"
    }
   ],
   "source": [
    "df_words2.sort_values('단어개수',ascending=False).head()"
   ]
  },
  {
   "cell_type": "code",
   "execution_count": 771,
   "metadata": {},
   "outputs": [
    {
     "data": {
      "text/plain": [
       "'강점,개개인,계산,고조,공동,극도,기관,눈길,눈앞,당일,당첨,대세,독보,동반,루즈,무게,백미,보기전,비평,빈약,사항,상위,설득,세트,수업,시사,실감,실망감,실소,여부,여타,영광,영화인,오버랩,우선,위트,유기,유행,이면,입소문,장담,총평,최소,치부,커플,케이스,평소,플레이,호평,확보'"
      ]
     },
     "execution_count": 771,
     "metadata": {},
     "output_type": "execute_result"
    }
   ],
   "source": [
    "df_words2.loc[439,'단어']"
   ]
  },
  {
   "cell_type": "code",
   "execution_count": 772,
   "metadata": {},
   "outputs": [
    {
     "data": {
      "text/plain": [
       "'간직,감상평,감수,검증,고난,과도,내심,네티즌,노골,단정,며칠,무능,바닥,본래,선언,실수,압박,열광,오랫동안,외부,욕구,일관,일방,일주일,자격,추정,평균,평생,합리,행보,형태'"
      ]
     },
     "execution_count": 772,
     "metadata": {},
     "output_type": "execute_result"
    }
   ],
   "source": [
    "df_words2.loc[683,'단어']"
   ]
  },
  {
   "cell_type": "code",
   "execution_count": 773,
   "metadata": {},
   "outputs": [
    {
     "data": {
      "text/plain": [
       "'경고,과시,내일,도덕,배제,본연,부상,사전,생산,심정,야기,여기저기,와중,우울,자비,장기,제한,좌절,직후,책임감,추락,추측,친숙,태도,포커스,해소,환영,흑백'"
      ]
     },
     "execution_count": 773,
     "metadata": {},
     "output_type": "execute_result"
    }
   ],
   "source": [
    "df_words2.loc[542,'단어']"
   ]
  },
  {
   "cell_type": "code",
   "execution_count": 774,
   "metadata": {},
   "outputs": [
    {
     "data": {
      "text/plain": [
       "'가치관,견해,구석,극단,나약,능가,대치,마디,무지,불만,삽입,약점,어깨,유혹,이지,일종,일치,장식,전락,차례,처지,포스트,표출,흉내'"
      ]
     },
     "execution_count": 774,
     "metadata": {},
     "output_type": "execute_result"
    }
   ],
   "source": [
    "df_words2.loc[106,'단어']"
   ]
  },
  {
   "cell_type": "markdown",
   "metadata": {},
   "source": [
    "### 10. 평점과 리뷰(tfidf)로 추천하기"
   ]
  },
  {
   "cell_type": "code",
   "execution_count": 775,
   "metadata": {},
   "outputs": [],
   "source": [
    "columns = ['평론가', '네티즌', '남자.1', '여자.1', '10대.1',\n",
    "       '20대.1', '30대.1', '40대.1', '50대 이상.1', 'OST.1', '영상미.1', '스토리.1',\n",
    "       '연기.1', '연출.1']\n",
    "df_b = df[columns].copy()"
   ]
  },
  {
   "cell_type": "code",
   "execution_count": 776,
   "metadata": {},
   "outputs": [],
   "source": [
    "from sklearn.feature_extraction.text import TfidfVectorizer\n",
    "\n",
    "vectorizer = TfidfVectorizer(\n",
    "    min_df=20,\n",
    "    max_df=70,\n",
    "    ngram_range=(1,1),\n",
    "    lowercase=True,\n",
    "    tokenizer=lambda x:x.split(' '))\n",
    "# vectorizer = CountVectorizer()\n",
    "\n",
    "X = vectorizer.fit_transform(corpus)\n",
    "X2 = X.toarray()"
   ]
  },
  {
   "cell_type": "code",
   "execution_count": 777,
   "metadata": {},
   "outputs": [
    {
     "data": {
      "text/plain": [
       "array([0.05655303, 0.04879542, 0.04321719, ..., 0.28015875, 0.48985362,\n",
       "       0.10144063])"
      ]
     },
     "execution_count": 777,
     "metadata": {},
     "output_type": "execute_result"
    }
   ],
   "source": [
    "X2.max(axis=0)"
   ]
  },
  {
   "cell_type": "code",
   "execution_count": 780,
   "metadata": {},
   "outputs": [
    {
     "data": {
      "text/plain": [
       "평론가          9.06\n",
       "네티즌          9.42\n",
       "남자.1         9.24\n",
       "여자.1         9.73\n",
       "10대.1        9.74\n",
       "20대.1        9.52\n",
       "30대.1        9.42\n",
       "40대.1        9.41\n",
       "50대 이상.1     9.68\n",
       "OST.1       26.00\n",
       "영상미.1       37.00\n",
       "스토리.1       37.00\n",
       "연기.1        44.00\n",
       "연출.1        31.00\n",
       "dtype: float64"
      ]
     },
     "execution_count": 780,
     "metadata": {},
     "output_type": "execute_result"
    }
   ],
   "source": [
    "df_b.max(axis=0)"
   ]
  },
  {
   "cell_type": "code",
   "execution_count": 783,
   "metadata": {},
   "outputs": [
    {
     "data": {
      "text/plain": [
       "평론가         0.4530\n",
       "네티즌         0.4710\n",
       "남자.1        0.4620\n",
       "여자.1        0.4865\n",
       "10대.1       0.4870\n",
       "20대.1       0.4760\n",
       "30대.1       0.4710\n",
       "40대.1       0.4705\n",
       "50대 이상.1    0.4840\n",
       "dtype: float64"
      ]
     },
     "execution_count": 783,
     "metadata": {},
     "output_type": "execute_result"
    }
   ],
   "source": [
    "col10 = ['평론가', '네티즌', '남자.1', '여자.1', '10대.1','20대.1', '30대.1', '40대.1', '50대 이상.1']\n",
    "df_b[col10].max(axis=0)/20"
   ]
  },
  {
   "cell_type": "code",
   "execution_count": 784,
   "metadata": {},
   "outputs": [
    {
     "data": {
      "text/plain": [
       "OST.1    0.26\n",
       "영상미.1    0.37\n",
       "스토리.1    0.37\n",
       "연기.1     0.44\n",
       "연출.1     0.31\n",
       "dtype: float64"
      ]
     },
     "execution_count": 784,
     "metadata": {},
     "output_type": "execute_result"
    }
   ],
   "source": [
    "col50 = ['OST.1', '영상미.1', '스토리.1', '연기.1', '연출.1']\n",
    "df_b[col50].max(axis=0)/100"
   ]
  },
  {
   "cell_type": "code",
   "execution_count": 785,
   "metadata": {},
   "outputs": [
    {
     "data": {
      "text/plain": [
       "(100, 1375)"
      ]
     },
     "execution_count": 785,
     "metadata": {},
     "output_type": "execute_result"
    }
   ],
   "source": [
    "X3 = np.concatenate([df_b[col10]/20,df_b[col50],X2],axis=1)\n",
    "X3.shape"
   ]
  },
  {
   "cell_type": "markdown",
   "metadata": {},
   "source": [
    "#### 10.1 학습하기"
   ]
  },
  {
   "cell_type": "code",
   "execution_count": 786,
   "metadata": {},
   "outputs": [
    {
     "data": {
      "text/plain": [
       "KMeans(algorithm='auto', copy_x=True, init='k-means++', max_iter=300,\n",
       "       n_clusters=9, n_init=10, n_jobs=None, precompute_distances='auto',\n",
       "       random_state=2, tol=0.0001, verbose=0)"
      ]
     },
     "execution_count": 786,
     "metadata": {},
     "output_type": "execute_result"
    }
   ],
   "source": [
    "from sklearn.cluster import KMeans\n",
    "km = KMeans(n_clusters=9,random_state=2)\n",
    "km.fit(X2)"
   ]
  },
  {
   "cell_type": "code",
   "execution_count": 787,
   "metadata": {},
   "outputs": [],
   "source": [
    "dft = df[['영화명','수빈','승준','선주','지후']].copy()\n",
    "dft['클러스터번호'] = km.labels_"
   ]
  },
  {
   "cell_type": "code",
   "execution_count": 788,
   "metadata": {
    "scrolled": true
   },
   "outputs": [
    {
     "data": {
      "text/html": [
       "<div>\n",
       "<style scoped>\n",
       "    .dataframe tbody tr th:only-of-type {\n",
       "        vertical-align: middle;\n",
       "    }\n",
       "\n",
       "    .dataframe tbody tr th {\n",
       "        vertical-align: top;\n",
       "    }\n",
       "\n",
       "    .dataframe thead th {\n",
       "        text-align: right;\n",
       "    }\n",
       "</style>\n",
       "<table border=\"1\" class=\"dataframe\">\n",
       "  <thead>\n",
       "    <tr style=\"text-align: right;\">\n",
       "      <th></th>\n",
       "      <th>영화명</th>\n",
       "      <th>수빈</th>\n",
       "      <th>승준</th>\n",
       "      <th>선주</th>\n",
       "      <th>지후</th>\n",
       "      <th>클러스터번호</th>\n",
       "    </tr>\n",
       "  </thead>\n",
       "  <tbody>\n",
       "    <tr>\n",
       "      <th>0</th>\n",
       "      <td>명량</td>\n",
       "      <td>2</td>\n",
       "      <td>3</td>\n",
       "      <td>1</td>\n",
       "      <td>3</td>\n",
       "      <td>1</td>\n",
       "    </tr>\n",
       "    <tr>\n",
       "      <th>1</th>\n",
       "      <td>극한직업</td>\n",
       "      <td>3</td>\n",
       "      <td>3</td>\n",
       "      <td>3</td>\n",
       "      <td>3</td>\n",
       "      <td>8</td>\n",
       "    </tr>\n",
       "    <tr>\n",
       "      <th>2</th>\n",
       "      <td>신과함께-죄와 벌</td>\n",
       "      <td>3</td>\n",
       "      <td>2</td>\n",
       "      <td>2</td>\n",
       "      <td>3</td>\n",
       "      <td>7</td>\n",
       "    </tr>\n",
       "    <tr>\n",
       "      <th>3</th>\n",
       "      <td>국제시장</td>\n",
       "      <td>3</td>\n",
       "      <td>2</td>\n",
       "      <td>2</td>\n",
       "      <td>2</td>\n",
       "      <td>1</td>\n",
       "    </tr>\n",
       "    <tr>\n",
       "      <th>4</th>\n",
       "      <td>어벤져스: 엔드게임</td>\n",
       "      <td>3</td>\n",
       "      <td>3</td>\n",
       "      <td>1</td>\n",
       "      <td>3</td>\n",
       "      <td>0</td>\n",
       "    </tr>\n",
       "  </tbody>\n",
       "</table>\n",
       "</div>"
      ],
      "text/plain": [
       "          영화명  수빈  승준  선주  지후  클러스터번호\n",
       "0          명량   2   3   1   3       1\n",
       "1        극한직업   3   3   3   3       8\n",
       "2   신과함께-죄와 벌   3   2   2   3       7\n",
       "3        국제시장   3   2   2   2       1\n",
       "4  어벤져스: 엔드게임   3   3   1   3       0"
      ]
     },
     "execution_count": 788,
     "metadata": {},
     "output_type": "execute_result"
    }
   ],
   "source": [
    "dft.head()"
   ]
  },
  {
   "cell_type": "markdown",
   "metadata": {},
   "source": [
    "#### 10.2 검증하기"
   ]
  },
  {
   "cell_type": "code",
   "execution_count": 789,
   "metadata": {},
   "outputs": [],
   "source": [
    "from sklearn.model_selection import train_test_split\n",
    "train_index,test_index = train_test_split(range(100),test_size=0.4,random_state=4)"
   ]
  },
  {
   "cell_type": "code",
   "execution_count": 791,
   "metadata": {},
   "outputs": [
    {
     "data": {
      "text/plain": [
       "클러스터번호\n",
       "0     5\n",
       "1    17\n",
       "2     7\n",
       "3     3\n",
       "4     7\n",
       "5     4\n",
       "6     3\n",
       "7     6\n",
       "8     8\n",
       "Name: 영화명, dtype: int64"
      ]
     },
     "execution_count": 791,
     "metadata": {},
     "output_type": "execute_result"
    }
   ],
   "source": [
    "dft.loc[train_index].groupby('클러스터번호')['영화명'].count()"
   ]
  },
  {
   "cell_type": "code",
   "execution_count": 792,
   "metadata": {},
   "outputs": [
    {
     "data": {
      "text/plain": [
       "클러스터번호\n",
       "0    6\n",
       "1    6\n",
       "2    9\n",
       "3    3\n",
       "4    3\n",
       "5    4\n",
       "6    1\n",
       "7    5\n",
       "8    3\n",
       "Name: 영화명, dtype: int64"
      ]
     },
     "execution_count": 792,
     "metadata": {},
     "output_type": "execute_result"
    }
   ],
   "source": [
    "dft.loc[test_index].groupby('클러스터번호')['영화명'].count()"
   ]
  },
  {
   "cell_type": "code",
   "execution_count": 790,
   "metadata": {},
   "outputs": [
    {
     "name": "stdout",
     "output_type": "stream",
     "text": [
      "클러스터번호\n",
      "5    2.750000\n",
      "0    2.600000\n",
      "2    2.428571\n",
      "7    2.333333\n",
      "4    2.285714\n",
      "8    1.875000\n",
      "3    1.666667\n",
      "1    1.529412\n",
      "6    1.333333\n",
      "Name: 수빈, dtype: float64\n",
      "수빈: 추천클러스터=5, 추천평균=2.750000, 검증평균=2.500000\n",
      "클러스터번호\n",
      "0    2.833333\n",
      "1    1.500000\n",
      "2    2.555556\n",
      "3    2.333333\n",
      "4    2.333333\n",
      "5    2.500000\n",
      "6    1.000000\n",
      "7    2.000000\n",
      "8    2.000000\n",
      "Name: 수빈, dtype: float64\n",
      "\n",
      "클러스터번호\n",
      "0    2.600000\n",
      "2    2.571429\n",
      "7    2.000000\n",
      "3    2.000000\n",
      "8    1.750000\n",
      "5    1.750000\n",
      "6    1.666667\n",
      "1    1.647059\n",
      "4    1.571429\n",
      "Name: 승준, dtype: float64\n",
      "승준: 추천클러스터=0, 추천평균=2.600000, 검증평균=3.000000\n",
      "클러스터번호\n",
      "0    3.000000\n",
      "1    1.833333\n",
      "2    3.000000\n",
      "3    2.333333\n",
      "4    2.333333\n",
      "5    1.000000\n",
      "6    1.000000\n",
      "7    1.400000\n",
      "8    1.666667\n",
      "Name: 승준, dtype: float64\n",
      "\n",
      "클러스터번호\n",
      "5    3.000000\n",
      "3    2.666667\n",
      "7    2.500000\n",
      "6    2.000000\n",
      "4    2.000000\n",
      "2    1.714286\n",
      "1    1.705882\n",
      "8    1.625000\n",
      "0    1.200000\n",
      "Name: 선주, dtype: float64\n",
      "선주: 추천클러스터=5, 추천평균=3.000000, 검증평균=2.750000\n",
      "클러스터번호\n",
      "0    1.000000\n",
      "1    2.166667\n",
      "2    1.555556\n",
      "3    1.000000\n",
      "4    2.000000\n",
      "5    2.750000\n",
      "6    2.000000\n",
      "7    1.800000\n",
      "8    2.333333\n",
      "Name: 선주, dtype: float64\n",
      "\n",
      "클러스터번호\n",
      "3    3.000000\n",
      "0    3.000000\n",
      "8    2.500000\n",
      "2    2.428571\n",
      "1    2.352941\n",
      "6    2.333333\n",
      "7    2.000000\n",
      "5    2.000000\n",
      "4    1.714286\n",
      "Name: 지후, dtype: float64\n",
      "지후: 추천클러스터=3, 추천평균=3.000000, 검증평균=2.000000\n",
      "클러스터번호\n",
      "0    3.000000\n",
      "1    2.500000\n",
      "2    3.000000\n",
      "3    2.000000\n",
      "4    1.666667\n",
      "5    1.750000\n",
      "6    3.000000\n",
      "7    2.000000\n",
      "8    1.666667\n",
      "Name: 지후, dtype: float64\n",
      "\n"
     ]
    }
   ],
   "source": [
    "for name in ['수빈','승준','선주','지후']:\n",
    "    rmeans = dft.loc[train_index].groupby('클러스터번호')[name].mean()\n",
    "    k = rmeans.sort_values(ascending=False)\n",
    "    rnum = k.index[0]\n",
    "    rmean = k[rnum]\n",
    "    tmeans = dft.loc[test_index].groupby('클러스터번호')[name].mean()\n",
    "    print(k)\n",
    "    print('%s: 추천클러스터=%d, 추천평균=%f, 검증평균=%f' % (name,rnum,rmean,tmeans[rnum]))\n",
    "    print(tmeans)\n",
    "    print()"
   ]
  },
  {
   "cell_type": "markdown",
   "metadata": {},
   "source": [
    "### 11. 질문\n",
    "\n",
    "* 클러스터의 개수는 어떤 값이 적당한가?\n",
    "* 선호 순위를 이용하여 검증하는 방법은 무엇인가?\n",
    "* 선호 순위를 이용하는 것과 선호도를(1~3) 이용하는 것은 학습과 검증에서 어떤 차이가 있는가?"
   ]
  },
  {
   "cell_type": "code",
   "execution_count": null,
   "metadata": {},
   "outputs": [],
   "source": []
  }
 ],
 "metadata": {
  "kernelspec": {
   "display_name": "Python 3",
   "language": "python",
   "name": "python3"
  },
  "language_info": {
   "codemirror_mode": {
    "name": "ipython",
    "version": 3
   },
   "file_extension": ".py",
   "mimetype": "text/x-python",
   "name": "python",
   "nbconvert_exporter": "python",
   "pygments_lexer": "ipython3",
   "version": "3.5.2"
  }
 },
 "nbformat": 4,
 "nbformat_minor": 2
}
