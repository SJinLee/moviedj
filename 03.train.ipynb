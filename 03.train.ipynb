{
 "cells": [
  {
   "cell_type": "markdown",
   "metadata": {},
   "source": [
    "# 0. 목표 및 방법\n",
    "\n",
    "* 목표: 영화 추천 시스템 개발\n",
    "* 방법:\n",
    "    * 평점의 클러스터링 결과를 이용\n",
    "    * 리뷰에서 특징을 추출하여 클러스터링한 결과를 이용\n",
    "    * 유사어 찾아내고 feature vector를 다시 만들어 clusting한 결과를 이용\n",
    "    * 평점과 리뷰를 합해서 클러스터링\n",
    "    * 추가로 조사한 선호도로 정확도 계산\n",
    "    * 클러스터개수를 바꿔가며 정확도 향상시키자.\n",
    "    * 정확도가 높아지도록 선호도 표시를 누가 더 잘하나?\n",
    "        * 규칙1: 좋아요 순위 정하기\n",
    "        * 추천알고리즘의 정확도 점수 계산법 만들기\n",
    "        * 결과를 보고 알고리즘을 설명해보기\n",
    "\n",
    "* 논문 쓰기?\n",
    "    * 서론: 추천 알고리즘의 종류, 원리\n",
    "    * 본론:\n",
    "        * 논문에서 사용한 방법\n",
    "            * 평점을 이용한 방법\n",
    "            * 리뷰를 이용한 방법\n",
    "        * 선호도 조사방법\n",
    "        * 정확도 점수 계산 방법\n",
    "        * 실험결과\n",
    "            * 누가 제일 잘 맞췄고, 알고리즘을 잘 설명한다.\n",
    "    * 결론\n",
    "        * 실험하지 못한 것\n",
    "        * 해보고 싶은 것\n",
    "        * 실험과정에서 발견한 사실\n",
    "        * 등등\n",
    "\n",
    "**리뷰를 사용하는 클러스터링 프로그램 하기(영화,여행지)**"
   ]
  },
  {
   "cell_type": "markdown",
   "metadata": {},
   "source": [
    "# 1. 데이터\n",
    "* 영화 100개 선정\n",
    "* 특징 변수:\n",
    "    * 영화명\n",
    "    * 매출액\n",
    "    * ...\n",
    "    * 관람객 평점\n",
    "    * 평론가 평점\n",
    "    * 네티즌 평점\n",
    "    * ...\n",
    "    * 리뷰 30개\n",
    "   "
   ]
  },
  {
   "cell_type": "markdown",
   "metadata": {},
   "source": [
    "# 2. 실험방법\n",
    "* feature의 선택\n",
    "    * 평점 중 일부를 선택\n",
    "    * 리뷰에서 특징 벡터 추출\n",
    "* 알고리즘\n",
    "    * KMeans\n",
    "* 학습\n",
    "    * 학습: 데이터 전체를 클러스터링한다.\n",
    "    * 검증: \n",
    "        * 일부데이터에서 사용자의 선호하는 영화가 속한 클러스터를 고른 후 \n",
    "        * 나머지 데이터에서 이 클러스터에 속하는 영화중 좋아하는 영화의 비율을 계산한다.\n",
    "* 관찰내용\n",
    "    * 평점중에서 중요한 역할을 하는 특징은 무었인가?\n",
    "    * 추천시스템을 아는 평가자와 모르는 평가자의 차이가 있는가?\n",
    "    * 리뷰에서 어떤 단어들이 추천에 중요한 영향을 미치는가?\n",
    "    * \n",
    "   "
   ]
  },
  {
   "cell_type": "markdown",
   "metadata": {},
   "source": [
    "# 3. 결론\n",
    "* 추천을 위한 중요한 특성\n",
    "* 개인의 차는 어떻게 극복하나?\n"
   ]
  },
  {
   "cell_type": "markdown",
   "metadata": {},
   "source": []
  },
  {
   "cell_type": "markdown",
   "metadata": {},
   "source": []
  },
  {
   "cell_type": "markdown",
   "metadata": {},
   "source": []
  },
  {
   "cell_type": "markdown",
   "metadata": {},
   "source": []
  }
 ],
 "metadata": {
  "kernelspec": {
   "display_name": "Python 3",
   "language": "python",
   "name": "python3"
  },
  "language_info": {
   "codemirror_mode": {
    "name": "ipython",
    "version": 3
   },
   "file_extension": ".py",
   "mimetype": "text/x-python",
   "name": "python",
   "nbconvert_exporter": "python",
   "pygments_lexer": "ipython3",
   "version": "3.5.2"
  }
 },
 "nbformat": 4,
 "nbformat_minor": 2
}
