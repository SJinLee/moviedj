{
 "cells": [
  {
   "cell_type": "markdown",
   "metadata": {},
   "source": [
    "### 0. 참고논문\n",
    "* 머신러닝 기반 음식점 추천시스템 설계 및 구현 - 최환석, 팽전, 이 우 섭"
   ]
  },
  {
   "cell_type": "markdown",
   "metadata": {},
   "source": [
    "### 1. Khaiii 설치\n",
    "* !git clone https://github.com/kakao/khaiii.git\n",
    "* !mkdir khaiii/build\n",
    "* !cd khaiii/build; cmake ..\n",
    "* !cd khaiii/build; make all\n",
    "* !cd khaiii/build; make resource\n",
    "* !cd khaiii/build; make package_python\n",
    "* !cd khaiii/build/package_python; pip install ."
   ]
  },
  {
   "cell_type": "code",
   "execution_count": null,
   "metadata": {},
   "outputs": [],
   "source": []
  },
  {
   "cell_type": "markdown",
   "metadata": {},
   "source": [
    "### 2. 나눔폰트 설치\n",
    "* !apt install fonts-nanum\n",
    "\n",
    "#### [참고]\n",
    "* 설치폴더: /usr/share/fonts/truetype/nanum\n",
    "* download: !wget http://cdn.naver.com/naver/NanumFont/fontfiles/NanumFont_TTF_ALL.zip"
   ]
  },
  {
   "cell_type": "code",
   "execution_count": null,
   "metadata": {},
   "outputs": [],
   "source": []
  },
  {
   "cell_type": "code",
   "execution_count": null,
   "metadata": {},
   "outputs": [],
   "source": [
    "import matplotlib\n",
    "import matplotlib.pyplot as plt\n",
    "import matplotlib.font_manager as fm\n",
    "fm._rebuild()\n",
    "# colab에서는 런타임 다시시작 필요\n",
    "# ubuntu에서는 reboot"
   ]
  },
  {
   "cell_type": "markdown",
   "metadata": {},
   "source": [
    "### 3. data 보기"
   ]
  },
  {
   "cell_type": "code",
   "execution_count": 1,
   "metadata": {},
   "outputs": [],
   "source": [
    "import numpy as np\n",
    "import pandas as pd"
   ]
  },
  {
   "cell_type": "code",
   "execution_count": 4,
   "metadata": {},
   "outputs": [],
   "source": [
    "xl = pd.ExcelFile('데이터매쓰 영화 데이터.xlsx')"
   ]
  },
  {
   "cell_type": "code",
   "execution_count": 5,
   "metadata": {},
   "outputs": [
    {
     "data": {
      "text/plain": [
       "['KOBIS_역대_박스오피스(통합전산망_집계_기준)_202']"
      ]
     },
     "execution_count": 5,
     "metadata": {},
     "output_type": "execute_result"
    }
   ],
   "source": [
    "xl.sheet_names"
   ]
  },
  {
   "cell_type": "code",
   "execution_count": 6,
   "metadata": {},
   "outputs": [],
   "source": [
    "df = pd.read_excel('데이터매쓰 영화 데이터.xlsx',skiprows=4)"
   ]
  },
  {
   "cell_type": "code",
   "execution_count": 8,
   "metadata": {},
   "outputs": [
    {
     "data": {
      "text/html": [
       "<div>\n",
       "<style scoped>\n",
       "    .dataframe tbody tr th:only-of-type {\n",
       "        vertical-align: middle;\n",
       "    }\n",
       "\n",
       "    .dataframe tbody tr th {\n",
       "        vertical-align: top;\n",
       "    }\n",
       "\n",
       "    .dataframe thead th {\n",
       "        text-align: right;\n",
       "    }\n",
       "</style>\n",
       "<table border=\"1\" class=\"dataframe\">\n",
       "  <thead>\n",
       "    <tr style=\"text-align: right;\">\n",
       "      <th></th>\n",
       "      <th>순위</th>\n",
       "      <th>영화명</th>\n",
       "      <th>개봉일</th>\n",
       "      <th>매출액</th>\n",
       "      <th>관객수</th>\n",
       "      <th>스크린수</th>\n",
       "      <th>상영횟수</th>\n",
       "      <th>대표국적</th>\n",
       "      <th>국적</th>\n",
       "      <th>배급사</th>\n",
       "      <th>...</th>\n",
       "      <th>41</th>\n",
       "      <th>42</th>\n",
       "      <th>43</th>\n",
       "      <th>44</th>\n",
       "      <th>45</th>\n",
       "      <th>46</th>\n",
       "      <th>47</th>\n",
       "      <th>48</th>\n",
       "      <th>49</th>\n",
       "      <th>50</th>\n",
       "    </tr>\n",
       "  </thead>\n",
       "  <tbody>\n",
       "    <tr>\n",
       "      <th>0</th>\n",
       "      <td>1</td>\n",
       "      <td>명량</td>\n",
       "      <td>2014-07-30</td>\n",
       "      <td>135757418810</td>\n",
       "      <td>17615686</td>\n",
       "      <td>1587</td>\n",
       "      <td>188720</td>\n",
       "      <td>한국</td>\n",
       "      <td>한국</td>\n",
       "      <td>(주)씨제이이엔엠</td>\n",
       "      <td>...</td>\n",
       "      <td>명량을 봤습니다. 유튜브 돌리다가 우연히 불멸의 이순신 클립 영상을 봤는데 cg가 ...</td>\n",
       "      <td>며칠동안 많은 고민 끝을 했다. 그 동안 꽤 많은 영화를 보았는데 과연 '어떤 영화...</td>\n",
       "      <td>모두들 알고 있듯이 1597년 임진왜란이 일어난지 6년\\n\\n매우 오래 지속된 전쟁...</td>\n",
       "      <td>2014년 대종상 시상식에서 최우수작품상, 남우 주연상, 기획상, 기술상을,\\n\\n...</td>\n",
       "      <td>영화 명량, 참 오랜만에 다시보는 영화입니다. 6년전 이 영화가 개봉될 때 1700...</td>\n",
       "      <td>‘필사즉생 필생즉사’. 죽고자 하면 살 것이고, 살고자 하면 죽을 것이라는 뜻의 이...</td>\n",
       "      <td>오늘은 예전에 보았던 영화 중에 정말 재미있게 보았고 의미 있는 영화라고 \\n\\n생...</td>\n",
       "      <td>국민의 존경을 한 몸에 받는 이순신,\\n그는 누구를 위해서 싸웠는지 아직도 감이 잡...</td>\n",
       "      <td>명량해전의 승리는 영화에서 나오는 것처럼\\n몇몇 백성과 장수들의 노력이나 수군덕만은...</td>\n",
       "      <td>당시 1000만명이나 넘긴 상당해서 리뷰 지금부터 관객수도 명량 바로 영화는 명량인...</td>\n",
       "    </tr>\n",
       "    <tr>\n",
       "      <th>1</th>\n",
       "      <td>2</td>\n",
       "      <td>극한직업</td>\n",
       "      <td>2019-01-23</td>\n",
       "      <td>139655543516</td>\n",
       "      <td>16266338</td>\n",
       "      <td>2003</td>\n",
       "      <td>292816</td>\n",
       "      <td>한국</td>\n",
       "      <td>한국</td>\n",
       "      <td>(주)씨제이이엔엠</td>\n",
       "      <td>...</td>\n",
       "      <td>설연휴를 기념하여 오랜만에 극장을 찾았다. 맨날 보려고 했다가 취소하고, 보려고 했...</td>\n",
       "      <td>영화 극한직업은 매우 훌륭한 레시피로 만든 웰메이드 요리에 비유할 수 있겠다. 영화...</td>\n",
       "      <td>이 영화를 2번봤는데요. 스토리는 극한직업은 형사들이 치..(서론 생략)\\n\\n\\n...</td>\n",
       "      <td>영화 극한직업 평점주기\\n\\n재미 ★★★★★\\n\\n연기력 ★★★★★\\n\\n내용구성 ...</td>\n",
       "      <td>우울한 겨울 끝에 여기저기서 들려오는 소리. \\n\\n \\n\\n“극한직업 재미있어요....</td>\n",
       "      <td>영화관에서 최근에 한국영화를 본 게 판도라였데 오랜만에 한국영화를 봤습니다. 마약범...</td>\n",
       "      <td>이번에 보고 온 영화는 2019년 1월 23일에 개봉한 한국 코미디 영화 &lt;극한직업...</td>\n",
       "      <td>영화를 보는 시간은 크게 두가지가 있다고 생각한다. 영화라는 창작물 혹은 예술작품을...</td>\n",
       "      <td>정말 아무 생각 없이 재미있다는 압도적인 평가 때문에, 설 연휴에 영화라도 한 편 ...</td>\n",
       "      <td>새해를 여는 웃음 바이러스! 마침 설연휴와 겹쳐 설명절 증후군을 겪는 사람들에게도 ...</td>\n",
       "    </tr>\n",
       "  </tbody>\n",
       "</table>\n",
       "<p>2 rows × 95 columns</p>\n",
       "</div>"
      ],
      "text/plain": [
       "   순위   영화명        개봉일           매출액       관객수  스크린수    상영횟수 대표국적  국적  \\\n",
       "0   1    명량 2014-07-30  135757418810  17615686  1587  188720   한국  한국   \n",
       "1   2  극한직업 2019-01-23  139655543516  16266338  2003  292816   한국  한국   \n",
       "\n",
       "         배급사  ...                                                 41  \\\n",
       "0  (주)씨제이이엔엠  ...  명량을 봤습니다. 유튜브 돌리다가 우연히 불멸의 이순신 클립 영상을 봤는데 cg가 ...   \n",
       "1  (주)씨제이이엔엠  ...  설연휴를 기념하여 오랜만에 극장을 찾았다. 맨날 보려고 했다가 취소하고, 보려고 했...   \n",
       "\n",
       "                                                  42  \\\n",
       "0  며칠동안 많은 고민 끝을 했다. 그 동안 꽤 많은 영화를 보았는데 과연 '어떤 영화...   \n",
       "1  영화 극한직업은 매우 훌륭한 레시피로 만든 웰메이드 요리에 비유할 수 있겠다. 영화...   \n",
       "\n",
       "                                                  43  \\\n",
       "0  모두들 알고 있듯이 1597년 임진왜란이 일어난지 6년\\n\\n매우 오래 지속된 전쟁...   \n",
       "1  이 영화를 2번봤는데요. 스토리는 극한직업은 형사들이 치..(서론 생략)\\n\\n\\n...   \n",
       "\n",
       "                                                  44  \\\n",
       "0  2014년 대종상 시상식에서 최우수작품상, 남우 주연상, 기획상, 기술상을,\\n\\n...   \n",
       "1  영화 극한직업 평점주기\\n\\n재미 ★★★★★\\n\\n연기력 ★★★★★\\n\\n내용구성 ...   \n",
       "\n",
       "                                                  45  \\\n",
       "0  영화 명량, 참 오랜만에 다시보는 영화입니다. 6년전 이 영화가 개봉될 때 1700...   \n",
       "1  우울한 겨울 끝에 여기저기서 들려오는 소리. \\n\\n \\n\\n“극한직업 재미있어요....   \n",
       "\n",
       "                                                  46  \\\n",
       "0  ‘필사즉생 필생즉사’. 죽고자 하면 살 것이고, 살고자 하면 죽을 것이라는 뜻의 이...   \n",
       "1  영화관에서 최근에 한국영화를 본 게 판도라였데 오랜만에 한국영화를 봤습니다. 마약범...   \n",
       "\n",
       "                                                  47  \\\n",
       "0  오늘은 예전에 보았던 영화 중에 정말 재미있게 보았고 의미 있는 영화라고 \\n\\n생...   \n",
       "1  이번에 보고 온 영화는 2019년 1월 23일에 개봉한 한국 코미디 영화 <극한직업...   \n",
       "\n",
       "                                                  48  \\\n",
       "0  국민의 존경을 한 몸에 받는 이순신,\\n그는 누구를 위해서 싸웠는지 아직도 감이 잡...   \n",
       "1  영화를 보는 시간은 크게 두가지가 있다고 생각한다. 영화라는 창작물 혹은 예술작품을...   \n",
       "\n",
       "                                                  49  \\\n",
       "0  명량해전의 승리는 영화에서 나오는 것처럼\\n몇몇 백성과 장수들의 노력이나 수군덕만은...   \n",
       "1  정말 아무 생각 없이 재미있다는 압도적인 평가 때문에, 설 연휴에 영화라도 한 편 ...   \n",
       "\n",
       "                                                  50  \n",
       "0  당시 1000만명이나 넘긴 상당해서 리뷰 지금부터 관객수도 명량 바로 영화는 명량인...  \n",
       "1  새해를 여는 웃음 바이러스! 마침 설연휴와 겹쳐 설명절 증후군을 겪는 사람들에게도 ...  \n",
       "\n",
       "[2 rows x 95 columns]"
      ]
     },
     "execution_count": 8,
     "metadata": {},
     "output_type": "execute_result"
    }
   ],
   "source": [
    "df.head(2)"
   ]
  },
  {
   "cell_type": "code",
   "execution_count": 9,
   "metadata": {
    "scrolled": true
   },
   "outputs": [
    {
     "data": {
      "text/plain": [
       "(100, 95)"
      ]
     },
     "execution_count": 9,
     "metadata": {},
     "output_type": "execute_result"
    }
   ],
   "source": [
    "df.shape"
   ]
  },
  {
   "cell_type": "markdown",
   "metadata": {},
   "source": [
    "### 4. review 받기"
   ]
  },
  {
   "cell_type": "code",
   "execution_count": 34,
   "metadata": {},
   "outputs": [],
   "source": [
    "import urllib\n",
    "from urllib.request import urlopen\n",
    "from bs4 import BeautifulSoup\n",
    "import re"
   ]
  },
  {
   "cell_type": "code",
   "execution_count": 35,
   "metadata": {},
   "outputs": [],
   "source": [
    "def get_review_content_url(title,year):\n",
    "    baseurl = 'https://movie.naver.com/movie/search/result.naver?query=%s&section=movie&ie=utf8'\n",
    "    pagenum = 1\n",
    "    firsturl = baseurl % (urllib.parse.quote(title),)\n",
    "    reviewurl = None\n",
    "    while True:\n",
    "        if pagenum == 1:\n",
    "            url = firsturl\n",
    "        else:\n",
    "            url = '%s&page=%d' % (firsturl,pagenum)\n",
    "#         print(url)\n",
    "        data = urlopen(url).read()\n",
    "        html = BeautifulSoup(data, 'html5lib')\n",
    "        ul = html.find_all(attrs={'class': 'search_list_1'})\n",
    "        if len(ul)>0:\n",
    "            lilist = ul[0].find_all('li')\n",
    "            for li in lilist:\n",
    "                dt = li.find_all('dt')\n",
    "                a1 = dt[0].find('a')\n",
    "                t = a1.text\n",
    "                dd = li.find_all(attrs={'class': 'etc'})\n",
    "                a = dd[0].find_all('a')\n",
    "                y = 0\n",
    "                if re.search(r'^\\d+$',a[-1].text):\n",
    "                    y = int(a[-1].text)\n",
    "                mlen = min(len(t),len(title))\n",
    "                if title[:mlen] == t[:mlen]:\n",
    "                    if y == year:\n",
    "                        reviewurl = 'https://movie.naver.com' + re.sub('basic','review',a1.attrs['href'])\n",
    "                        break\n",
    "            if reviewurl is not None:\n",
    "                break\n",
    "        else:\n",
    "            break\n",
    "        pagenav = html.find(attrs={'class': 'pagenavigation'})\n",
    "        tdlist = pagenav.find_all('td')\n",
    "        lasttd = tdlist[-1]\n",
    "        strnext = lasttd.text\n",
    "        if strnext != '다음':\n",
    "            break\n",
    "        pagenum = pagenum+1\n",
    "    if reviewurl is None:\n",
    "        return reviewurl,None\n",
    "    else:\n",
    "        return reviewurl,t\n",
    "\n",
    "def get_code(reviewurl):\n",
    "    code = re.search(r'(?<=code=)[0-9]+',reviewurl).group(0)\n",
    "    return code\n",
    "\n",
    "def get_nid_list(reviewurl,maxreviews=None):\n",
    "    nidlist = []\n",
    "    page = 1\n",
    "    while True:\n",
    "        if page == 1:\n",
    "            url = reviewurl\n",
    "        else:\n",
    "            url = '%s&page=%d' % (reviewurl,page)\n",
    "        data = urlopen(url).read()\n",
    "        html = BeautifulSoup(data, 'html5lib')\n",
    "        ul = html.find(attrs={'class': 'rvw_list_area'})\n",
    "        if ul is None:\n",
    "            return []\n",
    "        lilist = ul.find_all('li')\n",
    "        for li in lilist:\n",
    "            a = li.find_all('a')\n",
    "            num = a[0].attrs['onclick']\n",
    "            nid = re.search(r'\\d+',num).group(0)\n",
    "            nidlist.append(nid)\n",
    "            if maxreviews != None and len(nidlist) >= maxreviews:\n",
    "                return nidlist\n",
    "        paging = html.find(attrs={'class': 'paging'})\n",
    "        a = paging.find_all('a')\n",
    "        if a[-1].text != '다음':\n",
    "            break\n",
    "        page = page + 1\n",
    "    \n",
    "    return nidlist\n",
    "\n",
    "def get_review_list(nidlist,code):\n",
    "    reviewprefix = 'https://movie.naver.com/movie/bi/mi/reviewread.naver'\n",
    "    review_list = ['%s?nid=%s&code=%s&order=#tab'%(reviewprefix,x,code) for x in nidlist]\n",
    "    return review_list\n",
    "\n",
    "def get_review_text(review_list):\n",
    "    review_texts = []\n",
    "    scores = []\n",
    "    titles = []\n",
    "    nicknames = []\n",
    "    clicks = []\n",
    "    recommands = []\n",
    "    dates = []\n",
    "    for url in review_list:\n",
    "        data = urlopen(url).read()\n",
    "        html = BeautifulSoup(data, 'html5lib')\n",
    "        tx_area = html.find(attrs={'class': 'user_tx_area'})\n",
    "        star_score = html.find(attrs={'class': 'star_score'}).find('em')\n",
    "        h_lst_tx = html.find(attrs={'class': 'h_lst_tx'})\n",
    "        review_texts.append(tx_area.text.strip())\n",
    "        name = html.find(attrs={'class': 'board_title'}).find_all('li')[-1].find('a').find('em')\n",
    "        user_tx_info = html.find(attrs={'class': 'user_tx_info'}).find_all('span')\n",
    "        wrt_date = html.find(attrs={'class': 'wrt_date'})\n",
    "        scores.append(star_score.text)\n",
    "        titles.append(h_lst_tx.text)\n",
    "        nicknames.append(name.text)\n",
    "        clicks.append(user_tx_info[0].find('em').text)\n",
    "        recommands.append(user_tx_info[1].find('em').text)\n",
    "        dates.append(wrt_date.text)\n",
    "\n",
    "    print(len(nicknames),)\n",
    "    df = pd.DataFrame({'별명': nicknames, '리뷰평점': scores, '리뷰조회': clicks,'리뷰추천': recommands,\n",
    "                       '리뷰날짜': dates, '리뷰제목': titles, '리뷰': review_texts})\n",
    "    return df"
   ]
  },
  {
   "cell_type": "code",
   "execution_count": 41,
   "metadata": {},
   "outputs": [],
   "source": [
    "rnum = []\n",
    "for i,row in df.iterrows():\n",
    "    # 영화 선택\n",
    "    title = row['영화명']\n",
    "    year = row['개봉일'].year\n",
    "    n = 0\n",
    "    for j in range(1,51):\n",
    "        a = row[j]\n",
    "        if type(a) != str:\n",
    "            n += 1\n",
    "    rnum.append(n)"
   ]
  },
  {
   "cell_type": "code",
   "execution_count": 64,
   "metadata": {},
   "outputs": [],
   "source": [
    "check_next_year = True\n",
    "reviewurllist = []\n",
    "for i,row in df.iterrows():\n",
    "    # 영화 선택\n",
    "    title = str(row['영화명'])\n",
    "    year = row['개봉일'].year\n",
    "    years = [year]\n",
    "    if check_next_year:\n",
    "        years = [year,year+1,year-1]\n",
    "    for y in years:\n",
    "        reviewurl,title2 = get_review_content_url(title,y)\n",
    "        if reviewurl is not None:\n",
    "            break\n",
    "    reviewurllist.append([title,str(year),reviewurl])"
   ]
  },
  {
   "cell_type": "code",
   "execution_count": 65,
   "metadata": {},
   "outputs": [
    {
     "data": {
      "text/html": [
       "<div>\n",
       "<style scoped>\n",
       "    .dataframe tbody tr th:only-of-type {\n",
       "        vertical-align: middle;\n",
       "    }\n",
       "\n",
       "    .dataframe tbody tr th {\n",
       "        vertical-align: top;\n",
       "    }\n",
       "\n",
       "    .dataframe thead th {\n",
       "        text-align: right;\n",
       "    }\n",
       "</style>\n",
       "<table border=\"1\" class=\"dataframe\">\n",
       "  <thead>\n",
       "    <tr style=\"text-align: right;\">\n",
       "      <th></th>\n",
       "      <th>순위</th>\n",
       "      <th>영화명</th>\n",
       "      <th>개봉일</th>\n",
       "      <th>매출액</th>\n",
       "      <th>관객수</th>\n",
       "      <th>스크린수</th>\n",
       "      <th>상영횟수</th>\n",
       "      <th>대표국적</th>\n",
       "      <th>국적</th>\n",
       "      <th>배급사</th>\n",
       "      <th>...</th>\n",
       "      <th>41</th>\n",
       "      <th>42</th>\n",
       "      <th>43</th>\n",
       "      <th>44</th>\n",
       "      <th>45</th>\n",
       "      <th>46</th>\n",
       "      <th>47</th>\n",
       "      <th>48</th>\n",
       "      <th>49</th>\n",
       "      <th>50</th>\n",
       "    </tr>\n",
       "  </thead>\n",
       "  <tbody>\n",
       "    <tr>\n",
       "      <th>8</th>\n",
       "      <td>9</td>\n",
       "      <td>7번방의 선물</td>\n",
       "      <td>2013-01-23</td>\n",
       "      <td>91437368170</td>\n",
       "      <td>12812144</td>\n",
       "      <td>866</td>\n",
       "      <td>167013</td>\n",
       "      <td>한국</td>\n",
       "      <td>한국</td>\n",
       "      <td>(주)넥스트엔터테인먼트월드(NEW)</td>\n",
       "      <td>...</td>\n",
       "      <td>NaN</td>\n",
       "      <td>NaN</td>\n",
       "      <td>NaN</td>\n",
       "      <td>NaN</td>\n",
       "      <td>NaN</td>\n",
       "      <td>NaN</td>\n",
       "      <td>NaN</td>\n",
       "      <td>NaN</td>\n",
       "      <td>NaN</td>\n",
       "      <td>NaN</td>\n",
       "    </tr>\n",
       "  </tbody>\n",
       "</table>\n",
       "<p>1 rows × 95 columns</p>\n",
       "</div>"
      ],
      "text/plain": [
       "   순위      영화명        개봉일          매출액       관객수  스크린수    상영횟수 대표국적  국적  \\\n",
       "8   9  7번방의 선물 2013-01-23  91437368170  12812144   866  167013   한국  한국   \n",
       "\n",
       "                   배급사  ...   41   42   43   44   45   46   47   48   49   50  \n",
       "8  (주)넥스트엔터테인먼트월드(NEW)  ...  NaN  NaN  NaN  NaN  NaN  NaN  NaN  NaN  NaN  NaN  \n",
       "\n",
       "[1 rows x 95 columns]"
      ]
     },
     "execution_count": 65,
     "metadata": {},
     "output_type": "execute_result"
    }
   ],
   "source": [
    "df.loc[df.영화명=='7번방의 선물']"
   ]
  },
  {
   "cell_type": "code",
   "execution_count": 66,
   "metadata": {
    "scrolled": false
   },
   "outputs": [
    {
     "data": {
      "text/plain": [
       "[['미션임파서블:고스트프로토콜', '2011', None],\n",
       " ['스파이더맨: 홈 커밍', '2017', None],\n",
       " ['월드 워 Z', '2013', None],\n",
       " ['쿵푸팬더 2', '2011', None],\n",
       " ['조선명탐정 : 각시투구꽃의 비밀', '2011', None],\n",
       " ['군도: 민란의 시대', '2014', None]]"
      ]
     },
     "execution_count": 66,
     "metadata": {},
     "output_type": "execute_result"
    }
   ],
   "source": [
    "[x for x in reviewurllist if x[2] is None]"
   ]
  },
  {
   "cell_type": "code",
   "execution_count": 86,
   "metadata": {},
   "outputs": [
    {
     "name": "stdout",
     "output_type": "stream",
     "text": [
      "20\n",
      "3\n",
      "20\n",
      "4\n",
      "50\n",
      "5\n",
      "50\n",
      "6\n"
     ]
    },
    {
     "ename": "KeyboardInterrupt",
     "evalue": "",
     "output_type": "error",
     "traceback": [
      "\u001b[0;31m---------------------------------------------------------------------------\u001b[0m",
      "\u001b[0;31mKeyboardInterrupt\u001b[0m                         Traceback (most recent call last)",
      "\u001b[0;32m<ipython-input-86-a178ca4a33f8>\u001b[0m in \u001b[0;36m<module>\u001b[0;34m\u001b[0m\n\u001b[1;32m      8\u001b[0m     \u001b[0mnidlist\u001b[0m \u001b[0;34m=\u001b[0m \u001b[0mget_nid_list\u001b[0m\u001b[0;34m(\u001b[0m\u001b[0mreviewurl\u001b[0m\u001b[0;34m,\u001b[0m\u001b[0mmaxreviews\u001b[0m\u001b[0;34m=\u001b[0m\u001b[0mnreviews\u001b[0m\u001b[0;34m)\u001b[0m\u001b[0;34m\u001b[0m\u001b[0m\n\u001b[1;32m      9\u001b[0m     \u001b[0mreview_list\u001b[0m \u001b[0;34m=\u001b[0m \u001b[0mget_review_list\u001b[0m\u001b[0;34m(\u001b[0m\u001b[0mnidlist\u001b[0m\u001b[0;34m,\u001b[0m\u001b[0mcode\u001b[0m\u001b[0;34m)\u001b[0m\u001b[0;34m\u001b[0m\u001b[0m\n\u001b[0;32m---> 10\u001b[0;31m     \u001b[0mdf_review\u001b[0m \u001b[0;34m=\u001b[0m \u001b[0mget_review_text\u001b[0m\u001b[0;34m(\u001b[0m\u001b[0mreview_list\u001b[0m\u001b[0;34m)\u001b[0m\u001b[0;34m\u001b[0m\u001b[0m\n\u001b[0m\u001b[1;32m     11\u001b[0m     \u001b[0mprint\u001b[0m\u001b[0;34m(\u001b[0m\u001b[0mi\u001b[0m\u001b[0;34m)\u001b[0m\u001b[0;34m\u001b[0m\u001b[0m\n\u001b[1;32m     12\u001b[0m     \u001b[0mk\u001b[0m \u001b[0;34m=\u001b[0m \u001b[0;36m0\u001b[0m\u001b[0;34m\u001b[0m\u001b[0m\n",
      "\u001b[0;32m<ipython-input-35-ab8b64291a24>\u001b[0m in \u001b[0;36mget_review_text\u001b[0;34m(review_list)\u001b[0m\n\u001b[1;32m     99\u001b[0m         \u001b[0mreview_texts\u001b[0m\u001b[0;34m.\u001b[0m\u001b[0mappend\u001b[0m\u001b[0;34m(\u001b[0m\u001b[0mtx_area\u001b[0m\u001b[0;34m.\u001b[0m\u001b[0mtext\u001b[0m\u001b[0;34m.\u001b[0m\u001b[0mstrip\u001b[0m\u001b[0;34m(\u001b[0m\u001b[0;34m)\u001b[0m\u001b[0;34m)\u001b[0m\u001b[0;34m\u001b[0m\u001b[0m\n\u001b[1;32m    100\u001b[0m         \u001b[0mname\u001b[0m \u001b[0;34m=\u001b[0m \u001b[0mhtml\u001b[0m\u001b[0;34m.\u001b[0m\u001b[0mfind\u001b[0m\u001b[0;34m(\u001b[0m\u001b[0mattrs\u001b[0m\u001b[0;34m=\u001b[0m\u001b[0;34m{\u001b[0m\u001b[0;34m'class'\u001b[0m\u001b[0;34m:\u001b[0m \u001b[0;34m'board_title'\u001b[0m\u001b[0;34m}\u001b[0m\u001b[0;34m)\u001b[0m\u001b[0;34m.\u001b[0m\u001b[0mfind_all\u001b[0m\u001b[0;34m(\u001b[0m\u001b[0;34m'li'\u001b[0m\u001b[0;34m)\u001b[0m\u001b[0;34m[\u001b[0m\u001b[0;34m-\u001b[0m\u001b[0;36m1\u001b[0m\u001b[0;34m]\u001b[0m\u001b[0;34m.\u001b[0m\u001b[0mfind\u001b[0m\u001b[0;34m(\u001b[0m\u001b[0;34m'a'\u001b[0m\u001b[0;34m)\u001b[0m\u001b[0;34m.\u001b[0m\u001b[0mfind\u001b[0m\u001b[0;34m(\u001b[0m\u001b[0;34m'em'\u001b[0m\u001b[0;34m)\u001b[0m\u001b[0;34m\u001b[0m\u001b[0m\n\u001b[0;32m--> 101\u001b[0;31m         \u001b[0muser_tx_info\u001b[0m \u001b[0;34m=\u001b[0m \u001b[0mhtml\u001b[0m\u001b[0;34m.\u001b[0m\u001b[0mfind\u001b[0m\u001b[0;34m(\u001b[0m\u001b[0mattrs\u001b[0m\u001b[0;34m=\u001b[0m\u001b[0;34m{\u001b[0m\u001b[0;34m'class'\u001b[0m\u001b[0;34m:\u001b[0m \u001b[0;34m'user_tx_info'\u001b[0m\u001b[0;34m}\u001b[0m\u001b[0;34m)\u001b[0m\u001b[0;34m.\u001b[0m\u001b[0mfind_all\u001b[0m\u001b[0;34m(\u001b[0m\u001b[0;34m'span'\u001b[0m\u001b[0;34m)\u001b[0m\u001b[0;34m\u001b[0m\u001b[0m\n\u001b[0m\u001b[1;32m    102\u001b[0m         \u001b[0mwrt_date\u001b[0m \u001b[0;34m=\u001b[0m \u001b[0mhtml\u001b[0m\u001b[0;34m.\u001b[0m\u001b[0mfind\u001b[0m\u001b[0;34m(\u001b[0m\u001b[0mattrs\u001b[0m\u001b[0;34m=\u001b[0m\u001b[0;34m{\u001b[0m\u001b[0;34m'class'\u001b[0m\u001b[0;34m:\u001b[0m \u001b[0;34m'wrt_date'\u001b[0m\u001b[0;34m}\u001b[0m\u001b[0;34m)\u001b[0m\u001b[0;34m\u001b[0m\u001b[0m\n\u001b[1;32m    103\u001b[0m         \u001b[0mscores\u001b[0m\u001b[0;34m.\u001b[0m\u001b[0mappend\u001b[0m\u001b[0;34m(\u001b[0m\u001b[0mstar_score\u001b[0m\u001b[0;34m.\u001b[0m\u001b[0mtext\u001b[0m\u001b[0;34m)\u001b[0m\u001b[0;34m\u001b[0m\u001b[0m\n",
      "\u001b[0;32m/usr/local/lib/python3.5/dist-packages/bs4/element.py\u001b[0m in \u001b[0;36mfind\u001b[0;34m(self, name, attrs, recursive, text, **kwargs)\u001b[0m\n\u001b[1;32m   1276\u001b[0m         criteria.\"\"\"\n\u001b[1;32m   1277\u001b[0m         \u001b[0mr\u001b[0m \u001b[0;34m=\u001b[0m \u001b[0;32mNone\u001b[0m\u001b[0;34m\u001b[0m\u001b[0m\n\u001b[0;32m-> 1278\u001b[0;31m         \u001b[0ml\u001b[0m \u001b[0;34m=\u001b[0m \u001b[0mself\u001b[0m\u001b[0;34m.\u001b[0m\u001b[0mfind_all\u001b[0m\u001b[0;34m(\u001b[0m\u001b[0mname\u001b[0m\u001b[0;34m,\u001b[0m \u001b[0mattrs\u001b[0m\u001b[0;34m,\u001b[0m \u001b[0mrecursive\u001b[0m\u001b[0;34m,\u001b[0m \u001b[0mtext\u001b[0m\u001b[0;34m,\u001b[0m \u001b[0;36m1\u001b[0m\u001b[0;34m,\u001b[0m \u001b[0;34m**\u001b[0m\u001b[0mkwargs\u001b[0m\u001b[0;34m)\u001b[0m\u001b[0;34m\u001b[0m\u001b[0m\n\u001b[0m\u001b[1;32m   1279\u001b[0m         \u001b[0;32mif\u001b[0m \u001b[0ml\u001b[0m\u001b[0;34m:\u001b[0m\u001b[0;34m\u001b[0m\u001b[0m\n\u001b[1;32m   1280\u001b[0m             \u001b[0mr\u001b[0m \u001b[0;34m=\u001b[0m \u001b[0ml\u001b[0m\u001b[0;34m[\u001b[0m\u001b[0;36m0\u001b[0m\u001b[0;34m]\u001b[0m\u001b[0;34m\u001b[0m\u001b[0m\n",
      "\u001b[0;32m/usr/local/lib/python3.5/dist-packages/bs4/element.py\u001b[0m in \u001b[0;36mfind_all\u001b[0;34m(self, name, attrs, recursive, text, limit, **kwargs)\u001b[0m\n\u001b[1;32m   1297\u001b[0m         \u001b[0;32mif\u001b[0m \u001b[0;32mnot\u001b[0m \u001b[0mrecursive\u001b[0m\u001b[0;34m:\u001b[0m\u001b[0;34m\u001b[0m\u001b[0m\n\u001b[1;32m   1298\u001b[0m             \u001b[0mgenerator\u001b[0m \u001b[0;34m=\u001b[0m \u001b[0mself\u001b[0m\u001b[0;34m.\u001b[0m\u001b[0mchildren\u001b[0m\u001b[0;34m\u001b[0m\u001b[0m\n\u001b[0;32m-> 1299\u001b[0;31m         \u001b[0;32mreturn\u001b[0m \u001b[0mself\u001b[0m\u001b[0;34m.\u001b[0m\u001b[0m_find_all\u001b[0m\u001b[0;34m(\u001b[0m\u001b[0mname\u001b[0m\u001b[0;34m,\u001b[0m \u001b[0mattrs\u001b[0m\u001b[0;34m,\u001b[0m \u001b[0mtext\u001b[0m\u001b[0;34m,\u001b[0m \u001b[0mlimit\u001b[0m\u001b[0;34m,\u001b[0m \u001b[0mgenerator\u001b[0m\u001b[0;34m,\u001b[0m \u001b[0;34m**\u001b[0m\u001b[0mkwargs\u001b[0m\u001b[0;34m)\u001b[0m\u001b[0;34m\u001b[0m\u001b[0m\n\u001b[0m\u001b[1;32m   1300\u001b[0m     \u001b[0mfindAll\u001b[0m \u001b[0;34m=\u001b[0m \u001b[0mfind_all\u001b[0m       \u001b[0;31m# BS3\u001b[0m\u001b[0;34m\u001b[0m\u001b[0m\n\u001b[1;32m   1301\u001b[0m     \u001b[0mfindChildren\u001b[0m \u001b[0;34m=\u001b[0m \u001b[0mfind_all\u001b[0m  \u001b[0;31m# BS2\u001b[0m\u001b[0;34m\u001b[0m\u001b[0m\n",
      "\u001b[0;32m/usr/local/lib/python3.5/dist-packages/bs4/element.py\u001b[0m in \u001b[0;36m_find_all\u001b[0;34m(self, name, attrs, text, limit, generator, **kwargs)\u001b[0m\n\u001b[1;32m    547\u001b[0m                 \u001b[0;32mbreak\u001b[0m\u001b[0;34m\u001b[0m\u001b[0m\n\u001b[1;32m    548\u001b[0m             \u001b[0;32mif\u001b[0m \u001b[0mi\u001b[0m\u001b[0;34m:\u001b[0m\u001b[0;34m\u001b[0m\u001b[0m\n\u001b[0;32m--> 549\u001b[0;31m                 \u001b[0mfound\u001b[0m \u001b[0;34m=\u001b[0m \u001b[0mstrainer\u001b[0m\u001b[0;34m.\u001b[0m\u001b[0msearch\u001b[0m\u001b[0;34m(\u001b[0m\u001b[0mi\u001b[0m\u001b[0;34m)\u001b[0m\u001b[0;34m\u001b[0m\u001b[0m\n\u001b[0m\u001b[1;32m    550\u001b[0m                 \u001b[0;32mif\u001b[0m \u001b[0mfound\u001b[0m\u001b[0;34m:\u001b[0m\u001b[0;34m\u001b[0m\u001b[0m\n\u001b[1;32m    551\u001b[0m                     \u001b[0mresults\u001b[0m\u001b[0;34m.\u001b[0m\u001b[0mappend\u001b[0m\u001b[0;34m(\u001b[0m\u001b[0mfound\u001b[0m\u001b[0;34m)\u001b[0m\u001b[0;34m\u001b[0m\u001b[0m\n",
      "\u001b[0;32m/usr/local/lib/python3.5/dist-packages/bs4/element.py\u001b[0m in \u001b[0;36msearch\u001b[0;34m(self, markup)\u001b[0m\n\u001b[1;32m   1688\u001b[0m         \u001b[0;32melif\u001b[0m \u001b[0misinstance\u001b[0m\u001b[0;34m(\u001b[0m\u001b[0mmarkup\u001b[0m\u001b[0;34m,\u001b[0m \u001b[0mTag\u001b[0m\u001b[0;34m)\u001b[0m\u001b[0;34m:\u001b[0m\u001b[0;34m\u001b[0m\u001b[0m\n\u001b[1;32m   1689\u001b[0m             \u001b[0;32mif\u001b[0m \u001b[0;32mnot\u001b[0m \u001b[0mself\u001b[0m\u001b[0;34m.\u001b[0m\u001b[0mtext\u001b[0m \u001b[0;32mor\u001b[0m \u001b[0mself\u001b[0m\u001b[0;34m.\u001b[0m\u001b[0mname\u001b[0m \u001b[0;32mor\u001b[0m \u001b[0mself\u001b[0m\u001b[0;34m.\u001b[0m\u001b[0mattrs\u001b[0m\u001b[0;34m:\u001b[0m\u001b[0;34m\u001b[0m\u001b[0m\n\u001b[0;32m-> 1690\u001b[0;31m                 \u001b[0mfound\u001b[0m \u001b[0;34m=\u001b[0m \u001b[0mself\u001b[0m\u001b[0;34m.\u001b[0m\u001b[0msearch_tag\u001b[0m\u001b[0;34m(\u001b[0m\u001b[0mmarkup\u001b[0m\u001b[0;34m)\u001b[0m\u001b[0;34m\u001b[0m\u001b[0m\n\u001b[0m\u001b[1;32m   1691\u001b[0m         \u001b[0;31m# If it's text, make sure the text matches.\u001b[0m\u001b[0;34m\u001b[0m\u001b[0;34m\u001b[0m\u001b[0m\n\u001b[1;32m   1692\u001b[0m         \u001b[0;32melif\u001b[0m \u001b[0misinstance\u001b[0m\u001b[0;34m(\u001b[0m\u001b[0mmarkup\u001b[0m\u001b[0;34m,\u001b[0m \u001b[0mNavigableString\u001b[0m\u001b[0;34m)\u001b[0m \u001b[0;32mor\u001b[0m\u001b[0;31m \u001b[0m\u001b[0;31m\\\u001b[0m\u001b[0;34m\u001b[0m\u001b[0m\n",
      "\u001b[0;32m/usr/local/lib/python3.5/dist-packages/bs4/element.py\u001b[0m in \u001b[0;36msearch_tag\u001b[0;34m(self, markup_name, markup_attrs)\u001b[0m\n\u001b[1;32m   1635\u001b[0m         \u001b[0mfound\u001b[0m \u001b[0;34m=\u001b[0m \u001b[0;32mNone\u001b[0m\u001b[0;34m\u001b[0m\u001b[0m\n\u001b[1;32m   1636\u001b[0m         \u001b[0mmarkup\u001b[0m \u001b[0;34m=\u001b[0m \u001b[0;32mNone\u001b[0m\u001b[0;34m\u001b[0m\u001b[0m\n\u001b[0;32m-> 1637\u001b[0;31m         \u001b[0;32mif\u001b[0m \u001b[0misinstance\u001b[0m\u001b[0;34m(\u001b[0m\u001b[0mmarkup_name\u001b[0m\u001b[0;34m,\u001b[0m \u001b[0mTag\u001b[0m\u001b[0;34m)\u001b[0m\u001b[0;34m:\u001b[0m\u001b[0;34m\u001b[0m\u001b[0m\n\u001b[0m\u001b[1;32m   1638\u001b[0m             \u001b[0mmarkup\u001b[0m \u001b[0;34m=\u001b[0m \u001b[0mmarkup_name\u001b[0m\u001b[0;34m\u001b[0m\u001b[0m\n\u001b[1;32m   1639\u001b[0m             \u001b[0mmarkup_attrs\u001b[0m \u001b[0;34m=\u001b[0m \u001b[0mmarkup\u001b[0m\u001b[0;34m\u001b[0m\u001b[0m\n",
      "\u001b[0;31mKeyboardInterrupt\u001b[0m: "
     ]
    }
   ],
   "source": [
    "nidlist = []\n",
    "for i,a in enumerate(reviewurllist):\n",
    "    title,year,reviewurl = a\n",
    "    code = get_code(reviewurl)\n",
    "    nreviews = rnum[i]\n",
    "    if nreviews ==0:\n",
    "        continue\n",
    "    nidlist = get_nid_list(reviewurl,maxreviews=nreviews)\n",
    "    review_list = get_review_list(nidlist,code)\n",
    "    df_review = get_review_text(review_list)\n",
    "    print(i)\n",
    "    k = 0\n",
    "    for j in range(1,51):\n",
    "        b = df.loc[i,j]\n",
    "        if type(b) != str:\n",
    "            df.loc[i,j] = df_review.loc[k,'리뷰']\n",
    "            k += 1"
   ]
  },
  {
   "cell_type": "code",
   "execution_count": 85,
   "metadata": {},
   "outputs": [
    {
     "data": {
      "text/plain": [
       "[['3705815',\n",
       "  '3708914',\n",
       "  '3681106',\n",
       "  '3691857',\n",
       "  '3681103',\n",
       "  '3710472',\n",
       "  '3709927',\n",
       "  '3714107',\n",
       "  '3705770',\n",
       "  '3713923',\n",
       "  '3723203',\n",
       "  '3703931',\n",
       "  '3346691',\n",
       "  '3709997',\n",
       "  '3715316',\n",
       "  '3723550',\n",
       "  '3716405',\n",
       "  '3704864',\n",
       "  '3717000',\n",
       "  '4302410']]"
      ]
     },
     "execution_count": 85,
     "metadata": {},
     "output_type": "execute_result"
    }
   ],
   "source": [
    "nidlist"
   ]
  },
  {
   "cell_type": "code",
   "execution_count": 80,
   "metadata": {},
   "outputs": [
    {
     "data": {
      "text/plain": [
       "순위                                                        4\n",
       "영화명                                                    국제시장\n",
       "개봉일                                     2014-12-17 00:00:00\n",
       "매출액                                            110944607730\n",
       "관객수                                                14263980\n",
       "스크린수                                                   1044\n",
       "상영횟수                                                 212696\n",
       "대표국적                                                     한국\n",
       "국적                                                       한국\n",
       "배급사                                               (주)씨제이이엔엠\n",
       "장르                                                      드라마\n",
       "관람객                                                    9.16\n",
       "평론가                                                    5.81\n",
       "네티즌                                                    9.02\n",
       "남자                                                     9.22\n",
       "여자                                                     9.11\n",
       "10대                                                     9.4\n",
       "20대                                                     9.2\n",
       "30대                                                    9.09\n",
       "40대                                                    9.11\n",
       "50대 이상                                                 9.14\n",
       "OST                                                       8\n",
       "영상미                                                       8\n",
       "스토리                                                      23\n",
       "연기                                                       31\n",
       "연출                                                       31\n",
       "남자.1                                                   8.74\n",
       "여자.1                                                   9.27\n",
       "10대.1                                                  9.45\n",
       "20대.1                                                  9.08\n",
       "                                ...                        \n",
       "21        국제시장영화를 밤늦게 혼자 보면서 참으로 많이 울었다. 요즘 아버지와의 갈등이 많았...\n",
       "22        국제시장, 이 영화는 이미 성공을 거둔 영화입니다. (관객 수 1420만, 역대 3...\n",
       "23        학교 과제라 그냥 반 정도는 의무감으로 보게 됐다.\\n\\n보고 난 후, 왜 이게 2...\n",
       "24        오늘은 영화 국제시장에 대해서 리뷰하려고 왔습니다.\\n\\n한국 전쟁 이후 거의 망했...\n",
       "25        배우 황정민 주연의 국제시장이라는 영화를 보았습니다.\\n\\n저는 이 영화에 별 5개...\n",
       "26        1,000만 관객이 넘은 영화\\n\\n\\n\\n한국의 과거를 소재로 만든 영화라 더 와...\n",
       "27        지금의 할머니, 할아버지 세대의 눈물겨운 삶을 영화에 담아냈는데요. 저는 직접 겪지...\n",
       "28        1. 영화 <국제시장>, 어떻게 이해할 것인가\\n\\n   \\n\\n 영화 <국제시장>...\n",
       "29        국제시장을 보았다. 황정민이 주인공으로 나온다. 비록 억지스러운 전개가 있다고 하더...\n",
       "30        영화 '국제시장'\\n한국 현대사의 압축\\n\\n광복 직후 사회가\\n안정되기도 전에\\n...\n",
       "31        https://movie.naver.com/movie/bi/mi/reviewread...\n",
       "32        https://movie.naver.com/movie/bi/mi/reviewread...\n",
       "33        https://movie.naver.com/movie/bi/mi/reviewread...\n",
       "34        https://movie.naver.com/movie/bi/mi/reviewread...\n",
       "35                                                      NaN\n",
       "36                                                      NaN\n",
       "37                                                      NaN\n",
       "38                                                      NaN\n",
       "39                                                      NaN\n",
       "40                                                      NaN\n",
       "41                                                      NaN\n",
       "42                                                      NaN\n",
       "43                                                      NaN\n",
       "44                                                      NaN\n",
       "45                                                      NaN\n",
       "46                                                      NaN\n",
       "47                                                      NaN\n",
       "48                                                      NaN\n",
       "49                                                      NaN\n",
       "50                                                      NaN\n",
       "Name: 3, Length: 95, dtype: object"
      ]
     },
     "execution_count": 80,
     "metadata": {},
     "output_type": "execute_result"
    }
   ],
   "source": [
    "df.loc[3]"
   ]
  },
  {
   "cell_type": "code",
   "execution_count": null,
   "metadata": {},
   "outputs": [],
   "source": []
  }
 ],
 "metadata": {
  "kernelspec": {
   "display_name": "Python 3",
   "language": "python",
   "name": "python3"
  },
  "language_info": {
   "codemirror_mode": {
    "name": "ipython",
    "version": 3
   },
   "file_extension": ".py",
   "mimetype": "text/x-python",
   "name": "python",
   "nbconvert_exporter": "python",
   "pygments_lexer": "ipython3",
   "version": "3.5.2"
  }
 },
 "nbformat": 4,
 "nbformat_minor": 2
}
