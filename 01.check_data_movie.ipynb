{
 "cells": [
  {
   "cell_type": "markdown",
   "metadata": {},
   "source": [
    "### 0. 참고논문\n",
    "* 머신러닝 기반 음식점 추천시스템 설계 및 구현 - 최환석, 팽전, 이 우 섭"
   ]
  },
  {
   "cell_type": "markdown",
   "metadata": {},
   "source": [
    "### 1. Khaiii 설치\n",
    "* !git clone https://github.com/kakao/khaiii.git\n",
    "* !mkdir khaiii/build\n",
    "* !cd khaiii/build; cmake ..\n",
    "* !cd khaiii/build; make all\n",
    "* !cd khaiii/build; make resource\n",
    "* !cd khaiii/build; make package_python\n",
    "* !cd khaiii/build/package_python; pip install ."
   ]
  },
  {
   "cell_type": "code",
   "execution_count": null,
   "metadata": {},
   "outputs": [],
   "source": []
  },
  {
   "cell_type": "markdown",
   "metadata": {},
   "source": [
    "### 2. 나눔폰트 설치\n",
    "* !apt install fonts-nanum\n",
    "\n",
    "#### [참고]\n",
    "* 설치폴더: /usr/share/fonts/truetype/nanum\n",
    "* download: !wget http://cdn.naver.com/naver/NanumFont/fontfiles/NanumFont_TTF_ALL.zip"
   ]
  },
  {
   "cell_type": "code",
   "execution_count": 18,
   "metadata": {},
   "outputs": [],
   "source": [
    "import matplotlib\n",
    "import matplotlib.pyplot as plt\n",
    "import matplotlib.font_manager as fm\n",
    "fm._rebuild()\n",
    "plt.rcParams[\"font.family\"] = 'NanumGothic'\n",
    "# colab에서는 런타임 다시시작 필요\n",
    "# ubuntu에서는 reboot"
   ]
  },
  {
   "cell_type": "markdown",
   "metadata": {},
   "source": [
    "### 3. data 보기"
   ]
  },
  {
   "cell_type": "code",
   "execution_count": 19,
   "metadata": {},
   "outputs": [],
   "source": [
    "import numpy as np\n",
    "import pandas as pd"
   ]
  },
  {
   "cell_type": "code",
   "execution_count": 83,
   "metadata": {},
   "outputs": [],
   "source": [
    "df = pd.read_csv('데이터매쓰 영화 데이터 완성.csv')"
   ]
  },
  {
   "cell_type": "code",
   "execution_count": 84,
   "metadata": {},
   "outputs": [],
   "source": [
    "df = df.rename(columns={'남자 ': '남자.2'})"
   ]
  },
  {
   "cell_type": "code",
   "execution_count": 85,
   "metadata": {
    "scrolled": true
   },
   "outputs": [
    {
     "name": "stdout",
     "output_type": "stream",
     "text": [
      "<class 'pandas.core.frame.DataFrame'>\n",
      "RangeIndex: 100 entries, 0 to 99\n",
      "Data columns (total 95 columns):\n",
      "순위          100 non-null int64\n",
      "영화명         100 non-null object\n",
      "개봉일         100 non-null object\n",
      "매출액         100 non-null int64\n",
      "관객수         100 non-null int64\n",
      "스크린수        100 non-null int64\n",
      "상영횟수        100 non-null int64\n",
      "대표국적        100 non-null object\n",
      "국적          100 non-null object\n",
      "배급사         100 non-null object\n",
      "장르          100 non-null object\n",
      "관람객         100 non-null object\n",
      "평론가         100 non-null float64\n",
      "네티즌         100 non-null object\n",
      "남자          100 non-null object\n",
      "여자          100 non-null object\n",
      "10대         100 non-null object\n",
      "20대         100 non-null object\n",
      "30대         100 non-null object\n",
      "40대         100 non-null object\n",
      "50대 이상      100 non-null object\n",
      "OST         100 non-null object\n",
      "영상미         100 non-null object\n",
      "스토리         100 non-null object\n",
      "연기          100 non-null object\n",
      "연출          100 non-null object\n",
      "남자.1        100 non-null float64\n",
      "여자.1        100 non-null float64\n",
      "10대.1       100 non-null float64\n",
      "20대.1       100 non-null float64\n",
      "30대.1       100 non-null float64\n",
      "40대.1       100 non-null float64\n",
      "50대 이상.1    100 non-null float64\n",
      "OST.1       100 non-null int64\n",
      "영상미.1       100 non-null int64\n",
      "스토리.1       100 non-null int64\n",
      "연기.1        100 non-null int64\n",
      "연출.1        100 non-null int64\n",
      "남자.2        100 non-null object\n",
      "여자.2        100 non-null object\n",
      "10대.2       100 non-null object\n",
      "20대.2       100 non-null object\n",
      "30대.2       100 non-null object\n",
      "40대.2       100 non-null object\n",
      "50대 이상.2    100 non-null object\n",
      "1           84 non-null object\n",
      "2           84 non-null object\n",
      "3           84 non-null object\n",
      "4           84 non-null object\n",
      "5           84 non-null object\n",
      "6           84 non-null object\n",
      "7           84 non-null object\n",
      "8           84 non-null object\n",
      "9           84 non-null object\n",
      "10          84 non-null object\n",
      "11          84 non-null object\n",
      "12          84 non-null object\n",
      "13          84 non-null object\n",
      "14          84 non-null object\n",
      "15          84 non-null object\n",
      "16          84 non-null object\n",
      "17          84 non-null object\n",
      "18          84 non-null object\n",
      "19          84 non-null object\n",
      "20          84 non-null object\n",
      "21          84 non-null object\n",
      "22          84 non-null object\n",
      "23          84 non-null object\n",
      "24          84 non-null object\n",
      "25          84 non-null object\n",
      "26          84 non-null object\n",
      "27          84 non-null object\n",
      "28          84 non-null object\n",
      "29          84 non-null object\n",
      "30          84 non-null object\n",
      "31          10 non-null object\n",
      "32          10 non-null object\n",
      "33          10 non-null object\n",
      "34          10 non-null object\n",
      "35          10 non-null object\n",
      "36          10 non-null object\n",
      "37          10 non-null object\n",
      "38          10 non-null object\n",
      "39          10 non-null object\n",
      "40          10 non-null object\n",
      "41          10 non-null object\n",
      "42          10 non-null object\n",
      "43          10 non-null object\n",
      "44          10 non-null object\n",
      "45          10 non-null object\n",
      "46          10 non-null object\n",
      "47          10 non-null object\n",
      "48          10 non-null object\n",
      "49          10 non-null object\n",
      "50          10 non-null object\n",
      "dtypes: float64(8), int64(10), object(77)\n",
      "memory usage: 74.3+ KB\n"
     ]
    }
   ],
   "source": [
    "df.info()"
   ]
  },
  {
   "cell_type": "code",
   "execution_count": 86,
   "metadata": {},
   "outputs": [
    {
     "data": {
      "text/plain": [
       "False    99\n",
       "True      1\n",
       "Name: 네티즌, dtype: int64"
      ]
     },
     "execution_count": 86,
     "metadata": {},
     "output_type": "execute_result"
    }
   ],
   "source": [
    "df['네티즌'].str.match(r'(.+,.+)').value_counts()"
   ]
  },
  {
   "cell_type": "code",
   "execution_count": 87,
   "metadata": {},
   "outputs": [
    {
     "data": {
      "text/html": [
       "<div>\n",
       "<style scoped>\n",
       "    .dataframe tbody tr th:only-of-type {\n",
       "        vertical-align: middle;\n",
       "    }\n",
       "\n",
       "    .dataframe tbody tr th {\n",
       "        vertical-align: top;\n",
       "    }\n",
       "\n",
       "    .dataframe thead th {\n",
       "        text-align: right;\n",
       "    }\n",
       "</style>\n",
       "<table border=\"1\" class=\"dataframe\">\n",
       "  <thead>\n",
       "    <tr style=\"text-align: right;\">\n",
       "      <th></th>\n",
       "      <th>관람객</th>\n",
       "      <th>네티즌</th>\n",
       "      <th>평론가</th>\n",
       "    </tr>\n",
       "  </thead>\n",
       "  <tbody>\n",
       "    <tr>\n",
       "      <th>61</th>\n",
       "      <td>9.2</td>\n",
       "      <td>8,38</td>\n",
       "      <td>7.15</td>\n",
       "    </tr>\n",
       "  </tbody>\n",
       "</table>\n",
       "</div>"
      ],
      "text/plain": [
       "    관람객   네티즌   평론가\n",
       "61  9.2  8,38  7.15"
      ]
     },
     "execution_count": 87,
     "metadata": {},
     "output_type": "execute_result"
    }
   ],
   "source": [
    "idx = df['네티즌'].str.match(r'(.+,.+)')\n",
    "df.loc[idx,['관람객','네티즌','평론가']]"
   ]
  },
  {
   "cell_type": "code",
   "execution_count": 88,
   "metadata": {},
   "outputs": [],
   "source": [
    "df['네티즌'] = df['네티즌'].str.replace(r'(,)','.').astype(float)\n",
    "df['관람객'] = df['관람객'].str.replace(r'(등록 전)','NaN').astype(float)\n",
    "df['남자'] = df['남자'].str.replace(r'(등록 전)','NaN').astype(float)\n",
    "df['여자'] = df['여자'].str.replace(r'(등록 전)','NaN').astype(float)\n",
    "df['10대'] = df['10대'].str.replace(r'(등록 전)','NaN').astype(float)\n",
    "df['20대'] = df['20대'].str.replace(r'(등록 전)','NaN').astype(float)\n",
    "df['30대'] = df['30대'].str.replace(r'(등록 전)','NaN').astype(float)\n",
    "df['40대'] = df['40대'].str.replace(r'(등록 전)','NaN').astype(float)\n",
    "df['50대 이상'] = df['50대 이상'].str.replace(r'(등록 전)','NaN').astype(float)\n",
    "df['영상미'] = df['영상미'].str.replace(r'(등록 전)','NaN').astype(float)\n",
    "df['스토리'] = df['스토리'].str.replace(r'(등록 전)','NaN').astype(float)\n",
    "df['연기'] = df['연기'].str.replace(r'(등록 전)','NaN').astype(float)\n",
    "df['연출'] = df['연출'].str.replace(r'(등록 전)','NaN').astype(float)\n",
    "df['남자.2'] = df['남자.2'].str.replace(r'(등록 전)','NaN').astype(float)\n",
    "df['여자.2'] = df['여자.2'].str.replace(r'(등록 전)','NaN').astype(float)\n",
    "df['10대.2'] = df['10대.2'].str.replace(r'(등록 전)','NaN').astype(float)\n",
    "df['20대.2'] = df['20대.2'].str.replace(r'(등록 전)','NaN').astype(float)\n",
    "df['30대.2'] = df['30대.2'].str.replace(r'(등록 전)','NaN').astype(float)\n",
    "df['40대.2'] = df['40대.2'].str.replace(r'(등록 전)','NaN').astype(float)\n",
    "df['50대 이상.2'] = df['50대 이상.2'].str.replace(r'(등록 전)','NaN').astype(float)\n"
   ]
  },
  {
   "cell_type": "code",
   "execution_count": 89,
   "metadata": {},
   "outputs": [
    {
     "data": {
      "text/html": [
       "<div>\n",
       "<style scoped>\n",
       "    .dataframe tbody tr th:only-of-type {\n",
       "        vertical-align: middle;\n",
       "    }\n",
       "\n",
       "    .dataframe tbody tr th {\n",
       "        vertical-align: top;\n",
       "    }\n",
       "\n",
       "    .dataframe thead th {\n",
       "        text-align: right;\n",
       "    }\n",
       "</style>\n",
       "<table border=\"1\" class=\"dataframe\">\n",
       "  <thead>\n",
       "    <tr style=\"text-align: right;\">\n",
       "      <th></th>\n",
       "      <th>순위</th>\n",
       "      <th>영화명</th>\n",
       "      <th>개봉일</th>\n",
       "      <th>매출액</th>\n",
       "      <th>관객수</th>\n",
       "      <th>스크린수</th>\n",
       "      <th>상영횟수</th>\n",
       "      <th>대표국적</th>\n",
       "      <th>국적</th>\n",
       "      <th>배급사</th>\n",
       "      <th>...</th>\n",
       "      <th>41</th>\n",
       "      <th>42</th>\n",
       "      <th>43</th>\n",
       "      <th>44</th>\n",
       "      <th>45</th>\n",
       "      <th>46</th>\n",
       "      <th>47</th>\n",
       "      <th>48</th>\n",
       "      <th>49</th>\n",
       "      <th>50</th>\n",
       "    </tr>\n",
       "  </thead>\n",
       "  <tbody>\n",
       "    <tr>\n",
       "      <th>0</th>\n",
       "      <td>1</td>\n",
       "      <td>명량</td>\n",
       "      <td>2014-07-30</td>\n",
       "      <td>135757418810</td>\n",
       "      <td>17615686</td>\n",
       "      <td>1587</td>\n",
       "      <td>188720</td>\n",
       "      <td>한국</td>\n",
       "      <td>한국</td>\n",
       "      <td>(주)씨제이이엔엠</td>\n",
       "      <td>...</td>\n",
       "      <td>명량을 봤습니다. 유튜브 돌리다가 우연히 불멸의 이순신 클립 영상을 봤는데 cg가 ...</td>\n",
       "      <td>며칠동안 많은 고민 끝을 했다. 그 동안 꽤 많은 영화를 보았는데 과연 '어떤 영화...</td>\n",
       "      <td>모두들 알고 있듯이 1597년 임진왜란이 일어난지 6년\\n\\n매우 오래 지속된 전쟁...</td>\n",
       "      <td>2014년 대종상 시상식에서 최우수작품상, 남우 주연상, 기획상, 기술상을,\\n\\n...</td>\n",
       "      <td>영화 명량, 참 오랜만에 다시보는 영화입니다. 6년전 이 영화가 개봉될 때 1700...</td>\n",
       "      <td>‘필사즉생 필생즉사’. 죽고자 하면 살 것이고, 살고자 하면 죽을 것이라는 뜻의 이...</td>\n",
       "      <td>오늘은 예전에 보았던 영화 중에 정말 재미있게 보았고 의미 있는 영화라고 \\n\\n생...</td>\n",
       "      <td>국민의 존경을 한 몸에 받는 이순신,\\n그는 누구를 위해서 싸웠는지 아직도 감이 잡...</td>\n",
       "      <td>명량해전의 승리는 영화에서 나오는 것처럼\\n몇몇 백성과 장수들의 노력이나 수군덕만은...</td>\n",
       "      <td>당시 1000만명이나 넘긴 상당해서 리뷰 지금부터 관객수도 명량 바로 영화는 명량인...</td>\n",
       "    </tr>\n",
       "  </tbody>\n",
       "</table>\n",
       "<p>1 rows × 95 columns</p>\n",
       "</div>"
      ],
      "text/plain": [
       "   순위 영화명         개봉일           매출액       관객수  스크린수    상영횟수 대표국적  국적  \\\n",
       "0   1  명량  2014-07-30  135757418810  17615686  1587  188720   한국  한국   \n",
       "\n",
       "         배급사  ...                                                 41  \\\n",
       "0  (주)씨제이이엔엠  ...  명량을 봤습니다. 유튜브 돌리다가 우연히 불멸의 이순신 클립 영상을 봤는데 cg가 ...   \n",
       "\n",
       "                                                  42  \\\n",
       "0  며칠동안 많은 고민 끝을 했다. 그 동안 꽤 많은 영화를 보았는데 과연 '어떤 영화...   \n",
       "\n",
       "                                                  43  \\\n",
       "0  모두들 알고 있듯이 1597년 임진왜란이 일어난지 6년\\n\\n매우 오래 지속된 전쟁...   \n",
       "\n",
       "                                                  44  \\\n",
       "0  2014년 대종상 시상식에서 최우수작품상, 남우 주연상, 기획상, 기술상을,\\n\\n...   \n",
       "\n",
       "                                                  45  \\\n",
       "0  영화 명량, 참 오랜만에 다시보는 영화입니다. 6년전 이 영화가 개봉될 때 1700...   \n",
       "\n",
       "                                                  46  \\\n",
       "0  ‘필사즉생 필생즉사’. 죽고자 하면 살 것이고, 살고자 하면 죽을 것이라는 뜻의 이...   \n",
       "\n",
       "                                                  47  \\\n",
       "0  오늘은 예전에 보았던 영화 중에 정말 재미있게 보았고 의미 있는 영화라고 \\n\\n생...   \n",
       "\n",
       "                                                  48  \\\n",
       "0  국민의 존경을 한 몸에 받는 이순신,\\n그는 누구를 위해서 싸웠는지 아직도 감이 잡...   \n",
       "\n",
       "                                                  49  \\\n",
       "0  명량해전의 승리는 영화에서 나오는 것처럼\\n몇몇 백성과 장수들의 노력이나 수군덕만은...   \n",
       "\n",
       "                                                  50  \n",
       "0  당시 1000만명이나 넘긴 상당해서 리뷰 지금부터 관객수도 명량 바로 영화는 명량인...  \n",
       "\n",
       "[1 rows x 95 columns]"
      ]
     },
     "execution_count": 89,
     "metadata": {},
     "output_type": "execute_result"
    }
   ],
   "source": [
    "df.head(1)"
   ]
  },
  {
   "cell_type": "code",
   "execution_count": 90,
   "metadata": {},
   "outputs": [
    {
     "data": {
      "text/plain": [
       "Index(['순위', '영화명', '개봉일', '매출액', '관객수', '스크린수', '상영횟수', '대표국적', '국적', '배급사',\n",
       "       '장르', '관람객', '평론가', '네티즌', '남자', '여자', '10대', '20대', '30대', '40대',\n",
       "       '50대 이상', 'OST', '영상미', '스토리', '연기', '연출', '남자.1', '여자.1', '10대.1',\n",
       "       '20대.1', '30대.1', '40대.1', '50대 이상.1', 'OST.1', '영상미.1', '스토리.1',\n",
       "       '연기.1', '연출.1', '남자.2', '여자.2', '10대.2', '20대.2', '30대.2', '40대.2',\n",
       "       '50대 이상.2', '1', '2', '3', '4', '5', '6', '7', '8', '9', '10', '11',\n",
       "       '12', '13', '14', '15', '16', '17', '18', '19', '20', '21', '22', '23',\n",
       "       '24', '25', '26', '27', '28', '29', '30', '31', '32', '33', '34', '35',\n",
       "       '36', '37', '38', '39', '40', '41', '42', '43', '44', '45', '46', '47',\n",
       "       '48', '49', '50'],\n",
       "      dtype='object')"
      ]
     },
     "execution_count": 90,
     "metadata": {},
     "output_type": "execute_result"
    }
   ],
   "source": [
    "df.columns"
   ]
  },
  {
   "cell_type": "code",
   "execution_count": 91,
   "metadata": {},
   "outputs": [],
   "source": [
    "import seaborn as sns\n",
    "import matplotlib.pyplot as plt"
   ]
  },
  {
   "cell_type": "code",
   "execution_count": 92,
   "metadata": {},
   "outputs": [
    {
     "data": {
      "text/plain": [
       "<matplotlib.axes._subplots.AxesSubplot at 0x7f44445d0e48>"
      ]
     },
     "execution_count": 92,
     "metadata": {},
     "output_type": "execute_result"
    },
    {
     "data": {
      "image/png": "[encoded data removed]",
      "text/plain": [
       "<matplotlib.figure.Figure at 0x7f44448717f0>"
      ]
     },
     "metadata": {
      "needs_background": "light"
     },
     "output_type": "display_data"
    }
   ],
   "source": [
    "sns.scatterplot(x=\"매출액\", y=\"관객수\", data=df, palette=\"Set2\")"
   ]
  },
  {
   "cell_type": "code",
   "execution_count": 93,
   "metadata": {},
   "outputs": [
    {
     "data": {
      "text/plain": [
       "<matplotlib.axes._subplots.AxesSubplot at 0x7f4444680a58>"
      ]
     },
     "execution_count": 93,
     "metadata": {},
     "output_type": "execute_result"
    },
    {
     "data": {
      "image/png": "[encoded data removed]",
      "text/plain": [
       "<matplotlib.figure.Figure at 0x7f4444736c50>"
      ]
     },
     "metadata": {
      "needs_background": "light"
     },
     "output_type": "display_data"
    }
   ],
   "source": [
    "sns.scatterplot(x=\"스크린수\", y=\"상영횟수\", data=df, palette=\"Set2\")"
   ]
  },
  {
   "cell_type": "code",
   "execution_count": 94,
   "metadata": {},
   "outputs": [
    {
     "data": {
      "text/plain": [
       "<matplotlib.axes._subplots.AxesSubplot at 0x7f44448475f8>"
      ]
     },
     "execution_count": 94,
     "metadata": {},
     "output_type": "execute_result"
    },
    {
     "data": {
      "image/png": "[encoded data removed]",
      "text/plain": [
       "<matplotlib.figure.Figure at 0x7f44446ef358>"
      ]
     },
     "metadata": {
      "needs_background": "light"
     },
     "output_type": "display_data"
    }
   ],
   "source": [
    "sns.scatterplot(x=\"평론가\", y=\"네티즌\", data=df, palette=\"Set2\")"
   ]
  },
  {
   "cell_type": "code",
   "execution_count": 95,
   "metadata": {},
   "outputs": [
    {
     "data": {
      "text/plain": [
       "<matplotlib.axes._subplots.AxesSubplot at 0x7f44445a9978>"
      ]
     },
     "execution_count": 95,
     "metadata": {},
     "output_type": "execute_result"
    },
    {
     "data": {
      "image/png": "[encoded data removed]",
      "text/plain": [
       "<matplotlib.figure.Figure at 0x7f4444504b70>"
      ]
     },
     "metadata": {
      "needs_background": "light"
     },
     "output_type": "display_data"
    }
   ],
   "source": [
    "sns.scatterplot(x=\"관람객\", y=\"네티즌\", data=df, palette=\"Set2\")"
   ]
  },
  {
   "cell_type": "code",
   "execution_count": 96,
   "metadata": {},
   "outputs": [
    {
     "data": {
      "text/plain": [
       "<matplotlib.axes._subplots.AxesSubplot at 0x7f4444468240>"
      ]
     },
     "execution_count": 96,
     "metadata": {},
     "output_type": "execute_result"
    },
    {
     "data": {
      "image/png": "[encoded data removed]",
      "text/plain": [
       "<matplotlib.figure.Figure at 0x7f44444716a0>"
      ]
     },
     "metadata": {
      "needs_background": "light"
     },
     "output_type": "display_data"
    }
   ],
   "source": [
    "sns.scatterplot(x=\"관람객\", y=\"평론가\", data=df, palette=\"Set2\")"
   ]
  },
  {
   "cell_type": "code",
   "execution_count": null,
   "metadata": {},
   "outputs": [],
   "source": []
  }
 ],
 "metadata": {
  "kernelspec": {
   "display_name": "Python 3",
   "language": "python",
   "name": "python3"
  },
  "language_info": {
   "codemirror_mode": {
    "name": "ipython",
    "version": 3
   },
   "file_extension": ".py",
   "mimetype": "text/x-python",
   "name": "python",
   "nbconvert_exporter": "python",
   "pygments_lexer": "ipython3",
   "version": "3.5.2"
  }
 },
 "nbformat": 4,
 "nbformat_minor": 2
}
